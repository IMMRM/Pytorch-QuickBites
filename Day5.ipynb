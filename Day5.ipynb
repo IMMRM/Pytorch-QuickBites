{
 "cells": [
  {
   "cell_type": "markdown",
   "id": "24971179",
   "metadata": {},
   "source": [
    "## Building ANN using PyTorch from Scratch"
   ]
  },
  {
   "cell_type": "markdown",
   "id": "f41d3b10",
   "metadata": {},
   "source": [
    "* We're going to create our first ANN network that will get trained over Fashion MNIST dataset\n",
    "* The dataset is a cropped out version of original version which contains 6k records."
   ]
  },
  {
   "cell_type": "markdown",
   "id": "1357ec6a",
   "metadata": {},
   "source": [
    "#### Arcitecture:\n",
    "* Input : 784\n",
    "* Hidden layer 1: 784 -> 128\n",
    "* ReLU()\n",
    "* Hidden layer 2: 128 -> 64\n",
    "* ReLU()\n",
    "* Output Layer 3: 64 -> 10\n",
    "* Why not softmax in output? Well our Binary Cross Entropy already has softmax built in itself"
   ]
  },
  {
   "cell_type": "markdown",
   "id": "84521f8d",
   "metadata": {},
   "source": [
    "* At first we gonna build our CustomDataset Class"
   ]
  },
  {
   "cell_type": "code",
   "execution_count": 157,
   "id": "282415e6",
   "metadata": {},
   "outputs": [],
   "source": [
    "#importing standard libraries\n",
    "import torch\n",
    "from torch.utils.data import Dataset, DataLoader\n",
    "import torch.nn as nn\n",
    "import pandas as pd\n",
    "from sklearn.model_selection import train_test_split\n",
    "import matplotlib.pyplot as plt\n",
    "import torch.optim as optim"
   ]
  },
  {
   "cell_type": "code",
   "execution_count": 158,
   "id": "114b843a",
   "metadata": {},
   "outputs": [
    {
     "data": {
      "application/vnd.microsoft.datawrangler.viewer.v0+json": {
       "columns": [
        {
         "name": "index",
         "rawType": "int64",
         "type": "integer"
        },
        {
         "name": "label",
         "rawType": "int64",
         "type": "integer"
        },
        {
         "name": "pixel1",
         "rawType": "int64",
         "type": "integer"
        },
        {
         "name": "pixel2",
         "rawType": "int64",
         "type": "integer"
        },
        {
         "name": "pixel3",
         "rawType": "int64",
         "type": "integer"
        },
        {
         "name": "pixel4",
         "rawType": "int64",
         "type": "integer"
        },
        {
         "name": "pixel5",
         "rawType": "int64",
         "type": "integer"
        },
        {
         "name": "pixel6",
         "rawType": "int64",
         "type": "integer"
        },
        {
         "name": "pixel7",
         "rawType": "int64",
         "type": "integer"
        },
        {
         "name": "pixel8",
         "rawType": "int64",
         "type": "integer"
        },
        {
         "name": "pixel9",
         "rawType": "int64",
         "type": "integer"
        },
        {
         "name": "pixel10",
         "rawType": "int64",
         "type": "integer"
        },
        {
         "name": "pixel11",
         "rawType": "int64",
         "type": "integer"
        },
        {
         "name": "pixel12",
         "rawType": "int64",
         "type": "integer"
        },
        {
         "name": "pixel13",
         "rawType": "int64",
         "type": "integer"
        },
        {
         "name": "pixel14",
         "rawType": "int64",
         "type": "integer"
        },
        {
         "name": "pixel15",
         "rawType": "int64",
         "type": "integer"
        },
        {
         "name": "pixel16",
         "rawType": "int64",
         "type": "integer"
        },
        {
         "name": "pixel17",
         "rawType": "int64",
         "type": "integer"
        },
        {
         "name": "pixel18",
         "rawType": "int64",
         "type": "integer"
        },
        {
         "name": "pixel19",
         "rawType": "int64",
         "type": "integer"
        },
        {
         "name": "pixel20",
         "rawType": "int64",
         "type": "integer"
        },
        {
         "name": "pixel21",
         "rawType": "int64",
         "type": "integer"
        },
        {
         "name": "pixel22",
         "rawType": "int64",
         "type": "integer"
        },
        {
         "name": "pixel23",
         "rawType": "int64",
         "type": "integer"
        },
        {
         "name": "pixel24",
         "rawType": "int64",
         "type": "integer"
        },
        {
         "name": "pixel25",
         "rawType": "int64",
         "type": "integer"
        },
        {
         "name": "pixel26",
         "rawType": "int64",
         "type": "integer"
        },
        {
         "name": "pixel27",
         "rawType": "int64",
         "type": "integer"
        },
        {
         "name": "pixel28",
         "rawType": "int64",
         "type": "integer"
        },
        {
         "name": "pixel29",
         "rawType": "int64",
         "type": "integer"
        },
        {
         "name": "pixel30",
         "rawType": "int64",
         "type": "integer"
        },
        {
         "name": "pixel31",
         "rawType": "int64",
         "type": "integer"
        },
        {
         "name": "pixel32",
         "rawType": "int64",
         "type": "integer"
        },
        {
         "name": "pixel33",
         "rawType": "int64",
         "type": "integer"
        },
        {
         "name": "pixel34",
         "rawType": "int64",
         "type": "integer"
        },
        {
         "name": "pixel35",
         "rawType": "int64",
         "type": "integer"
        },
        {
         "name": "pixel36",
         "rawType": "int64",
         "type": "integer"
        },
        {
         "name": "pixel37",
         "rawType": "int64",
         "type": "integer"
        },
        {
         "name": "pixel38",
         "rawType": "int64",
         "type": "integer"
        },
        {
         "name": "pixel39",
         "rawType": "int64",
         "type": "integer"
        },
        {
         "name": "pixel40",
         "rawType": "int64",
         "type": "integer"
        },
        {
         "name": "pixel41",
         "rawType": "int64",
         "type": "integer"
        },
        {
         "name": "pixel42",
         "rawType": "int64",
         "type": "integer"
        },
        {
         "name": "pixel43",
         "rawType": "int64",
         "type": "integer"
        },
        {
         "name": "pixel44",
         "rawType": "int64",
         "type": "integer"
        },
        {
         "name": "pixel45",
         "rawType": "int64",
         "type": "integer"
        },
        {
         "name": "pixel46",
         "rawType": "int64",
         "type": "integer"
        },
        {
         "name": "pixel47",
         "rawType": "int64",
         "type": "integer"
        },
        {
         "name": "pixel48",
         "rawType": "int64",
         "type": "integer"
        },
        {
         "name": "pixel49",
         "rawType": "int64",
         "type": "integer"
        },
        {
         "name": "pixel50",
         "rawType": "int64",
         "type": "integer"
        },
        {
         "name": "pixel51",
         "rawType": "int64",
         "type": "integer"
        },
        {
         "name": "pixel52",
         "rawType": "int64",
         "type": "integer"
        },
        {
         "name": "pixel53",
         "rawType": "int64",
         "type": "integer"
        },
        {
         "name": "pixel54",
         "rawType": "int64",
         "type": "integer"
        },
        {
         "name": "pixel55",
         "rawType": "int64",
         "type": "integer"
        },
        {
         "name": "pixel56",
         "rawType": "int64",
         "type": "integer"
        },
        {
         "name": "pixel57",
         "rawType": "int64",
         "type": "integer"
        },
        {
         "name": "pixel58",
         "rawType": "int64",
         "type": "integer"
        },
        {
         "name": "pixel59",
         "rawType": "int64",
         "type": "integer"
        },
        {
         "name": "pixel60",
         "rawType": "int64",
         "type": "integer"
        },
        {
         "name": "pixel61",
         "rawType": "int64",
         "type": "integer"
        },
        {
         "name": "pixel62",
         "rawType": "int64",
         "type": "integer"
        },
        {
         "name": "pixel63",
         "rawType": "int64",
         "type": "integer"
        },
        {
         "name": "pixel64",
         "rawType": "int64",
         "type": "integer"
        },
        {
         "name": "pixel65",
         "rawType": "int64",
         "type": "integer"
        },
        {
         "name": "pixel66",
         "rawType": "int64",
         "type": "integer"
        },
        {
         "name": "pixel67",
         "rawType": "int64",
         "type": "integer"
        },
        {
         "name": "pixel68",
         "rawType": "int64",
         "type": "integer"
        },
        {
         "name": "pixel69",
         "rawType": "int64",
         "type": "integer"
        },
        {
         "name": "pixel70",
         "rawType": "int64",
         "type": "integer"
        },
        {
         "name": "pixel71",
         "rawType": "int64",
         "type": "integer"
        },
        {
         "name": "pixel72",
         "rawType": "int64",
         "type": "integer"
        },
        {
         "name": "pixel73",
         "rawType": "int64",
         "type": "integer"
        },
        {
         "name": "pixel74",
         "rawType": "int64",
         "type": "integer"
        },
        {
         "name": "pixel75",
         "rawType": "int64",
         "type": "integer"
        },
        {
         "name": "pixel76",
         "rawType": "int64",
         "type": "integer"
        },
        {
         "name": "pixel77",
         "rawType": "int64",
         "type": "integer"
        },
        {
         "name": "pixel78",
         "rawType": "int64",
         "type": "integer"
        },
        {
         "name": "pixel79",
         "rawType": "int64",
         "type": "integer"
        },
        {
         "name": "pixel80",
         "rawType": "int64",
         "type": "integer"
        },
        {
         "name": "pixel81",
         "rawType": "int64",
         "type": "integer"
        },
        {
         "name": "pixel82",
         "rawType": "int64",
         "type": "integer"
        },
        {
         "name": "pixel83",
         "rawType": "int64",
         "type": "integer"
        },
        {
         "name": "pixel84",
         "rawType": "int64",
         "type": "integer"
        },
        {
         "name": "pixel85",
         "rawType": "int64",
         "type": "integer"
        },
        {
         "name": "pixel86",
         "rawType": "int64",
         "type": "integer"
        },
        {
         "name": "pixel87",
         "rawType": "int64",
         "type": "integer"
        },
        {
         "name": "pixel88",
         "rawType": "int64",
         "type": "integer"
        },
        {
         "name": "pixel89",
         "rawType": "int64",
         "type": "integer"
        },
        {
         "name": "pixel90",
         "rawType": "int64",
         "type": "integer"
        },
        {
         "name": "pixel91",
         "rawType": "int64",
         "type": "integer"
        },
        {
         "name": "pixel92",
         "rawType": "int64",
         "type": "integer"
        },
        {
         "name": "pixel93",
         "rawType": "int64",
         "type": "integer"
        },
        {
         "name": "pixel94",
         "rawType": "int64",
         "type": "integer"
        },
        {
         "name": "pixel95",
         "rawType": "int64",
         "type": "integer"
        },
        {
         "name": "pixel96",
         "rawType": "int64",
         "type": "integer"
        },
        {
         "name": "pixel97",
         "rawType": "int64",
         "type": "integer"
        },
        {
         "name": "pixel98",
         "rawType": "int64",
         "type": "integer"
        },
        {
         "name": "pixel99",
         "rawType": "int64",
         "type": "integer"
        },
        {
         "name": "pixel100",
         "rawType": "int64",
         "type": "integer"
        },
        {
         "name": "pixel101",
         "rawType": "int64",
         "type": "integer"
        },
        {
         "name": "pixel102",
         "rawType": "int64",
         "type": "integer"
        },
        {
         "name": "pixel103",
         "rawType": "int64",
         "type": "integer"
        },
        {
         "name": "pixel104",
         "rawType": "int64",
         "type": "integer"
        },
        {
         "name": "pixel105",
         "rawType": "int64",
         "type": "integer"
        },
        {
         "name": "pixel106",
         "rawType": "int64",
         "type": "integer"
        },
        {
         "name": "pixel107",
         "rawType": "int64",
         "type": "integer"
        },
        {
         "name": "pixel108",
         "rawType": "int64",
         "type": "integer"
        },
        {
         "name": "pixel109",
         "rawType": "int64",
         "type": "integer"
        },
        {
         "name": "pixel110",
         "rawType": "int64",
         "type": "integer"
        },
        {
         "name": "pixel111",
         "rawType": "int64",
         "type": "integer"
        },
        {
         "name": "pixel112",
         "rawType": "int64",
         "type": "integer"
        },
        {
         "name": "pixel113",
         "rawType": "int64",
         "type": "integer"
        },
        {
         "name": "pixel114",
         "rawType": "int64",
         "type": "integer"
        },
        {
         "name": "pixel115",
         "rawType": "int64",
         "type": "integer"
        },
        {
         "name": "pixel116",
         "rawType": "int64",
         "type": "integer"
        },
        {
         "name": "pixel117",
         "rawType": "int64",
         "type": "integer"
        },
        {
         "name": "pixel118",
         "rawType": "int64",
         "type": "integer"
        },
        {
         "name": "pixel119",
         "rawType": "int64",
         "type": "integer"
        },
        {
         "name": "pixel120",
         "rawType": "int64",
         "type": "integer"
        },
        {
         "name": "pixel121",
         "rawType": "int64",
         "type": "integer"
        },
        {
         "name": "pixel122",
         "rawType": "int64",
         "type": "integer"
        },
        {
         "name": "pixel123",
         "rawType": "int64",
         "type": "integer"
        },
        {
         "name": "pixel124",
         "rawType": "int64",
         "type": "integer"
        },
        {
         "name": "pixel125",
         "rawType": "int64",
         "type": "integer"
        },
        {
         "name": "pixel126",
         "rawType": "int64",
         "type": "integer"
        },
        {
         "name": "pixel127",
         "rawType": "int64",
         "type": "integer"
        },
        {
         "name": "pixel128",
         "rawType": "int64",
         "type": "integer"
        },
        {
         "name": "pixel129",
         "rawType": "int64",
         "type": "integer"
        },
        {
         "name": "pixel130",
         "rawType": "int64",
         "type": "integer"
        },
        {
         "name": "pixel131",
         "rawType": "int64",
         "type": "integer"
        },
        {
         "name": "pixel132",
         "rawType": "int64",
         "type": "integer"
        },
        {
         "name": "pixel133",
         "rawType": "int64",
         "type": "integer"
        },
        {
         "name": "pixel134",
         "rawType": "int64",
         "type": "integer"
        },
        {
         "name": "pixel135",
         "rawType": "int64",
         "type": "integer"
        },
        {
         "name": "pixel136",
         "rawType": "int64",
         "type": "integer"
        },
        {
         "name": "pixel137",
         "rawType": "int64",
         "type": "integer"
        },
        {
         "name": "pixel138",
         "rawType": "int64",
         "type": "integer"
        },
        {
         "name": "pixel139",
         "rawType": "int64",
         "type": "integer"
        },
        {
         "name": "pixel140",
         "rawType": "int64",
         "type": "integer"
        },
        {
         "name": "pixel141",
         "rawType": "int64",
         "type": "integer"
        },
        {
         "name": "pixel142",
         "rawType": "int64",
         "type": "integer"
        },
        {
         "name": "pixel143",
         "rawType": "int64",
         "type": "integer"
        },
        {
         "name": "pixel144",
         "rawType": "int64",
         "type": "integer"
        },
        {
         "name": "pixel145",
         "rawType": "int64",
         "type": "integer"
        },
        {
         "name": "pixel146",
         "rawType": "int64",
         "type": "integer"
        },
        {
         "name": "pixel147",
         "rawType": "int64",
         "type": "integer"
        },
        {
         "name": "pixel148",
         "rawType": "int64",
         "type": "integer"
        },
        {
         "name": "pixel149",
         "rawType": "int64",
         "type": "integer"
        },
        {
         "name": "pixel150",
         "rawType": "int64",
         "type": "integer"
        },
        {
         "name": "pixel151",
         "rawType": "int64",
         "type": "integer"
        },
        {
         "name": "pixel152",
         "rawType": "int64",
         "type": "integer"
        },
        {
         "name": "pixel153",
         "rawType": "int64",
         "type": "integer"
        },
        {
         "name": "pixel154",
         "rawType": "int64",
         "type": "integer"
        },
        {
         "name": "pixel155",
         "rawType": "int64",
         "type": "integer"
        },
        {
         "name": "pixel156",
         "rawType": "int64",
         "type": "integer"
        },
        {
         "name": "pixel157",
         "rawType": "int64",
         "type": "integer"
        },
        {
         "name": "pixel158",
         "rawType": "int64",
         "type": "integer"
        },
        {
         "name": "pixel159",
         "rawType": "int64",
         "type": "integer"
        },
        {
         "name": "pixel160",
         "rawType": "int64",
         "type": "integer"
        },
        {
         "name": "pixel161",
         "rawType": "int64",
         "type": "integer"
        },
        {
         "name": "pixel162",
         "rawType": "int64",
         "type": "integer"
        },
        {
         "name": "pixel163",
         "rawType": "int64",
         "type": "integer"
        },
        {
         "name": "pixel164",
         "rawType": "int64",
         "type": "integer"
        },
        {
         "name": "pixel165",
         "rawType": "int64",
         "type": "integer"
        },
        {
         "name": "pixel166",
         "rawType": "int64",
         "type": "integer"
        },
        {
         "name": "pixel167",
         "rawType": "int64",
         "type": "integer"
        },
        {
         "name": "pixel168",
         "rawType": "int64",
         "type": "integer"
        },
        {
         "name": "pixel169",
         "rawType": "int64",
         "type": "integer"
        },
        {
         "name": "pixel170",
         "rawType": "int64",
         "type": "integer"
        },
        {
         "name": "pixel171",
         "rawType": "int64",
         "type": "integer"
        },
        {
         "name": "pixel172",
         "rawType": "int64",
         "type": "integer"
        },
        {
         "name": "pixel173",
         "rawType": "int64",
         "type": "integer"
        },
        {
         "name": "pixel174",
         "rawType": "int64",
         "type": "integer"
        },
        {
         "name": "pixel175",
         "rawType": "int64",
         "type": "integer"
        },
        {
         "name": "pixel176",
         "rawType": "int64",
         "type": "integer"
        },
        {
         "name": "pixel177",
         "rawType": "int64",
         "type": "integer"
        },
        {
         "name": "pixel178",
         "rawType": "int64",
         "type": "integer"
        },
        {
         "name": "pixel179",
         "rawType": "int64",
         "type": "integer"
        },
        {
         "name": "pixel180",
         "rawType": "int64",
         "type": "integer"
        },
        {
         "name": "pixel181",
         "rawType": "int64",
         "type": "integer"
        },
        {
         "name": "pixel182",
         "rawType": "int64",
         "type": "integer"
        },
        {
         "name": "pixel183",
         "rawType": "int64",
         "type": "integer"
        },
        {
         "name": "pixel184",
         "rawType": "int64",
         "type": "integer"
        },
        {
         "name": "pixel185",
         "rawType": "int64",
         "type": "integer"
        },
        {
         "name": "pixel186",
         "rawType": "int64",
         "type": "integer"
        },
        {
         "name": "pixel187",
         "rawType": "int64",
         "type": "integer"
        },
        {
         "name": "pixel188",
         "rawType": "int64",
         "type": "integer"
        },
        {
         "name": "pixel189",
         "rawType": "int64",
         "type": "integer"
        },
        {
         "name": "pixel190",
         "rawType": "int64",
         "type": "integer"
        },
        {
         "name": "pixel191",
         "rawType": "int64",
         "type": "integer"
        },
        {
         "name": "pixel192",
         "rawType": "int64",
         "type": "integer"
        },
        {
         "name": "pixel193",
         "rawType": "int64",
         "type": "integer"
        },
        {
         "name": "pixel194",
         "rawType": "int64",
         "type": "integer"
        },
        {
         "name": "pixel195",
         "rawType": "int64",
         "type": "integer"
        },
        {
         "name": "pixel196",
         "rawType": "int64",
         "type": "integer"
        },
        {
         "name": "pixel197",
         "rawType": "int64",
         "type": "integer"
        },
        {
         "name": "pixel198",
         "rawType": "int64",
         "type": "integer"
        },
        {
         "name": "pixel199",
         "rawType": "int64",
         "type": "integer"
        },
        {
         "name": "pixel200",
         "rawType": "int64",
         "type": "integer"
        },
        {
         "name": "pixel201",
         "rawType": "int64",
         "type": "integer"
        },
        {
         "name": "pixel202",
         "rawType": "int64",
         "type": "integer"
        },
        {
         "name": "pixel203",
         "rawType": "int64",
         "type": "integer"
        },
        {
         "name": "pixel204",
         "rawType": "int64",
         "type": "integer"
        },
        {
         "name": "pixel205",
         "rawType": "int64",
         "type": "integer"
        },
        {
         "name": "pixel206",
         "rawType": "int64",
         "type": "integer"
        },
        {
         "name": "pixel207",
         "rawType": "int64",
         "type": "integer"
        },
        {
         "name": "pixel208",
         "rawType": "int64",
         "type": "integer"
        },
        {
         "name": "pixel209",
         "rawType": "int64",
         "type": "integer"
        },
        {
         "name": "pixel210",
         "rawType": "int64",
         "type": "integer"
        },
        {
         "name": "pixel211",
         "rawType": "int64",
         "type": "integer"
        },
        {
         "name": "pixel212",
         "rawType": "int64",
         "type": "integer"
        },
        {
         "name": "pixel213",
         "rawType": "int64",
         "type": "integer"
        },
        {
         "name": "pixel214",
         "rawType": "int64",
         "type": "integer"
        },
        {
         "name": "pixel215",
         "rawType": "int64",
         "type": "integer"
        },
        {
         "name": "pixel216",
         "rawType": "int64",
         "type": "integer"
        },
        {
         "name": "pixel217",
         "rawType": "int64",
         "type": "integer"
        },
        {
         "name": "pixel218",
         "rawType": "int64",
         "type": "integer"
        },
        {
         "name": "pixel219",
         "rawType": "int64",
         "type": "integer"
        },
        {
         "name": "pixel220",
         "rawType": "int64",
         "type": "integer"
        },
        {
         "name": "pixel221",
         "rawType": "int64",
         "type": "integer"
        },
        {
         "name": "pixel222",
         "rawType": "int64",
         "type": "integer"
        },
        {
         "name": "pixel223",
         "rawType": "int64",
         "type": "integer"
        },
        {
         "name": "pixel224",
         "rawType": "int64",
         "type": "integer"
        },
        {
         "name": "pixel225",
         "rawType": "int64",
         "type": "integer"
        },
        {
         "name": "pixel226",
         "rawType": "int64",
         "type": "integer"
        },
        {
         "name": "pixel227",
         "rawType": "int64",
         "type": "integer"
        },
        {
         "name": "pixel228",
         "rawType": "int64",
         "type": "integer"
        },
        {
         "name": "pixel229",
         "rawType": "int64",
         "type": "integer"
        },
        {
         "name": "pixel230",
         "rawType": "int64",
         "type": "integer"
        },
        {
         "name": "pixel231",
         "rawType": "int64",
         "type": "integer"
        },
        {
         "name": "pixel232",
         "rawType": "int64",
         "type": "integer"
        },
        {
         "name": "pixel233",
         "rawType": "int64",
         "type": "integer"
        },
        {
         "name": "pixel234",
         "rawType": "int64",
         "type": "integer"
        },
        {
         "name": "pixel235",
         "rawType": "int64",
         "type": "integer"
        },
        {
         "name": "pixel236",
         "rawType": "int64",
         "type": "integer"
        },
        {
         "name": "pixel237",
         "rawType": "int64",
         "type": "integer"
        },
        {
         "name": "pixel238",
         "rawType": "int64",
         "type": "integer"
        },
        {
         "name": "pixel239",
         "rawType": "int64",
         "type": "integer"
        },
        {
         "name": "pixel240",
         "rawType": "int64",
         "type": "integer"
        },
        {
         "name": "pixel241",
         "rawType": "int64",
         "type": "integer"
        },
        {
         "name": "pixel242",
         "rawType": "int64",
         "type": "integer"
        },
        {
         "name": "pixel243",
         "rawType": "int64",
         "type": "integer"
        },
        {
         "name": "pixel244",
         "rawType": "int64",
         "type": "integer"
        },
        {
         "name": "pixel245",
         "rawType": "int64",
         "type": "integer"
        },
        {
         "name": "pixel246",
         "rawType": "int64",
         "type": "integer"
        },
        {
         "name": "pixel247",
         "rawType": "int64",
         "type": "integer"
        },
        {
         "name": "pixel248",
         "rawType": "int64",
         "type": "integer"
        },
        {
         "name": "pixel249",
         "rawType": "int64",
         "type": "integer"
        },
        {
         "name": "pixel250",
         "rawType": "int64",
         "type": "integer"
        },
        {
         "name": "pixel251",
         "rawType": "int64",
         "type": "integer"
        },
        {
         "name": "pixel252",
         "rawType": "int64",
         "type": "integer"
        },
        {
         "name": "pixel253",
         "rawType": "int64",
         "type": "integer"
        },
        {
         "name": "pixel254",
         "rawType": "int64",
         "type": "integer"
        },
        {
         "name": "pixel255",
         "rawType": "int64",
         "type": "integer"
        },
        {
         "name": "pixel256",
         "rawType": "int64",
         "type": "integer"
        },
        {
         "name": "pixel257",
         "rawType": "int64",
         "type": "integer"
        },
        {
         "name": "pixel258",
         "rawType": "int64",
         "type": "integer"
        },
        {
         "name": "pixel259",
         "rawType": "int64",
         "type": "integer"
        },
        {
         "name": "pixel260",
         "rawType": "int64",
         "type": "integer"
        },
        {
         "name": "pixel261",
         "rawType": "int64",
         "type": "integer"
        },
        {
         "name": "pixel262",
         "rawType": "int64",
         "type": "integer"
        },
        {
         "name": "pixel263",
         "rawType": "int64",
         "type": "integer"
        },
        {
         "name": "pixel264",
         "rawType": "int64",
         "type": "integer"
        },
        {
         "name": "pixel265",
         "rawType": "int64",
         "type": "integer"
        },
        {
         "name": "pixel266",
         "rawType": "int64",
         "type": "integer"
        },
        {
         "name": "pixel267",
         "rawType": "int64",
         "type": "integer"
        },
        {
         "name": "pixel268",
         "rawType": "int64",
         "type": "integer"
        },
        {
         "name": "pixel269",
         "rawType": "int64",
         "type": "integer"
        },
        {
         "name": "pixel270",
         "rawType": "int64",
         "type": "integer"
        },
        {
         "name": "pixel271",
         "rawType": "int64",
         "type": "integer"
        },
        {
         "name": "pixel272",
         "rawType": "int64",
         "type": "integer"
        },
        {
         "name": "pixel273",
         "rawType": "int64",
         "type": "integer"
        },
        {
         "name": "pixel274",
         "rawType": "int64",
         "type": "integer"
        },
        {
         "name": "pixel275",
         "rawType": "int64",
         "type": "integer"
        },
        {
         "name": "pixel276",
         "rawType": "int64",
         "type": "integer"
        },
        {
         "name": "pixel277",
         "rawType": "int64",
         "type": "integer"
        },
        {
         "name": "pixel278",
         "rawType": "int64",
         "type": "integer"
        },
        {
         "name": "pixel279",
         "rawType": "int64",
         "type": "integer"
        },
        {
         "name": "pixel280",
         "rawType": "int64",
         "type": "integer"
        },
        {
         "name": "pixel281",
         "rawType": "int64",
         "type": "integer"
        },
        {
         "name": "pixel282",
         "rawType": "int64",
         "type": "integer"
        },
        {
         "name": "pixel283",
         "rawType": "int64",
         "type": "integer"
        },
        {
         "name": "pixel284",
         "rawType": "int64",
         "type": "integer"
        },
        {
         "name": "pixel285",
         "rawType": "int64",
         "type": "integer"
        },
        {
         "name": "pixel286",
         "rawType": "int64",
         "type": "integer"
        },
        {
         "name": "pixel287",
         "rawType": "int64",
         "type": "integer"
        },
        {
         "name": "pixel288",
         "rawType": "int64",
         "type": "integer"
        },
        {
         "name": "pixel289",
         "rawType": "int64",
         "type": "integer"
        },
        {
         "name": "pixel290",
         "rawType": "int64",
         "type": "integer"
        },
        {
         "name": "pixel291",
         "rawType": "int64",
         "type": "integer"
        },
        {
         "name": "pixel292",
         "rawType": "int64",
         "type": "integer"
        },
        {
         "name": "pixel293",
         "rawType": "int64",
         "type": "integer"
        },
        {
         "name": "pixel294",
         "rawType": "int64",
         "type": "integer"
        },
        {
         "name": "pixel295",
         "rawType": "int64",
         "type": "integer"
        },
        {
         "name": "pixel296",
         "rawType": "int64",
         "type": "integer"
        },
        {
         "name": "pixel297",
         "rawType": "int64",
         "type": "integer"
        },
        {
         "name": "pixel298",
         "rawType": "int64",
         "type": "integer"
        },
        {
         "name": "pixel299",
         "rawType": "int64",
         "type": "integer"
        },
        {
         "name": "pixel300",
         "rawType": "int64",
         "type": "integer"
        },
        {
         "name": "pixel301",
         "rawType": "int64",
         "type": "integer"
        },
        {
         "name": "pixel302",
         "rawType": "int64",
         "type": "integer"
        },
        {
         "name": "pixel303",
         "rawType": "int64",
         "type": "integer"
        },
        {
         "name": "pixel304",
         "rawType": "int64",
         "type": "integer"
        },
        {
         "name": "pixel305",
         "rawType": "int64",
         "type": "integer"
        },
        {
         "name": "pixel306",
         "rawType": "int64",
         "type": "integer"
        },
        {
         "name": "pixel307",
         "rawType": "int64",
         "type": "integer"
        },
        {
         "name": "pixel308",
         "rawType": "int64",
         "type": "integer"
        },
        {
         "name": "pixel309",
         "rawType": "int64",
         "type": "integer"
        },
        {
         "name": "pixel310",
         "rawType": "int64",
         "type": "integer"
        },
        {
         "name": "pixel311",
         "rawType": "int64",
         "type": "integer"
        },
        {
         "name": "pixel312",
         "rawType": "int64",
         "type": "integer"
        },
        {
         "name": "pixel313",
         "rawType": "int64",
         "type": "integer"
        },
        {
         "name": "pixel314",
         "rawType": "int64",
         "type": "integer"
        },
        {
         "name": "pixel315",
         "rawType": "int64",
         "type": "integer"
        },
        {
         "name": "pixel316",
         "rawType": "int64",
         "type": "integer"
        },
        {
         "name": "pixel317",
         "rawType": "int64",
         "type": "integer"
        },
        {
         "name": "pixel318",
         "rawType": "int64",
         "type": "integer"
        },
        {
         "name": "pixel319",
         "rawType": "int64",
         "type": "integer"
        },
        {
         "name": "pixel320",
         "rawType": "int64",
         "type": "integer"
        },
        {
         "name": "pixel321",
         "rawType": "int64",
         "type": "integer"
        },
        {
         "name": "pixel322",
         "rawType": "int64",
         "type": "integer"
        },
        {
         "name": "pixel323",
         "rawType": "int64",
         "type": "integer"
        },
        {
         "name": "pixel324",
         "rawType": "int64",
         "type": "integer"
        },
        {
         "name": "pixel325",
         "rawType": "int64",
         "type": "integer"
        },
        {
         "name": "pixel326",
         "rawType": "int64",
         "type": "integer"
        },
        {
         "name": "pixel327",
         "rawType": "int64",
         "type": "integer"
        },
        {
         "name": "pixel328",
         "rawType": "int64",
         "type": "integer"
        },
        {
         "name": "pixel329",
         "rawType": "int64",
         "type": "integer"
        },
        {
         "name": "pixel330",
         "rawType": "int64",
         "type": "integer"
        },
        {
         "name": "pixel331",
         "rawType": "int64",
         "type": "integer"
        },
        {
         "name": "pixel332",
         "rawType": "int64",
         "type": "integer"
        },
        {
         "name": "pixel333",
         "rawType": "int64",
         "type": "integer"
        },
        {
         "name": "pixel334",
         "rawType": "int64",
         "type": "integer"
        },
        {
         "name": "pixel335",
         "rawType": "int64",
         "type": "integer"
        },
        {
         "name": "pixel336",
         "rawType": "int64",
         "type": "integer"
        },
        {
         "name": "pixel337",
         "rawType": "int64",
         "type": "integer"
        },
        {
         "name": "pixel338",
         "rawType": "int64",
         "type": "integer"
        },
        {
         "name": "pixel339",
         "rawType": "int64",
         "type": "integer"
        },
        {
         "name": "pixel340",
         "rawType": "int64",
         "type": "integer"
        },
        {
         "name": "pixel341",
         "rawType": "int64",
         "type": "integer"
        },
        {
         "name": "pixel342",
         "rawType": "int64",
         "type": "integer"
        },
        {
         "name": "pixel343",
         "rawType": "int64",
         "type": "integer"
        },
        {
         "name": "pixel344",
         "rawType": "int64",
         "type": "integer"
        },
        {
         "name": "pixel345",
         "rawType": "int64",
         "type": "integer"
        },
        {
         "name": "pixel346",
         "rawType": "int64",
         "type": "integer"
        },
        {
         "name": "pixel347",
         "rawType": "int64",
         "type": "integer"
        },
        {
         "name": "pixel348",
         "rawType": "int64",
         "type": "integer"
        },
        {
         "name": "pixel349",
         "rawType": "int64",
         "type": "integer"
        },
        {
         "name": "pixel350",
         "rawType": "int64",
         "type": "integer"
        },
        {
         "name": "pixel351",
         "rawType": "int64",
         "type": "integer"
        },
        {
         "name": "pixel352",
         "rawType": "int64",
         "type": "integer"
        },
        {
         "name": "pixel353",
         "rawType": "int64",
         "type": "integer"
        },
        {
         "name": "pixel354",
         "rawType": "int64",
         "type": "integer"
        },
        {
         "name": "pixel355",
         "rawType": "int64",
         "type": "integer"
        },
        {
         "name": "pixel356",
         "rawType": "int64",
         "type": "integer"
        },
        {
         "name": "pixel357",
         "rawType": "int64",
         "type": "integer"
        },
        {
         "name": "pixel358",
         "rawType": "int64",
         "type": "integer"
        },
        {
         "name": "pixel359",
         "rawType": "int64",
         "type": "integer"
        },
        {
         "name": "pixel360",
         "rawType": "int64",
         "type": "integer"
        },
        {
         "name": "pixel361",
         "rawType": "int64",
         "type": "integer"
        },
        {
         "name": "pixel362",
         "rawType": "int64",
         "type": "integer"
        },
        {
         "name": "pixel363",
         "rawType": "int64",
         "type": "integer"
        },
        {
         "name": "pixel364",
         "rawType": "int64",
         "type": "integer"
        },
        {
         "name": "pixel365",
         "rawType": "int64",
         "type": "integer"
        },
        {
         "name": "pixel366",
         "rawType": "int64",
         "type": "integer"
        },
        {
         "name": "pixel367",
         "rawType": "int64",
         "type": "integer"
        },
        {
         "name": "pixel368",
         "rawType": "int64",
         "type": "integer"
        },
        {
         "name": "pixel369",
         "rawType": "int64",
         "type": "integer"
        },
        {
         "name": "pixel370",
         "rawType": "int64",
         "type": "integer"
        },
        {
         "name": "pixel371",
         "rawType": "int64",
         "type": "integer"
        },
        {
         "name": "pixel372",
         "rawType": "int64",
         "type": "integer"
        },
        {
         "name": "pixel373",
         "rawType": "int64",
         "type": "integer"
        },
        {
         "name": "pixel374",
         "rawType": "int64",
         "type": "integer"
        },
        {
         "name": "pixel375",
         "rawType": "int64",
         "type": "integer"
        },
        {
         "name": "pixel376",
         "rawType": "int64",
         "type": "integer"
        },
        {
         "name": "pixel377",
         "rawType": "int64",
         "type": "integer"
        },
        {
         "name": "pixel378",
         "rawType": "int64",
         "type": "integer"
        },
        {
         "name": "pixel379",
         "rawType": "int64",
         "type": "integer"
        },
        {
         "name": "pixel380",
         "rawType": "int64",
         "type": "integer"
        },
        {
         "name": "pixel381",
         "rawType": "int64",
         "type": "integer"
        },
        {
         "name": "pixel382",
         "rawType": "int64",
         "type": "integer"
        },
        {
         "name": "pixel383",
         "rawType": "int64",
         "type": "integer"
        },
        {
         "name": "pixel384",
         "rawType": "int64",
         "type": "integer"
        },
        {
         "name": "pixel385",
         "rawType": "int64",
         "type": "integer"
        },
        {
         "name": "pixel386",
         "rawType": "int64",
         "type": "integer"
        },
        {
         "name": "pixel387",
         "rawType": "int64",
         "type": "integer"
        },
        {
         "name": "pixel388",
         "rawType": "int64",
         "type": "integer"
        },
        {
         "name": "pixel389",
         "rawType": "int64",
         "type": "integer"
        },
        {
         "name": "pixel390",
         "rawType": "int64",
         "type": "integer"
        },
        {
         "name": "pixel391",
         "rawType": "int64",
         "type": "integer"
        },
        {
         "name": "pixel392",
         "rawType": "int64",
         "type": "integer"
        },
        {
         "name": "pixel393",
         "rawType": "int64",
         "type": "integer"
        },
        {
         "name": "pixel394",
         "rawType": "int64",
         "type": "integer"
        },
        {
         "name": "pixel395",
         "rawType": "int64",
         "type": "integer"
        },
        {
         "name": "pixel396",
         "rawType": "int64",
         "type": "integer"
        },
        {
         "name": "pixel397",
         "rawType": "int64",
         "type": "integer"
        },
        {
         "name": "pixel398",
         "rawType": "int64",
         "type": "integer"
        },
        {
         "name": "pixel399",
         "rawType": "int64",
         "type": "integer"
        },
        {
         "name": "pixel400",
         "rawType": "int64",
         "type": "integer"
        },
        {
         "name": "pixel401",
         "rawType": "int64",
         "type": "integer"
        },
        {
         "name": "pixel402",
         "rawType": "int64",
         "type": "integer"
        },
        {
         "name": "pixel403",
         "rawType": "int64",
         "type": "integer"
        },
        {
         "name": "pixel404",
         "rawType": "int64",
         "type": "integer"
        },
        {
         "name": "pixel405",
         "rawType": "int64",
         "type": "integer"
        },
        {
         "name": "pixel406",
         "rawType": "int64",
         "type": "integer"
        },
        {
         "name": "pixel407",
         "rawType": "int64",
         "type": "integer"
        },
        {
         "name": "pixel408",
         "rawType": "int64",
         "type": "integer"
        },
        {
         "name": "pixel409",
         "rawType": "int64",
         "type": "integer"
        },
        {
         "name": "pixel410",
         "rawType": "int64",
         "type": "integer"
        },
        {
         "name": "pixel411",
         "rawType": "int64",
         "type": "integer"
        },
        {
         "name": "pixel412",
         "rawType": "int64",
         "type": "integer"
        },
        {
         "name": "pixel413",
         "rawType": "int64",
         "type": "integer"
        },
        {
         "name": "pixel414",
         "rawType": "int64",
         "type": "integer"
        },
        {
         "name": "pixel415",
         "rawType": "int64",
         "type": "integer"
        },
        {
         "name": "pixel416",
         "rawType": "int64",
         "type": "integer"
        },
        {
         "name": "pixel417",
         "rawType": "int64",
         "type": "integer"
        },
        {
         "name": "pixel418",
         "rawType": "int64",
         "type": "integer"
        },
        {
         "name": "pixel419",
         "rawType": "int64",
         "type": "integer"
        },
        {
         "name": "pixel420",
         "rawType": "int64",
         "type": "integer"
        },
        {
         "name": "pixel421",
         "rawType": "int64",
         "type": "integer"
        },
        {
         "name": "pixel422",
         "rawType": "int64",
         "type": "integer"
        },
        {
         "name": "pixel423",
         "rawType": "int64",
         "type": "integer"
        },
        {
         "name": "pixel424",
         "rawType": "int64",
         "type": "integer"
        },
        {
         "name": "pixel425",
         "rawType": "int64",
         "type": "integer"
        },
        {
         "name": "pixel426",
         "rawType": "int64",
         "type": "integer"
        },
        {
         "name": "pixel427",
         "rawType": "int64",
         "type": "integer"
        },
        {
         "name": "pixel428",
         "rawType": "int64",
         "type": "integer"
        },
        {
         "name": "pixel429",
         "rawType": "int64",
         "type": "integer"
        },
        {
         "name": "pixel430",
         "rawType": "int64",
         "type": "integer"
        },
        {
         "name": "pixel431",
         "rawType": "int64",
         "type": "integer"
        },
        {
         "name": "pixel432",
         "rawType": "int64",
         "type": "integer"
        },
        {
         "name": "pixel433",
         "rawType": "int64",
         "type": "integer"
        },
        {
         "name": "pixel434",
         "rawType": "int64",
         "type": "integer"
        },
        {
         "name": "pixel435",
         "rawType": "int64",
         "type": "integer"
        },
        {
         "name": "pixel436",
         "rawType": "int64",
         "type": "integer"
        },
        {
         "name": "pixel437",
         "rawType": "int64",
         "type": "integer"
        },
        {
         "name": "pixel438",
         "rawType": "int64",
         "type": "integer"
        },
        {
         "name": "pixel439",
         "rawType": "int64",
         "type": "integer"
        },
        {
         "name": "pixel440",
         "rawType": "int64",
         "type": "integer"
        },
        {
         "name": "pixel441",
         "rawType": "int64",
         "type": "integer"
        },
        {
         "name": "pixel442",
         "rawType": "int64",
         "type": "integer"
        },
        {
         "name": "pixel443",
         "rawType": "int64",
         "type": "integer"
        },
        {
         "name": "pixel444",
         "rawType": "int64",
         "type": "integer"
        },
        {
         "name": "pixel445",
         "rawType": "int64",
         "type": "integer"
        },
        {
         "name": "pixel446",
         "rawType": "int64",
         "type": "integer"
        },
        {
         "name": "pixel447",
         "rawType": "int64",
         "type": "integer"
        },
        {
         "name": "pixel448",
         "rawType": "int64",
         "type": "integer"
        },
        {
         "name": "pixel449",
         "rawType": "int64",
         "type": "integer"
        },
        {
         "name": "pixel450",
         "rawType": "int64",
         "type": "integer"
        },
        {
         "name": "pixel451",
         "rawType": "int64",
         "type": "integer"
        },
        {
         "name": "pixel452",
         "rawType": "int64",
         "type": "integer"
        },
        {
         "name": "pixel453",
         "rawType": "int64",
         "type": "integer"
        },
        {
         "name": "pixel454",
         "rawType": "int64",
         "type": "integer"
        },
        {
         "name": "pixel455",
         "rawType": "int64",
         "type": "integer"
        },
        {
         "name": "pixel456",
         "rawType": "int64",
         "type": "integer"
        },
        {
         "name": "pixel457",
         "rawType": "int64",
         "type": "integer"
        },
        {
         "name": "pixel458",
         "rawType": "int64",
         "type": "integer"
        },
        {
         "name": "pixel459",
         "rawType": "int64",
         "type": "integer"
        },
        {
         "name": "pixel460",
         "rawType": "int64",
         "type": "integer"
        },
        {
         "name": "pixel461",
         "rawType": "int64",
         "type": "integer"
        },
        {
         "name": "pixel462",
         "rawType": "int64",
         "type": "integer"
        },
        {
         "name": "pixel463",
         "rawType": "int64",
         "type": "integer"
        },
        {
         "name": "pixel464",
         "rawType": "int64",
         "type": "integer"
        },
        {
         "name": "pixel465",
         "rawType": "int64",
         "type": "integer"
        },
        {
         "name": "pixel466",
         "rawType": "int64",
         "type": "integer"
        },
        {
         "name": "pixel467",
         "rawType": "int64",
         "type": "integer"
        },
        {
         "name": "pixel468",
         "rawType": "int64",
         "type": "integer"
        },
        {
         "name": "pixel469",
         "rawType": "int64",
         "type": "integer"
        },
        {
         "name": "pixel470",
         "rawType": "int64",
         "type": "integer"
        },
        {
         "name": "pixel471",
         "rawType": "int64",
         "type": "integer"
        },
        {
         "name": "pixel472",
         "rawType": "int64",
         "type": "integer"
        },
        {
         "name": "pixel473",
         "rawType": "int64",
         "type": "integer"
        },
        {
         "name": "pixel474",
         "rawType": "int64",
         "type": "integer"
        },
        {
         "name": "pixel475",
         "rawType": "int64",
         "type": "integer"
        },
        {
         "name": "pixel476",
         "rawType": "int64",
         "type": "integer"
        },
        {
         "name": "pixel477",
         "rawType": "int64",
         "type": "integer"
        },
        {
         "name": "pixel478",
         "rawType": "int64",
         "type": "integer"
        },
        {
         "name": "pixel479",
         "rawType": "int64",
         "type": "integer"
        },
        {
         "name": "pixel480",
         "rawType": "int64",
         "type": "integer"
        },
        {
         "name": "pixel481",
         "rawType": "int64",
         "type": "integer"
        },
        {
         "name": "pixel482",
         "rawType": "int64",
         "type": "integer"
        },
        {
         "name": "pixel483",
         "rawType": "int64",
         "type": "integer"
        },
        {
         "name": "pixel484",
         "rawType": "int64",
         "type": "integer"
        },
        {
         "name": "pixel485",
         "rawType": "int64",
         "type": "integer"
        },
        {
         "name": "pixel486",
         "rawType": "int64",
         "type": "integer"
        },
        {
         "name": "pixel487",
         "rawType": "int64",
         "type": "integer"
        },
        {
         "name": "pixel488",
         "rawType": "int64",
         "type": "integer"
        },
        {
         "name": "pixel489",
         "rawType": "int64",
         "type": "integer"
        },
        {
         "name": "pixel490",
         "rawType": "int64",
         "type": "integer"
        },
        {
         "name": "pixel491",
         "rawType": "int64",
         "type": "integer"
        },
        {
         "name": "pixel492",
         "rawType": "int64",
         "type": "integer"
        },
        {
         "name": "pixel493",
         "rawType": "int64",
         "type": "integer"
        },
        {
         "name": "pixel494",
         "rawType": "int64",
         "type": "integer"
        },
        {
         "name": "pixel495",
         "rawType": "int64",
         "type": "integer"
        },
        {
         "name": "pixel496",
         "rawType": "int64",
         "type": "integer"
        },
        {
         "name": "pixel497",
         "rawType": "int64",
         "type": "integer"
        },
        {
         "name": "pixel498",
         "rawType": "int64",
         "type": "integer"
        },
        {
         "name": "pixel499",
         "rawType": "int64",
         "type": "integer"
        },
        {
         "name": "pixel500",
         "rawType": "int64",
         "type": "integer"
        },
        {
         "name": "pixel501",
         "rawType": "int64",
         "type": "integer"
        },
        {
         "name": "pixel502",
         "rawType": "int64",
         "type": "integer"
        },
        {
         "name": "pixel503",
         "rawType": "int64",
         "type": "integer"
        },
        {
         "name": "pixel504",
         "rawType": "int64",
         "type": "integer"
        },
        {
         "name": "pixel505",
         "rawType": "int64",
         "type": "integer"
        },
        {
         "name": "pixel506",
         "rawType": "int64",
         "type": "integer"
        },
        {
         "name": "pixel507",
         "rawType": "int64",
         "type": "integer"
        },
        {
         "name": "pixel508",
         "rawType": "int64",
         "type": "integer"
        },
        {
         "name": "pixel509",
         "rawType": "int64",
         "type": "integer"
        },
        {
         "name": "pixel510",
         "rawType": "int64",
         "type": "integer"
        },
        {
         "name": "pixel511",
         "rawType": "int64",
         "type": "integer"
        },
        {
         "name": "pixel512",
         "rawType": "int64",
         "type": "integer"
        },
        {
         "name": "pixel513",
         "rawType": "int64",
         "type": "integer"
        },
        {
         "name": "pixel514",
         "rawType": "int64",
         "type": "integer"
        },
        {
         "name": "pixel515",
         "rawType": "int64",
         "type": "integer"
        },
        {
         "name": "pixel516",
         "rawType": "int64",
         "type": "integer"
        },
        {
         "name": "pixel517",
         "rawType": "int64",
         "type": "integer"
        },
        {
         "name": "pixel518",
         "rawType": "int64",
         "type": "integer"
        },
        {
         "name": "pixel519",
         "rawType": "int64",
         "type": "integer"
        },
        {
         "name": "pixel520",
         "rawType": "int64",
         "type": "integer"
        },
        {
         "name": "pixel521",
         "rawType": "int64",
         "type": "integer"
        },
        {
         "name": "pixel522",
         "rawType": "int64",
         "type": "integer"
        },
        {
         "name": "pixel523",
         "rawType": "int64",
         "type": "integer"
        },
        {
         "name": "pixel524",
         "rawType": "int64",
         "type": "integer"
        },
        {
         "name": "pixel525",
         "rawType": "int64",
         "type": "integer"
        },
        {
         "name": "pixel526",
         "rawType": "int64",
         "type": "integer"
        },
        {
         "name": "pixel527",
         "rawType": "int64",
         "type": "integer"
        },
        {
         "name": "pixel528",
         "rawType": "int64",
         "type": "integer"
        },
        {
         "name": "pixel529",
         "rawType": "int64",
         "type": "integer"
        },
        {
         "name": "pixel530",
         "rawType": "int64",
         "type": "integer"
        },
        {
         "name": "pixel531",
         "rawType": "int64",
         "type": "integer"
        },
        {
         "name": "pixel532",
         "rawType": "int64",
         "type": "integer"
        },
        {
         "name": "pixel533",
         "rawType": "int64",
         "type": "integer"
        },
        {
         "name": "pixel534",
         "rawType": "int64",
         "type": "integer"
        },
        {
         "name": "pixel535",
         "rawType": "int64",
         "type": "integer"
        },
        {
         "name": "pixel536",
         "rawType": "int64",
         "type": "integer"
        },
        {
         "name": "pixel537",
         "rawType": "int64",
         "type": "integer"
        },
        {
         "name": "pixel538",
         "rawType": "int64",
         "type": "integer"
        },
        {
         "name": "pixel539",
         "rawType": "int64",
         "type": "integer"
        },
        {
         "name": "pixel540",
         "rawType": "int64",
         "type": "integer"
        },
        {
         "name": "pixel541",
         "rawType": "int64",
         "type": "integer"
        },
        {
         "name": "pixel542",
         "rawType": "int64",
         "type": "integer"
        },
        {
         "name": "pixel543",
         "rawType": "int64",
         "type": "integer"
        },
        {
         "name": "pixel544",
         "rawType": "int64",
         "type": "integer"
        },
        {
         "name": "pixel545",
         "rawType": "int64",
         "type": "integer"
        },
        {
         "name": "pixel546",
         "rawType": "int64",
         "type": "integer"
        },
        {
         "name": "pixel547",
         "rawType": "int64",
         "type": "integer"
        },
        {
         "name": "pixel548",
         "rawType": "int64",
         "type": "integer"
        },
        {
         "name": "pixel549",
         "rawType": "int64",
         "type": "integer"
        },
        {
         "name": "pixel550",
         "rawType": "int64",
         "type": "integer"
        },
        {
         "name": "pixel551",
         "rawType": "int64",
         "type": "integer"
        },
        {
         "name": "pixel552",
         "rawType": "int64",
         "type": "integer"
        },
        {
         "name": "pixel553",
         "rawType": "int64",
         "type": "integer"
        },
        {
         "name": "pixel554",
         "rawType": "int64",
         "type": "integer"
        },
        {
         "name": "pixel555",
         "rawType": "int64",
         "type": "integer"
        },
        {
         "name": "pixel556",
         "rawType": "int64",
         "type": "integer"
        },
        {
         "name": "pixel557",
         "rawType": "int64",
         "type": "integer"
        },
        {
         "name": "pixel558",
         "rawType": "int64",
         "type": "integer"
        },
        {
         "name": "pixel559",
         "rawType": "int64",
         "type": "integer"
        },
        {
         "name": "pixel560",
         "rawType": "int64",
         "type": "integer"
        },
        {
         "name": "pixel561",
         "rawType": "int64",
         "type": "integer"
        },
        {
         "name": "pixel562",
         "rawType": "int64",
         "type": "integer"
        },
        {
         "name": "pixel563",
         "rawType": "int64",
         "type": "integer"
        },
        {
         "name": "pixel564",
         "rawType": "int64",
         "type": "integer"
        },
        {
         "name": "pixel565",
         "rawType": "int64",
         "type": "integer"
        },
        {
         "name": "pixel566",
         "rawType": "int64",
         "type": "integer"
        },
        {
         "name": "pixel567",
         "rawType": "int64",
         "type": "integer"
        },
        {
         "name": "pixel568",
         "rawType": "int64",
         "type": "integer"
        },
        {
         "name": "pixel569",
         "rawType": "int64",
         "type": "integer"
        },
        {
         "name": "pixel570",
         "rawType": "int64",
         "type": "integer"
        },
        {
         "name": "pixel571",
         "rawType": "int64",
         "type": "integer"
        },
        {
         "name": "pixel572",
         "rawType": "int64",
         "type": "integer"
        },
        {
         "name": "pixel573",
         "rawType": "int64",
         "type": "integer"
        },
        {
         "name": "pixel574",
         "rawType": "int64",
         "type": "integer"
        },
        {
         "name": "pixel575",
         "rawType": "int64",
         "type": "integer"
        },
        {
         "name": "pixel576",
         "rawType": "int64",
         "type": "integer"
        },
        {
         "name": "pixel577",
         "rawType": "int64",
         "type": "integer"
        },
        {
         "name": "pixel578",
         "rawType": "int64",
         "type": "integer"
        },
        {
         "name": "pixel579",
         "rawType": "int64",
         "type": "integer"
        },
        {
         "name": "pixel580",
         "rawType": "int64",
         "type": "integer"
        },
        {
         "name": "pixel581",
         "rawType": "int64",
         "type": "integer"
        },
        {
         "name": "pixel582",
         "rawType": "int64",
         "type": "integer"
        },
        {
         "name": "pixel583",
         "rawType": "int64",
         "type": "integer"
        },
        {
         "name": "pixel584",
         "rawType": "int64",
         "type": "integer"
        },
        {
         "name": "pixel585",
         "rawType": "int64",
         "type": "integer"
        },
        {
         "name": "pixel586",
         "rawType": "int64",
         "type": "integer"
        },
        {
         "name": "pixel587",
         "rawType": "int64",
         "type": "integer"
        },
        {
         "name": "pixel588",
         "rawType": "int64",
         "type": "integer"
        },
        {
         "name": "pixel589",
         "rawType": "int64",
         "type": "integer"
        },
        {
         "name": "pixel590",
         "rawType": "int64",
         "type": "integer"
        },
        {
         "name": "pixel591",
         "rawType": "int64",
         "type": "integer"
        },
        {
         "name": "pixel592",
         "rawType": "int64",
         "type": "integer"
        },
        {
         "name": "pixel593",
         "rawType": "int64",
         "type": "integer"
        },
        {
         "name": "pixel594",
         "rawType": "int64",
         "type": "integer"
        },
        {
         "name": "pixel595",
         "rawType": "int64",
         "type": "integer"
        },
        {
         "name": "pixel596",
         "rawType": "int64",
         "type": "integer"
        },
        {
         "name": "pixel597",
         "rawType": "int64",
         "type": "integer"
        },
        {
         "name": "pixel598",
         "rawType": "int64",
         "type": "integer"
        },
        {
         "name": "pixel599",
         "rawType": "int64",
         "type": "integer"
        },
        {
         "name": "pixel600",
         "rawType": "int64",
         "type": "integer"
        },
        {
         "name": "pixel601",
         "rawType": "int64",
         "type": "integer"
        },
        {
         "name": "pixel602",
         "rawType": "int64",
         "type": "integer"
        },
        {
         "name": "pixel603",
         "rawType": "int64",
         "type": "integer"
        },
        {
         "name": "pixel604",
         "rawType": "int64",
         "type": "integer"
        },
        {
         "name": "pixel605",
         "rawType": "int64",
         "type": "integer"
        },
        {
         "name": "pixel606",
         "rawType": "int64",
         "type": "integer"
        },
        {
         "name": "pixel607",
         "rawType": "int64",
         "type": "integer"
        },
        {
         "name": "pixel608",
         "rawType": "int64",
         "type": "integer"
        },
        {
         "name": "pixel609",
         "rawType": "int64",
         "type": "integer"
        },
        {
         "name": "pixel610",
         "rawType": "int64",
         "type": "integer"
        },
        {
         "name": "pixel611",
         "rawType": "int64",
         "type": "integer"
        },
        {
         "name": "pixel612",
         "rawType": "int64",
         "type": "integer"
        },
        {
         "name": "pixel613",
         "rawType": "int64",
         "type": "integer"
        },
        {
         "name": "pixel614",
         "rawType": "int64",
         "type": "integer"
        },
        {
         "name": "pixel615",
         "rawType": "int64",
         "type": "integer"
        },
        {
         "name": "pixel616",
         "rawType": "int64",
         "type": "integer"
        },
        {
         "name": "pixel617",
         "rawType": "int64",
         "type": "integer"
        },
        {
         "name": "pixel618",
         "rawType": "int64",
         "type": "integer"
        },
        {
         "name": "pixel619",
         "rawType": "int64",
         "type": "integer"
        },
        {
         "name": "pixel620",
         "rawType": "int64",
         "type": "integer"
        },
        {
         "name": "pixel621",
         "rawType": "int64",
         "type": "integer"
        },
        {
         "name": "pixel622",
         "rawType": "int64",
         "type": "integer"
        },
        {
         "name": "pixel623",
         "rawType": "int64",
         "type": "integer"
        },
        {
         "name": "pixel624",
         "rawType": "int64",
         "type": "integer"
        },
        {
         "name": "pixel625",
         "rawType": "int64",
         "type": "integer"
        },
        {
         "name": "pixel626",
         "rawType": "int64",
         "type": "integer"
        },
        {
         "name": "pixel627",
         "rawType": "int64",
         "type": "integer"
        },
        {
         "name": "pixel628",
         "rawType": "int64",
         "type": "integer"
        },
        {
         "name": "pixel629",
         "rawType": "int64",
         "type": "integer"
        },
        {
         "name": "pixel630",
         "rawType": "int64",
         "type": "integer"
        },
        {
         "name": "pixel631",
         "rawType": "int64",
         "type": "integer"
        },
        {
         "name": "pixel632",
         "rawType": "int64",
         "type": "integer"
        },
        {
         "name": "pixel633",
         "rawType": "int64",
         "type": "integer"
        },
        {
         "name": "pixel634",
         "rawType": "int64",
         "type": "integer"
        },
        {
         "name": "pixel635",
         "rawType": "int64",
         "type": "integer"
        },
        {
         "name": "pixel636",
         "rawType": "int64",
         "type": "integer"
        },
        {
         "name": "pixel637",
         "rawType": "int64",
         "type": "integer"
        },
        {
         "name": "pixel638",
         "rawType": "int64",
         "type": "integer"
        },
        {
         "name": "pixel639",
         "rawType": "int64",
         "type": "integer"
        },
        {
         "name": "pixel640",
         "rawType": "int64",
         "type": "integer"
        },
        {
         "name": "pixel641",
         "rawType": "int64",
         "type": "integer"
        },
        {
         "name": "pixel642",
         "rawType": "int64",
         "type": "integer"
        },
        {
         "name": "pixel643",
         "rawType": "int64",
         "type": "integer"
        },
        {
         "name": "pixel644",
         "rawType": "int64",
         "type": "integer"
        },
        {
         "name": "pixel645",
         "rawType": "int64",
         "type": "integer"
        },
        {
         "name": "pixel646",
         "rawType": "int64",
         "type": "integer"
        },
        {
         "name": "pixel647",
         "rawType": "int64",
         "type": "integer"
        },
        {
         "name": "pixel648",
         "rawType": "int64",
         "type": "integer"
        },
        {
         "name": "pixel649",
         "rawType": "int64",
         "type": "integer"
        },
        {
         "name": "pixel650",
         "rawType": "int64",
         "type": "integer"
        },
        {
         "name": "pixel651",
         "rawType": "int64",
         "type": "integer"
        },
        {
         "name": "pixel652",
         "rawType": "int64",
         "type": "integer"
        },
        {
         "name": "pixel653",
         "rawType": "int64",
         "type": "integer"
        },
        {
         "name": "pixel654",
         "rawType": "int64",
         "type": "integer"
        },
        {
         "name": "pixel655",
         "rawType": "int64",
         "type": "integer"
        },
        {
         "name": "pixel656",
         "rawType": "int64",
         "type": "integer"
        },
        {
         "name": "pixel657",
         "rawType": "int64",
         "type": "integer"
        },
        {
         "name": "pixel658",
         "rawType": "int64",
         "type": "integer"
        },
        {
         "name": "pixel659",
         "rawType": "int64",
         "type": "integer"
        },
        {
         "name": "pixel660",
         "rawType": "int64",
         "type": "integer"
        },
        {
         "name": "pixel661",
         "rawType": "int64",
         "type": "integer"
        },
        {
         "name": "pixel662",
         "rawType": "int64",
         "type": "integer"
        },
        {
         "name": "pixel663",
         "rawType": "int64",
         "type": "integer"
        },
        {
         "name": "pixel664",
         "rawType": "int64",
         "type": "integer"
        },
        {
         "name": "pixel665",
         "rawType": "int64",
         "type": "integer"
        },
        {
         "name": "pixel666",
         "rawType": "int64",
         "type": "integer"
        },
        {
         "name": "pixel667",
         "rawType": "int64",
         "type": "integer"
        },
        {
         "name": "pixel668",
         "rawType": "int64",
         "type": "integer"
        },
        {
         "name": "pixel669",
         "rawType": "int64",
         "type": "integer"
        },
        {
         "name": "pixel670",
         "rawType": "int64",
         "type": "integer"
        },
        {
         "name": "pixel671",
         "rawType": "int64",
         "type": "integer"
        },
        {
         "name": "pixel672",
         "rawType": "int64",
         "type": "integer"
        },
        {
         "name": "pixel673",
         "rawType": "int64",
         "type": "integer"
        },
        {
         "name": "pixel674",
         "rawType": "int64",
         "type": "integer"
        },
        {
         "name": "pixel675",
         "rawType": "int64",
         "type": "integer"
        },
        {
         "name": "pixel676",
         "rawType": "int64",
         "type": "integer"
        },
        {
         "name": "pixel677",
         "rawType": "int64",
         "type": "integer"
        },
        {
         "name": "pixel678",
         "rawType": "int64",
         "type": "integer"
        },
        {
         "name": "pixel679",
         "rawType": "int64",
         "type": "integer"
        },
        {
         "name": "pixel680",
         "rawType": "int64",
         "type": "integer"
        },
        {
         "name": "pixel681",
         "rawType": "int64",
         "type": "integer"
        },
        {
         "name": "pixel682",
         "rawType": "int64",
         "type": "integer"
        },
        {
         "name": "pixel683",
         "rawType": "int64",
         "type": "integer"
        },
        {
         "name": "pixel684",
         "rawType": "int64",
         "type": "integer"
        },
        {
         "name": "pixel685",
         "rawType": "int64",
         "type": "integer"
        },
        {
         "name": "pixel686",
         "rawType": "int64",
         "type": "integer"
        },
        {
         "name": "pixel687",
         "rawType": "int64",
         "type": "integer"
        },
        {
         "name": "pixel688",
         "rawType": "int64",
         "type": "integer"
        },
        {
         "name": "pixel689",
         "rawType": "int64",
         "type": "integer"
        },
        {
         "name": "pixel690",
         "rawType": "int64",
         "type": "integer"
        },
        {
         "name": "pixel691",
         "rawType": "int64",
         "type": "integer"
        },
        {
         "name": "pixel692",
         "rawType": "int64",
         "type": "integer"
        },
        {
         "name": "pixel693",
         "rawType": "int64",
         "type": "integer"
        },
        {
         "name": "pixel694",
         "rawType": "int64",
         "type": "integer"
        },
        {
         "name": "pixel695",
         "rawType": "int64",
         "type": "integer"
        },
        {
         "name": "pixel696",
         "rawType": "int64",
         "type": "integer"
        },
        {
         "name": "pixel697",
         "rawType": "int64",
         "type": "integer"
        },
        {
         "name": "pixel698",
         "rawType": "int64",
         "type": "integer"
        },
        {
         "name": "pixel699",
         "rawType": "int64",
         "type": "integer"
        },
        {
         "name": "pixel700",
         "rawType": "int64",
         "type": "integer"
        },
        {
         "name": "pixel701",
         "rawType": "int64",
         "type": "integer"
        },
        {
         "name": "pixel702",
         "rawType": "int64",
         "type": "integer"
        },
        {
         "name": "pixel703",
         "rawType": "int64",
         "type": "integer"
        },
        {
         "name": "pixel704",
         "rawType": "int64",
         "type": "integer"
        },
        {
         "name": "pixel705",
         "rawType": "int64",
         "type": "integer"
        },
        {
         "name": "pixel706",
         "rawType": "int64",
         "type": "integer"
        },
        {
         "name": "pixel707",
         "rawType": "int64",
         "type": "integer"
        },
        {
         "name": "pixel708",
         "rawType": "int64",
         "type": "integer"
        },
        {
         "name": "pixel709",
         "rawType": "int64",
         "type": "integer"
        },
        {
         "name": "pixel710",
         "rawType": "int64",
         "type": "integer"
        },
        {
         "name": "pixel711",
         "rawType": "int64",
         "type": "integer"
        },
        {
         "name": "pixel712",
         "rawType": "int64",
         "type": "integer"
        },
        {
         "name": "pixel713",
         "rawType": "int64",
         "type": "integer"
        },
        {
         "name": "pixel714",
         "rawType": "int64",
         "type": "integer"
        },
        {
         "name": "pixel715",
         "rawType": "int64",
         "type": "integer"
        },
        {
         "name": "pixel716",
         "rawType": "int64",
         "type": "integer"
        },
        {
         "name": "pixel717",
         "rawType": "int64",
         "type": "integer"
        },
        {
         "name": "pixel718",
         "rawType": "int64",
         "type": "integer"
        },
        {
         "name": "pixel719",
         "rawType": "int64",
         "type": "integer"
        },
        {
         "name": "pixel720",
         "rawType": "int64",
         "type": "integer"
        },
        {
         "name": "pixel721",
         "rawType": "int64",
         "type": "integer"
        },
        {
         "name": "pixel722",
         "rawType": "int64",
         "type": "integer"
        },
        {
         "name": "pixel723",
         "rawType": "int64",
         "type": "integer"
        },
        {
         "name": "pixel724",
         "rawType": "int64",
         "type": "integer"
        },
        {
         "name": "pixel725",
         "rawType": "int64",
         "type": "integer"
        },
        {
         "name": "pixel726",
         "rawType": "int64",
         "type": "integer"
        },
        {
         "name": "pixel727",
         "rawType": "int64",
         "type": "integer"
        },
        {
         "name": "pixel728",
         "rawType": "int64",
         "type": "integer"
        },
        {
         "name": "pixel729",
         "rawType": "int64",
         "type": "integer"
        },
        {
         "name": "pixel730",
         "rawType": "int64",
         "type": "integer"
        },
        {
         "name": "pixel731",
         "rawType": "int64",
         "type": "integer"
        },
        {
         "name": "pixel732",
         "rawType": "int64",
         "type": "integer"
        },
        {
         "name": "pixel733",
         "rawType": "int64",
         "type": "integer"
        },
        {
         "name": "pixel734",
         "rawType": "int64",
         "type": "integer"
        },
        {
         "name": "pixel735",
         "rawType": "int64",
         "type": "integer"
        },
        {
         "name": "pixel736",
         "rawType": "int64",
         "type": "integer"
        },
        {
         "name": "pixel737",
         "rawType": "int64",
         "type": "integer"
        },
        {
         "name": "pixel738",
         "rawType": "int64",
         "type": "integer"
        },
        {
         "name": "pixel739",
         "rawType": "int64",
         "type": "integer"
        },
        {
         "name": "pixel740",
         "rawType": "int64",
         "type": "integer"
        },
        {
         "name": "pixel741",
         "rawType": "int64",
         "type": "integer"
        },
        {
         "name": "pixel742",
         "rawType": "int64",
         "type": "integer"
        },
        {
         "name": "pixel743",
         "rawType": "int64",
         "type": "integer"
        },
        {
         "name": "pixel744",
         "rawType": "int64",
         "type": "integer"
        },
        {
         "name": "pixel745",
         "rawType": "int64",
         "type": "integer"
        },
        {
         "name": "pixel746",
         "rawType": "int64",
         "type": "integer"
        },
        {
         "name": "pixel747",
         "rawType": "int64",
         "type": "integer"
        },
        {
         "name": "pixel748",
         "rawType": "int64",
         "type": "integer"
        },
        {
         "name": "pixel749",
         "rawType": "int64",
         "type": "integer"
        },
        {
         "name": "pixel750",
         "rawType": "int64",
         "type": "integer"
        },
        {
         "name": "pixel751",
         "rawType": "int64",
         "type": "integer"
        },
        {
         "name": "pixel752",
         "rawType": "int64",
         "type": "integer"
        },
        {
         "name": "pixel753",
         "rawType": "int64",
         "type": "integer"
        },
        {
         "name": "pixel754",
         "rawType": "int64",
         "type": "integer"
        },
        {
         "name": "pixel755",
         "rawType": "int64",
         "type": "integer"
        },
        {
         "name": "pixel756",
         "rawType": "int64",
         "type": "integer"
        },
        {
         "name": "pixel757",
         "rawType": "int64",
         "type": "integer"
        },
        {
         "name": "pixel758",
         "rawType": "int64",
         "type": "integer"
        },
        {
         "name": "pixel759",
         "rawType": "int64",
         "type": "integer"
        },
        {
         "name": "pixel760",
         "rawType": "int64",
         "type": "integer"
        },
        {
         "name": "pixel761",
         "rawType": "int64",
         "type": "integer"
        },
        {
         "name": "pixel762",
         "rawType": "int64",
         "type": "integer"
        },
        {
         "name": "pixel763",
         "rawType": "int64",
         "type": "integer"
        },
        {
         "name": "pixel764",
         "rawType": "int64",
         "type": "integer"
        },
        {
         "name": "pixel765",
         "rawType": "int64",
         "type": "integer"
        },
        {
         "name": "pixel766",
         "rawType": "int64",
         "type": "integer"
        },
        {
         "name": "pixel767",
         "rawType": "int64",
         "type": "integer"
        },
        {
         "name": "pixel768",
         "rawType": "int64",
         "type": "integer"
        },
        {
         "name": "pixel769",
         "rawType": "int64",
         "type": "integer"
        },
        {
         "name": "pixel770",
         "rawType": "int64",
         "type": "integer"
        },
        {
         "name": "pixel771",
         "rawType": "int64",
         "type": "integer"
        },
        {
         "name": "pixel772",
         "rawType": "int64",
         "type": "integer"
        },
        {
         "name": "pixel773",
         "rawType": "int64",
         "type": "integer"
        },
        {
         "name": "pixel774",
         "rawType": "int64",
         "type": "integer"
        },
        {
         "name": "pixel775",
         "rawType": "int64",
         "type": "integer"
        },
        {
         "name": "pixel776",
         "rawType": "int64",
         "type": "integer"
        },
        {
         "name": "pixel777",
         "rawType": "int64",
         "type": "integer"
        },
        {
         "name": "pixel778",
         "rawType": "int64",
         "type": "integer"
        },
        {
         "name": "pixel779",
         "rawType": "int64",
         "type": "integer"
        },
        {
         "name": "pixel780",
         "rawType": "int64",
         "type": "integer"
        },
        {
         "name": "pixel781",
         "rawType": "int64",
         "type": "integer"
        },
        {
         "name": "pixel782",
         "rawType": "int64",
         "type": "integer"
        },
        {
         "name": "pixel783",
         "rawType": "int64",
         "type": "integer"
        },
        {
         "name": "pixel784",
         "rawType": "int64",
         "type": "integer"
        }
       ],
       "ref": "44103cf6-32e2-465e-9e07-8f6bf044e77a",
       "rows": [
        [
         "0",
         "9",
         "0",
         "0",
         "0",
         "0",
         "0",
         "0",
         "0",
         "0",
         "0",
         "0",
         "0",
         "0",
         "0",
         "0",
         "0",
         "0",
         "0",
         "0",
         "0",
         "0",
         "0",
         "0",
         "0",
         "0",
         "125",
         "72",
         "0",
         "0",
         "0",
         "0",
         "0",
         "0",
         "0",
         "0",
         "0",
         "0",
         "0",
         "0",
         "0",
         "1",
         "0",
         "0",
         "120",
         "108",
         "0",
         "0",
         "4",
         "6",
         "11",
         "17",
         "80",
         "24",
         "224",
         "30",
         "0",
         "0",
         "0",
         "0",
         "0",
         "0",
         "0",
         "0",
         "0",
         "0",
         "0",
         "0",
         "0",
         "3",
         "0",
         "0",
         "208",
         "230",
         "187",
         "226",
         "236",
         "242",
         "213",
         "221",
         "239",
         "247",
         "137",
         "0",
         "0",
         "0",
         "0",
         "0",
         "0",
         "0",
         "0",
         "0",
         "0",
         "0",
         "0",
         "0",
         "0",
         "5",
         "0",
         "0",
         "199",
         "210",
         "206",
         "200",
         "205",
         "208",
         "208",
         "216",
         "213",
         "244",
         "88",
         "0",
         "3",
         "0",
         "0",
         "0",
         "0",
         "0",
         "0",
         "0",
         "0",
         "0",
         "0",
         "0",
         "0",
         "4",
         "0",
         "6",
         "213",
         "218",
         "201",
         "197",
         "207",
         "212",
         "209",
         "219",
         "220",
         "240",
         "77",
         "0",
         "3",
         "0",
         "0",
         "0",
         "0",
         "0",
         "0",
         "0",
         "0",
         "0",
         "0",
         "0",
         "0",
         "7",
         "0",
         "21",
         "222",
         "216",
         "197",
         "202",
         "210",
         "213",
         "214",
         "221",
         "220",
         "235",
         "65",
         "0",
         "3",
         "0",
         "0",
         "0",
         "0",
         "0",
         "0",
         "0",
         "0",
         "0",
         "0",
         "0",
         "0",
         "6",
         "0",
         "45",
         "225",
         "212",
         "194",
         "206",
         "208",
         "209",
         "212",
         "217",
         "220",
         "230",
         "57",
         "0",
         "2",
         "0",
         "0",
         "0",
         "0",
         "0",
         "0",
         "0",
         "0",
         "0",
         "0",
         "0",
         "0",
         "6",
         "0",
         "95",
         "229",
         "213",
         "198",
         "205",
         "207",
         "207",
         "210",
         "215",
         "219",
         "228",
         "46",
         "0",
         "2",
         "0",
         "0",
         "0",
         "0",
         "0",
         "0",
         "0",
         "0",
         "0",
         "0",
         "0",
         "0",
         "0",
         "0",
         "145",
         "227",
         "212",
         "199",
         "204",
         "206",
         "208",
         "211",
         "218",
         "217",
         "237",
         "51",
         "0",
         "2",
         "0",
         "0",
         "0",
         "0",
         "0",
         "0",
         "0",
         "0",
         "0",
         "0",
         "0",
         "0",
         "0",
         "0",
         "181",
         "224",
         "208",
         "200",
         "206",
         "206",
         "208",
         "212",
         "220",
         "217",
         "239",
         "111",
         "0",
         "0",
         "0",
         "0",
         "0",
         "0",
         "0",
         "0",
         "0",
         "0",
         "0",
         "0",
         "0",
         "2",
         "0",
         "0",
         "226",
         "222",
         "212",
         "201",
         "205",
         "206",
         "208",
         "213",
         "222",
         "215",
         "227",
         "224",
         "0",
         "0",
         "0",
         "0",
         "0",
         "0",
         "0",
         "0",
         "0",
         "0",
         "0",
         "0",
         "0",
         "6",
         "0",
         "20",
         "217",
         "214",
         "210",
         "201",
         "204",
         "206",
         "208",
         "214",
         "223",
         "217",
         "219",
         "233",
         "32",
         "0",
         "0",
         "0",
         "0",
         "0",
         "0",
         "0",
         "0",
         "0",
         "0",
         "0",
         "0",
         "8",
         "0",
         "96",
         "223",
         "212",
         "209",
         "202",
         "208",
         "208",
         "206",
         "212",
         "223",
         "219",
         "218",
         "235",
         "167",
         "0",
         "0",
         "0",
         "0",
         "0",
         "0",
         "0",
         "0",
         "0",
         "0",
         "0",
         "0",
         "1",
         "0",
         "161",
         "226",
         "215",
         "209",
         "199",
         "208",
         "208",
         "205",
         "215",
         "223",
         "218",
         "220",
         "221",
         "255",
         "0",
         "0",
         "0",
         "0",
         "0",
         "0",
         "0",
         "0",
         "0",
         "0",
         "0",
         "2",
         "0",
         "0",
         "231",
         "222",
         "221",
         "210",
         "199",
         "203",
         "203",
         "209",
         "226",
         "224",
         "216",
         "220",
         "208",
         "254",
         "118",
         "0",
         "0",
         "0",
         "0",
         "0",
         "0",
         "0",
         "0",
         "0",
         "0",
         "5",
         "0",
         "44",
         "228",
         "217",
         "228",
         "220",
         "202",
         "201",
         "201",
         "215",
         "230",
         "222",
         "219",
         "217",
         "217",
         "218",
         "191",
         "0",
         "0",
         "0",
         "0",
         "0",
         "0",
         "0",
         "0",
         "0",
         "0",
         "0",
         "0",
         "170",
         "228",
         "219",
         "228",
         "229",
         "210",
         "205",
         "212",
         "224",
         "228",
         "224",
         "224",
         "215",
         "227",
         "247",
         "243",
         "0",
         "0",
         "0",
         "0",
         "0",
         "0",
         "0",
         "0",
         "0",
         "4",
         "0",
         "33",
         "254",
         "215",
         "226",
         "223",
         "226",
         "221",
         "210",
         "221",
         "225",
         "227",
         "223",
         "229",
         "254",
         "251",
         "206",
         "83",
         "0",
         "0",
         "0",
         "0",
         "0",
         "0",
         "0",
         "0",
         "1",
         "0",
         "0",
         "194",
         "222",
         "214",
         "226",
         "219",
         "219",
         "223",
         "221",
         "228",
         "226",
         "217",
         "255",
         "247",
         "166",
         "76",
         "160",
         "93",
         "0",
         "0",
         "0",
         "0",
         "0",
         "0",
         "0",
         "1",
         "0",
         "0",
         "70",
         "255",
         "212",
         "218",
         "225",
         "221",
         "219",
         "223",
         "227",
         "228",
         "224",
         "255",
         "197",
         "86",
         "182",
         "233",
         "255",
         "79",
         "0",
         "0",
         "0",
         "0",
         "1",
         "3",
         "7",
         "0",
         "0",
         "34",
         "251",
         "214",
         "212",
         "220",
         "225",
         "222",
         "222",
         "222",
         "225",
         "230",
         "255",
         "144",
         "0",
         "143",
         "253",
         "219",
         "230",
         "55",
         "0",
         "0",
         "0",
         "0",
         "0",
         "0",
         "0",
         "0",
         "77",
         "237",
         "212",
         "211",
         "215",
         "221",
         "222",
         "219",
         "225",
         "224",
         "232",
         "255",
         "57",
         "0",
         "0",
         "182",
         "236",
         "220",
         "229",
         "36",
         "0",
         "0",
         "0",
         "0",
         "0",
         "50",
         "134",
         "214",
         "241",
         "204",
         "209",
         "215",
         "215",
         "222",
         "224",
         "218",
         "223",
         "230",
         "255",
         "30",
         "0",
         "0",
         "0",
         "201",
         "238",
         "221",
         "255",
         "8",
         "0",
         "0",
         "0",
         "0",
         "216",
         "215",
         "221",
         "209",
         "199",
         "209",
         "213",
         "214",
         "215",
         "221",
         "222",
         "228",
         "224",
         "235",
         "57",
         "0",
         "1",
         "0",
         "0",
         "218",
         "232",
         "221",
         "254",
         "0",
         "0",
         "0",
         "0",
         "168",
         "227",
         "196",
         "204",
         "207",
         "214",
         "218",
         "217",
         "214",
         "221",
         "222",
         "224",
         "217",
         "246",
         "131",
         "0",
         "0",
         "0",
         "0",
         "0",
         "225",
         "227",
         "224",
         "246",
         "0",
         "0",
         "0",
         "0",
         "144",
         "225",
         "238",
         "227",
         "217",
         "216",
         "203",
         "206",
         "210",
         "219",
         "220",
         "215",
         "248",
         "203",
         "0",
         "0",
         "4",
         "1",
         "0",
         "0",
         "200",
         "226",
         "224",
         "237",
         "0",
         "0",
         "0",
         "0",
         "0",
         "30",
         "109",
         "199",
         "243",
         "255",
         "255",
         "251",
         "242",
         "236",
         "230",
         "246",
         "228",
         "0",
         "0",
         "3",
         "0",
         "2",
         "0",
         "0",
         "210",
         "228",
         "228",
         "233",
         "0",
         "0",
         "0",
         "0",
         "0",
         "0",
         "0",
         "0",
         "0",
         "31",
         "81",
         "133",
         "184",
         "201",
         "190",
         "117",
         "0",
         "0",
         "2",
         "1",
         "0",
         "7",
         "0",
         "50",
         "205",
         "196",
         "213",
         "165",
         "0",
         "0"
        ],
        [
         "1",
         "7",
         "0",
         "0",
         "0",
         "0",
         "0",
         "0",
         "0",
         "0",
         "0",
         "0",
         "0",
         "0",
         "0",
         "0",
         "0",
         "0",
         "0",
         "0",
         "0",
         "0",
         "0",
         "0",
         "0",
         "0",
         "0",
         "0",
         "0",
         "0",
         "0",
         "0",
         "0",
         "0",
         "0",
         "0",
         "0",
         "0",
         "0",
         "0",
         "0",
         "0",
         "0",
         "0",
         "0",
         "0",
         "0",
         "0",
         "0",
         "0",
         "0",
         "0",
         "0",
         "0",
         "0",
         "0",
         "0",
         "0",
         "0",
         "0",
         "0",
         "0",
         "0",
         "0",
         "0",
         "0",
         "0",
         "0",
         "0",
         "0",
         "0",
         "0",
         "0",
         "0",
         "0",
         "0",
         "0",
         "0",
         "0",
         "0",
         "0",
         "0",
         "0",
         "0",
         "0",
         "0",
         "0",
         "0",
         "0",
         "0",
         "0",
         "0",
         "0",
         "0",
         "0",
         "0",
         "0",
         "0",
         "0",
         "0",
         "0",
         "0",
         "0",
         "0",
         "0",
         "0",
         "0",
         "0",
         "0",
         "0",
         "0",
         "0",
         "0",
         "0",
         "0",
         "0",
         "0",
         "0",
         "0",
         "0",
         "0",
         "0",
         "0",
         "0",
         "0",
         "0",
         "0",
         "0",
         "0",
         "0",
         "0",
         "0",
         "0",
         "0",
         "0",
         "0",
         "0",
         "0",
         "0",
         "0",
         "0",
         "0",
         "0",
         "0",
         "0",
         "0",
         "0",
         "0",
         "0",
         "0",
         "0",
         "0",
         "0",
         "0",
         "0",
         "0",
         "0",
         "0",
         "0",
         "0",
         "0",
         "0",
         "0",
         "0",
         "0",
         "0",
         "0",
         "0",
         "0",
         "0",
         "0",
         "0",
         "0",
         "0",
         "0",
         "0",
         "0",
         "0",
         "0",
         "0",
         "0",
         "0",
         "0",
         "0",
         "0",
         "0",
         "0",
         "0",
         "0",
         "0",
         "0",
         "0",
         "0",
         "0",
         "0",
         "0",
         "0",
         "0",
         "0",
         "0",
         "0",
         "0",
         "0",
         "0",
         "0",
         "0",
         "0",
         "0",
         "0",
         "0",
         "0",
         "0",
         "0",
         "0",
         "32",
         "49",
         "6",
         "0",
         "0",
         "1",
         "1",
         "0",
         "1",
         "0",
         "0",
         "0",
         "0",
         "0",
         "0",
         "0",
         "0",
         "0",
         "0",
         "0",
         "0",
         "1",
         "0",
         "0",
         "0",
         "24",
         "70",
         "137",
         "177",
         "191",
         "96",
         "9",
         "0",
         "2",
         "0",
         "0",
         "0",
         "0",
         "31",
         "26",
         "0",
         "0",
         "0",
         "0",
         "0",
         "0",
         "0",
         "0",
         "0",
         "0",
         "0",
         "0",
         "41",
         "19",
         "46",
         "133",
         "0",
         "79",
         "163",
         "63",
         "0",
         "2",
         "0",
         "1",
         "29",
         "4",
         "22",
         "43",
         "0",
         "0",
         "0",
         "0",
         "0",
         "0",
         "0",
         "0",
         "0",
         "0",
         "0",
         "0",
         "128",
         "22",
         "0",
         "0",
         "61",
         "32",
         "3",
         "44",
         "0",
         "0",
         "0",
         "12",
         "84",
         "72",
         "0",
         "0",
         "0",
         "0",
         "0",
         "0",
         "0",
         "0",
         "0",
         "0",
         "0",
         "0",
         "78",
         "74",
         "17",
         "53",
         "47",
         "100",
         "113",
         "83",
         "35",
         "83",
         "47",
         "2",
         "8",
         "44",
         "79",
         "68",
         "20",
         "0",
         "0",
         "0",
         "1",
         "0",
         "0",
         "0",
         "3",
         "0",
         "19",
         "40",
         "0",
         "93",
         "26",
         "149",
         "255",
         "203",
         "168",
         "92",
         "98",
         "84",
         "33",
         "82",
         "64",
         "88",
         "67",
         "76",
         "53",
         "0",
         "0",
         "0",
         "0",
         "0",
         "0",
         "0",
         "0",
         "0",
         "71",
         "132",
         "165",
         "169",
         "128",
         "105",
         "1",
         "0",
         "82",
         "167",
         "28",
         "90",
         "81",
         "77",
         "81",
         "59",
         "63",
         "100",
         "51",
         "0",
         "0",
         "0",
         "11",
         "6",
         "0",
         "0",
         "104",
         "160",
         "32",
         "108",
         "150",
         "50",
         "185",
         "45",
         "62",
         "100",
         "156",
         "190",
         "75",
         "75",
         "89",
         "50",
         "60",
         "59",
         "78",
         "90",
         "86",
         "0",
         "0",
         "0",
         "33",
         "43",
         "0",
         "103",
         "224",
         "53",
         "24",
         "11",
         "8",
         "20",
         "196",
         "164",
         "150",
         "195",
         "115",
         "181",
         "52",
         "40",
         "48",
         "62",
         "71",
         "102",
         "106",
         "120",
         "157",
         "0",
         "0",
         "117",
         "90",
         "9",
         "0",
         "7",
         "0",
         "0",
         "0",
         "21",
         "57",
         "34",
         "94",
         "200",
         "121",
         "140",
         "159",
         "129",
         "2",
         "36",
         "18",
         "17",
         "18",
         "22",
         "51",
         "132",
         "79",
         "0",
         "60",
         "125",
         "112",
         "128",
         "97",
         "169",
         "183",
         "117",
         "103",
         "74",
         "23",
         "44",
         "27",
         "95",
         "189",
         "142",
         "98",
         "0",
         "14",
         "9",
         "42",
         "53",
         "63",
         "18",
         "27",
         "58",
         "10",
         "0",
         "26",
         "106",
         "54",
         "0",
         "31",
         "72",
         "85",
         "53",
         "68",
         "92",
         "55",
         "29",
         "26",
         "0",
         "0",
         "14",
         "2",
         "77",
         "120",
         "69",
         "87",
         "115",
         "50",
         "108",
         "62",
         "80",
         "71",
         "51",
         "0",
         "22",
         "95",
         "120",
         "108",
         "122",
         "69",
         "72",
         "128",
         "110",
         "17",
         "78",
         "41",
         "67",
         "64",
         "34",
         "107",
         "68",
         "80",
         "78",
         "115",
         "33",
         "87",
         "126",
         "81",
         "46",
         "121",
         "68",
         "0",
         "0",
         "0",
         "0",
         "0",
         "22",
         "58",
         "39",
         "46",
         "62",
         "87",
         "77",
         "85",
         "98",
         "71",
         "89",
         "96",
         "74",
         "69",
         "93",
         "100",
         "61",
         "74",
         "48",
         "41",
         "50",
         "17",
         "0",
         "0",
         "0",
         "0",
         "0",
         "0",
         "0",
         "0",
         "0",
         "0",
         "0",
         "0",
         "0",
         "0",
         "0",
         "0",
         "0",
         "0",
         "0",
         "0",
         "0",
         "0",
         "0",
         "0",
         "0",
         "0",
         "0",
         "0",
         "0",
         "0",
         "0",
         "0",
         "0",
         "0",
         "0",
         "0",
         "0",
         "0",
         "0",
         "0",
         "0",
         "0",
         "0",
         "0",
         "0",
         "0",
         "0",
         "0",
         "0",
         "0",
         "0",
         "0",
         "0",
         "0",
         "0",
         "0",
         "0",
         "0",
         "0",
         "0",
         "0",
         "0",
         "0",
         "0",
         "0",
         "0",
         "0",
         "0",
         "0",
         "0",
         "0",
         "0",
         "0",
         "0",
         "0",
         "0",
         "0",
         "0",
         "0",
         "0",
         "0",
         "0",
         "0",
         "0",
         "0",
         "0",
         "0",
         "0",
         "0",
         "0",
         "0",
         "0",
         "0",
         "0",
         "0",
         "0",
         "0",
         "0",
         "0",
         "0",
         "0",
         "0",
         "0",
         "0",
         "0",
         "0",
         "0",
         "0",
         "0",
         "0",
         "0",
         "0",
         "0",
         "0",
         "0",
         "0",
         "0",
         "0",
         "0",
         "0",
         "0",
         "0",
         "0",
         "0",
         "0",
         "0",
         "0",
         "0",
         "0",
         "0",
         "0",
         "0",
         "0",
         "0",
         "0",
         "0",
         "0",
         "0",
         "0",
         "0",
         "0",
         "0",
         "0",
         "0",
         "0",
         "0",
         "0",
         "0",
         "0",
         "0",
         "0",
         "0",
         "0",
         "0",
         "0",
         "0",
         "0",
         "0",
         "0",
         "0",
         "0",
         "0",
         "0",
         "0",
         "0",
         "0",
         "0",
         "0",
         "0",
         "0",
         "0",
         "0",
         "0",
         "0",
         "0",
         "0",
         "0",
         "0",
         "0",
         "0",
         "0",
         "0",
         "0",
         "0",
         "0",
         "0",
         "0",
         "0",
         "0",
         "0",
         "0",
         "0",
         "0",
         "0",
         "0",
         "0",
         "0"
        ],
        [
         "2",
         "0",
         "0",
         "0",
         "0",
         "0",
         "0",
         "1",
         "0",
         "0",
         "0",
         "0",
         "43",
         "117",
         "34",
         "15",
         "24",
         "33",
         "117",
         "80",
         "0",
         "0",
         "0",
         "0",
         "0",
         "1",
         "0",
         "0",
         "0",
         "0",
         "0",
         "0",
         "0",
         "0",
         "1",
         "0",
         "0",
         "0",
         "51",
         "144",
         "152",
         "202",
         "213",
         "210",
         "205",
         "204",
         "221",
         "157",
         "172",
         "131",
         "55",
         "0",
         "0",
         "0",
         "1",
         "0",
         "0",
         "0",
         "0",
         "0",
         "0",
         "1",
         "0",
         "1",
         "96",
         "156",
         "156",
         "152",
         "140",
         "152",
         "176",
         "74",
         "62",
         "159",
         "168",
         "138",
         "150",
         "157",
         "161",
         "144",
         "96",
         "0",
         "0",
         "1",
         "0",
         "0",
         "0",
         "0",
         "0",
         "0",
         "0",
         "124",
         "156",
         "143",
         "137",
         "136",
         "142",
         "140",
         "139",
         "159",
         "161",
         "149",
         "140",
         "148",
         "148",
         "142",
         "144",
         "151",
         "157",
         "108",
         "0",
         "0",
         "0",
         "0",
         "0",
         "0",
         "0",
         "0",
         "44",
         "143",
         "131",
         "139",
         "136",
         "138",
         "136",
         "137",
         "149",
         "139",
         "135",
         "144",
         "147",
         "143",
         "143",
         "145",
         "145",
         "144",
         "143",
         "144",
         "24",
         "0",
         "0",
         "0",
         "0",
         "0",
         "0",
         "0",
         "87",
         "150",
         "138",
         "134",
         "136",
         "135",
         "136",
         "131",
         "110",
         "127",
         "150",
         "130",
         "142",
         "140",
         "143",
         "140",
         "144",
         "142",
         "142",
         "152",
         "76",
         "0",
         "0",
         "0",
         "0",
         "0",
         "0",
         "0",
         "124",
         "153",
         "144",
         "134",
         "140",
         "129",
         "148",
         "184",
         "205",
         "209",
         "194",
         "174",
         "120",
         "145",
         "140",
         "139",
         "143",
         "144",
         "147",
         "154",
         "102",
         "0",
         "0",
         "0",
         "0",
         "0",
         "0",
         "0",
         "154",
         "147",
         "160",
         "134",
         "139",
         "116",
         "223",
         "214",
         "208",
         "204",
         "186",
         "249",
         "154",
         "127",
         "144",
         "143",
         "146",
         "148",
         "157",
         "149",
         "146",
         "0",
         "0",
         "0",
         "0",
         "0",
         "0",
         "13",
         "164",
         "146",
         "166",
         "148",
         "133",
         "136",
         "211",
         "151",
         "128",
         "132",
         "136",
         "150",
         "222",
         "134",
         "135",
         "145",
         "140",
         "164",
         "162",
         "146",
         "161",
         "1",
         "0",
         "0",
         "0",
         "0",
         "0",
         "54",
         "151",
         "142",
         "161",
         "157",
         "117",
         "171",
         "136",
         "127",
         "145",
         "145",
         "145",
         "119",
         "180",
         "237",
         "121",
         "145",
         "138",
         "161",
         "153",
         "144",
         "152",
         "80",
         "0",
         "0",
         "0",
         "0",
         "0",
         "89",
         "144",
         "152",
         "177",
         "181",
         "121",
         "160",
         "136",
         "147",
         "146",
         "143",
         "146",
         "140",
         "129",
         "255",
         "152",
         "136",
         "135",
         "191",
         "165",
         "146",
         "156",
         "52",
         "0",
         "0",
         "0",
         "0",
         "0",
         "0",
         "2",
         "32",
         "44",
         "114",
         "138",
         "165",
         "144",
         "140",
         "144",
         "140",
         "146",
         "148",
         "120",
         "231",
         "191",
         "123",
         "162",
         "88",
         "14",
         "1",
         "0",
         "0",
         "0",
         "0",
         "0",
         "0",
         "0",
         "0",
         "0",
         "0",
         "0",
         "55",
         "167",
         "154",
         "191",
         "123",
         "144",
         "146",
         "142",
         "149",
         "125",
         "227",
         "204",
         "115",
         "180",
         "33",
         "0",
         "0",
         "0",
         "0",
         "0",
         "0",
         "0",
         "0",
         "0",
         "0",
         "1",
         "3",
         "0",
         "66",
         "180",
         "142",
         "212",
         "172",
         "120",
         "145",
         "148",
         "148",
         "134",
         "199",
         "223",
         "151",
         "173",
         "42",
         "0",
         "4",
         "1",
         "0",
         "0",
         "0",
         "0",
         "0",
         "0",
         "0",
         "0",
         "1",
         "0",
         "51",
         "186",
         "135",
         "209",
         "208",
         "152",
         "125",
         "136",
         "128",
         "134",
         "217",
         "217",
         "147",
         "180",
         "33",
         "0",
         "2",
         "0",
         "0",
         "0",
         "0",
         "0",
         "0",
         "0",
         "0",
         "0",
         "4",
         "0",
         "47",
         "191",
         "130",
         "189",
         "211",
         "202",
         "197",
         "170",
         "156",
         "216",
         "200",
         "197",
         "135",
         "188",
         "30",
         "0",
         "5",
         "0",
         "0",
         "0",
         "0",
         "0",
         "0",
         "0",
         "0",
         "0",
         "4",
         "0",
         "43",
         "193",
         "122",
         "155",
         "187",
         "126",
         "146",
         "177",
         "232",
         "175",
         "171",
         "199",
         "117",
         "191",
         "29",
         "0",
         "6",
         "0",
         "0",
         "0",
         "0",
         "0",
         "0",
         "0",
         "0",
         "0",
         "4",
         "0",
         "42",
         "158",
         "126",
         "150",
         "128",
         "140",
         "142",
         "163",
         "162",
         "131",
         "154",
         "139",
         "133",
         "186",
         "26",
         "0",
         "6",
         "0",
         "0",
         "0",
         "0",
         "0",
         "0",
         "0",
         "0",
         "0",
         "4",
         "0",
         "42",
         "156",
         "127",
         "156",
         "145",
         "145",
         "148",
         "144",
         "142",
         "151",
         "145",
         "138",
         "134",
         "157",
         "36",
         "0",
         "5",
         "0",
         "0",
         "0",
         "0",
         "0",
         "0",
         "0",
         "0",
         "0",
         "4",
         "0",
         "44",
         "156",
         "136",
         "153",
         "142",
         "145",
         "150",
         "148",
         "151",
         "145",
         "153",
         "145",
         "128",
         "153",
         "39",
         "0",
         "5",
         "0",
         "0",
         "0",
         "0",
         "0",
         "0",
         "0",
         "0",
         "0",
         "4",
         "0",
         "42",
         "150",
         "138",
         "151",
         "142",
         "146",
         "150",
         "147",
         "148",
         "149",
         "152",
         "148",
         "136",
         "153",
         "42",
         "0",
         "5",
         "0",
         "0",
         "0",
         "0",
         "0",
         "0",
         "0",
         "0",
         "0",
         "4",
         "0",
         "44",
         "149",
         "138",
         "151",
         "144",
         "148",
         "150",
         "151",
         "151",
         "148",
         "151",
         "153",
         "134",
         "152",
         "45",
         "0",
         "5",
         "0",
         "0",
         "0",
         "0",
         "0",
         "0",
         "0",
         "0",
         "0",
         "4",
         "0",
         "47",
         "150",
         "140",
         "154",
         "145",
         "149",
         "150",
         "151",
         "154",
         "150",
         "151",
         "157",
         "136",
         "150",
         "44",
         "0",
         "5",
         "0",
         "0",
         "0",
         "0",
         "0",
         "0",
         "0",
         "0",
         "0",
         "4",
         "0",
         "55",
         "150",
         "144",
         "153",
         "145",
         "150",
         "150",
         "149",
         "154",
         "154",
         "151",
         "157",
         "140",
         "149",
         "47",
         "0",
         "5",
         "0",
         "0",
         "0",
         "0",
         "0",
         "0",
         "0",
         "0",
         "0",
         "4",
         "0",
         "66",
         "149",
         "145",
         "151",
         "146",
         "153",
         "152",
         "150",
         "151",
         "154",
         "154",
         "155",
         "145",
         "148",
         "53",
         "0",
         "5",
         "0",
         "0",
         "0",
         "0",
         "0",
         "0",
         "0",
         "0",
         "0",
         "4",
         "0",
         "68",
         "152",
         "146",
         "153",
         "148",
         "155",
         "153",
         "152",
         "154",
         "156",
         "153",
         "156",
         "149",
         "149",
         "47",
         "0",
         "6",
         "0",
         "0",
         "0",
         "0",
         "0",
         "0",
         "0",
         "0",
         "0",
         "5",
         "0",
         "77",
         "157",
         "148",
         "155",
         "146",
         "151",
         "149",
         "152",
         "154",
         "157",
         "158",
         "161",
         "148",
         "159",
         "58",
         "0",
         "6",
         "0",
         "0",
         "0",
         "0",
         "0",
         "0",
         "0",
         "0",
         "0",
         "4",
         "0",
         "60",
         "143",
         "143",
         "148",
         "146",
         "152",
         "152",
         "148",
         "148",
         "147",
         "145",
         "142",
         "142",
         "142",
         "21",
         "0",
         "3",
         "0",
         "0",
         "0",
         "0"
        ],
        [
         "3",
         "8",
         "0",
         "0",
         "0",
         "0",
         "0",
         "0",
         "0",
         "0",
         "0",
         "0",
         "0",
         "0",
         "2",
         "0",
         "33",
         "114",
         "37",
         "0",
         "1",
         "0",
         "0",
         "1",
         "0",
         "0",
         "0",
         "0",
         "0",
         "0",
         "0",
         "0",
         "0",
         "0",
         "0",
         "0",
         "0",
         "0",
         "0",
         "1",
         "0",
         "0",
         "0",
         "47",
         "136",
         "31",
         "136",
         "42",
         "0",
         "3",
         "0",
         "0",
         "0",
         "0",
         "0",
         "0",
         "0",
         "0",
         "0",
         "0",
         "0",
         "0",
         "0",
         "0",
         "0",
         "0",
         "0",
         "0",
         "0",
         "6",
         "0",
         "139",
         "9",
         "0",
         "1",
         "108",
         "0",
         "0",
         "0",
         "0",
         "0",
         "0",
         "0",
         "0",
         "0",
         "0",
         "0",
         "0",
         "0",
         "0",
         "0",
         "0",
         "0",
         "0",
         "0",
         "0",
         "1",
         "0",
         "38",
         "104",
         "0",
         "11",
         "0",
         "81",
         "39",
         "0",
         "1",
         "0",
         "0",
         "0",
         "0",
         "0",
         "0",
         "0",
         "0",
         "0",
         "0",
         "0",
         "0",
         "0",
         "0",
         "0",
         "0",
         "0",
         "5",
         "0",
         "90",
         "50",
         "0",
         "7",
         "0",
         "18",
         "90",
         "0",
         "3",
         "0",
         "0",
         "0",
         "0",
         "0",
         "0",
         "0",
         "0",
         "0",
         "0",
         "0",
         "0",
         "0",
         "0",
         "0",
         "0",
         "0",
         "1",
         "0",
         "122",
         "5",
         "0",
         "2",
         "2",
         "0",
         "116",
         "14",
         "0",
         "1",
         "0",
         "0",
         "0",
         "0",
         "0",
         "0",
         "0",
         "1",
         "0",
         "0",
         "0",
         "0",
         "0",
         "1",
         "0",
         "1",
         "0",
         "14",
         "100",
         "0",
         "2",
         "0",
         "3",
         "0",
         "78",
         "47",
         "0",
         "3",
         "0",
         "0",
         "0",
         "0",
         "0",
         "0",
         "0",
         "0",
         "0",
         "0",
         "0",
         "0",
         "2",
         "2",
         "3",
         "6",
         "0",
         "65",
         "102",
         "0",
         "5",
         "0",
         "3",
         "0",
         "38",
         "88",
         "0",
         "2",
         "0",
         "0",
         "1",
         "0",
         "0",
         "0",
         "0",
         "0",
         "1",
         "0",
         "0",
         "0",
         "0",
         "0",
         "0",
         "0",
         "0",
         "83",
         "73",
         "0",
         "0",
         "0",
         "1",
         "0",
         "1",
         "122",
         "0",
         "0",
         "0",
         "0",
         "0",
         "3",
         "3",
         "0",
         "0",
         "1",
         "0",
         "0",
         "0",
         "1",
         "11",
         "19",
         "27",
         "35",
         "0",
         "94",
         "41",
         "0",
         "6",
         "0",
         "0",
         "0",
         "0",
         "151",
         "1",
         "0",
         "0",
         "0",
         "0",
         "0",
         "0",
         "0",
         "0",
         "0",
         "0",
         "123",
         "102",
         "112",
         "87",
         "94",
         "103",
         "108",
         "116",
         "155",
         "170",
         "136",
         "83",
         "136",
         "177",
         "188",
         "180",
         "135",
         "139",
         "124",
         "147",
         "114",
         "70",
         "66",
         "23",
         "0",
         "0",
         "0",
         "23",
         "53",
         "128",
         "187",
         "195",
         "189",
         "176",
         "171",
         "127",
         "152",
         "160",
         "144",
         "164",
         "205",
         "96",
         "139",
         "147",
         "124",
         "152",
         "148",
         "147",
         "143",
         "150",
         "162",
         "143",
         "0",
         "0",
         "0",
         "45",
         "15",
         "151",
         "209",
         "212",
         "217",
         "223",
         "192",
         "115",
         "138",
         "195",
         "204",
         "180",
         "91",
         "65",
         "119",
         "111",
         "108",
         "134",
         "184",
         "207",
         "201",
         "189",
         "184",
         "138",
         "0",
         "0",
         "0",
         "67",
         "25",
         "168",
         "184",
         "185",
         "176",
         "134",
         "82",
         "122",
         "144",
         "187",
         "207",
         "96",
         "94",
         "108",
         "167",
         "142",
         "118",
         "128",
         "106",
         "124",
         "191",
         "196",
         "197",
         "166",
         "0",
         "0",
         "0",
         "63",
         "2",
         "184",
         "189",
         "176",
         "140",
         "107",
         "130",
         "144",
         "143",
         "215",
         "191",
         "45",
         "63",
         "37",
         "152",
         "159",
         "114",
         "126",
         "147",
         "108",
         "131",
         "146",
         "170",
         "193",
         "0",
         "0",
         "14",
         "38",
         "5",
         "196",
         "180",
         "148",
         "144",
         "140",
         "136",
         "155",
         "197",
         "221",
         "146",
         "188",
         "224",
         "232",
         "163",
         "148",
         "160",
         "181",
         "160",
         "138",
         "124",
         "120",
         "142",
         "171",
         "2",
         "0",
         "35",
         "0",
         "27",
         "203",
         "176",
         "160",
         "183",
         "176",
         "158",
         "162",
         "163",
         "132",
         "107",
         "192",
         "200",
         "132",
         "205",
         "158",
         "162",
         "171",
         "152",
         "171",
         "140",
         "128",
         "164",
         "195",
         "5",
         "0",
         "47",
         "0",
         "37",
         "204",
         "180",
         "191",
         "185",
         "162",
         "154",
         "171",
         "162",
         "184",
         "221",
         "183",
         "15",
         "53",
         "221",
         "135",
         "175",
         "172",
         "167",
         "170",
         "159",
         "143",
         "167",
         "195",
         "13",
         "0",
         "65",
         "0",
         "35",
         "197",
         "189",
         "189",
         "192",
         "167",
         "167",
         "189",
         "199",
         "159",
         "111",
         "120",
         "209",
         "217",
         "135",
         "92",
         "132",
         "159",
         "187",
         "177",
         "173",
         "173",
         "171",
         "192",
         "17",
         "0",
         "62",
         "0",
         "0",
         "219",
         "192",
         "199",
         "219",
         "193",
         "183",
         "188",
         "173",
         "126",
         "111",
         "90",
         "172",
         "211",
         "148",
         "135",
         "150",
         "179",
         "187",
         "170",
         "175",
         "177",
         "176",
         "215",
         "33",
         "0",
         "58",
         "0",
         "1",
         "235",
         "197",
         "216",
         "227",
         "219",
         "209",
         "184",
         "176",
         "173",
         "181",
         "170",
         "140",
         "154",
         "171",
         "177",
         "171",
         "181",
         "187",
         "177",
         "180",
         "177",
         "176",
         "220",
         "38",
         "0",
         "55",
         "0",
         "6",
         "247",
         "199",
         "211",
         "213",
         "233",
         "231",
         "208",
         "213",
         "204",
         "184",
         "188",
         "187",
         "193",
         "180",
         "199",
         "191",
         "189",
         "195",
         "196",
         "195",
         "187",
         "181",
         "227",
         "55",
         "0",
         "55",
         "0",
         "9",
         "237",
         "196",
         "211",
         "215",
         "221",
         "225",
         "216",
         "227",
         "216",
         "204",
         "209",
         "199",
         "203",
         "200",
         "209",
         "201",
         "199",
         "204",
         "211",
         "208",
         "201",
         "193",
         "227",
         "61",
         "0",
         "61",
         "0",
         "1",
         "203",
         "207",
         "221",
         "236",
         "229",
         "220",
         "216",
         "216",
         "216",
         "228",
         "221",
         "211",
         "197",
         "204",
         "216",
         "211",
         "207",
         "208",
         "211",
         "211",
         "209",
         "200",
         "200",
         "63",
         "0",
         "21",
         "81",
         "33",
         "232",
         "235",
         "244",
         "245",
         "237",
         "236",
         "219",
         "229",
         "224",
         "216",
         "215",
         "216",
         "209",
         "208",
         "209",
         "212",
         "212",
         "213",
         "209",
         "205",
         "212",
         "204",
         "212",
         "110",
         "0",
         "0",
         "10",
         "164",
         "255",
         "221",
         "227",
         "232",
         "233",
         "253",
         "255",
         "236",
         "219",
         "212",
         "253",
         "215",
         "212",
         "215",
         "213",
         "209",
         "207",
         "204",
         "204",
         "204",
         "204",
         "199",
         "197",
         "94",
         "0",
         "3",
         "0",
         "9",
         "164",
         "152",
         "138",
         "152",
         "160",
         "152",
         "162",
         "144",
         "208",
         "181",
         "1",
         "18",
         "11",
         "17",
         "13",
         "13",
         "11",
         "10",
         "7",
         "5",
         "5",
         "5",
         "7",
         "0",
         "0",
         "0",
         "1",
         "0",
         "0",
         "41",
         "69",
         "88",
         "86",
         "94",
         "106",
         "114",
         "118",
         "47",
         "0",
         "0",
         "0",
         "0",
         "0",
         "0",
         "0",
         "0",
         "0",
         "0",
         "0",
         "0",
         "0",
         "0"
        ],
        [
         "4",
         "8",
         "0",
         "0",
         "0",
         "0",
         "0",
         "0",
         "0",
         "0",
         "0",
         "0",
         "2",
         "0",
         "58",
         "145",
         "114",
         "10",
         "0",
         "2",
         "0",
         "0",
         "0",
         "0",
         "0",
         "0",
         "0",
         "0",
         "0",
         "0",
         "0",
         "0",
         "0",
         "0",
         "0",
         "0",
         "0",
         "0",
         "0",
         "2",
         "0",
         "29",
         "132",
         "0",
         "0",
         "101",
         "10",
         "0",
         "2",
         "0",
         "0",
         "0",
         "0",
         "0",
         "0",
         "0",
         "0",
         "0",
         "0",
         "0",
         "0",
         "0",
         "0",
         "0",
         "0",
         "0",
         "0",
         "2",
         "0",
         "153",
         "8",
         "0",
         "0",
         "20",
         "126",
         "0",
         "0",
         "0",
         "0",
         "0",
         "0",
         "0",
         "0",
         "0",
         "0",
         "0",
         "0",
         "0",
         "0",
         "0",
         "0",
         "0",
         "0",
         "0",
         "4",
         "0",
         "45",
         "122",
         "0",
         "6",
         "2",
         "0",
         "124",
         "51",
         "0",
         "4",
         "0",
         "0",
         "0",
         "0",
         "0",
         "0",
         "0",
         "0",
         "0",
         "0",
         "0",
         "0",
         "0",
         "0",
         "0",
         "0",
         "6",
         "0",
         "149",
         "95",
         "0",
         "6",
         "4",
         "0",
         "99",
         "136",
         "0",
         "6",
         "0",
         "0",
         "0",
         "0",
         "0",
         "0",
         "0",
         "0",
         "0",
         "0",
         "0",
         "0",
         "0",
         "0",
         "0",
         "2",
         "0",
         "0",
         "207",
         "55",
         "0",
         "4",
         "4",
         "0",
         "70",
         "134",
         "0",
         "0",
         "2",
         "0",
         "0",
         "0",
         "0",
         "0",
         "0",
         "0",
         "0",
         "0",
         "0",
         "0",
         "0",
         "0",
         "2",
         "8",
         "0",
         "51",
         "180",
         "0",
         "0",
         "4",
         "2",
         "0",
         "14",
         "118",
         "0",
         "0",
         "0",
         "0",
         "0",
         "0",
         "0",
         "0",
         "0",
         "0",
         "0",
         "0",
         "0",
         "6",
         "6",
         "8",
         "10",
         "6",
         "0",
         "101",
         "130",
         "0",
         "4",
         "0",
         "2",
         "0",
         "6",
         "167",
         "0",
         "0",
         "4",
         "6",
         "6",
         "4",
         "2",
         "0",
         "0",
         "0",
         "0",
         "0",
         "0",
         "0",
         "0",
         "0",
         "0",
         "0",
         "0",
         "114",
         "120",
         "0",
         "2",
         "4",
         "2",
         "0",
         "12",
         "225",
         "0",
         "0",
         "0",
         "0",
         "0",
         "0",
         "0",
         "0",
         "0",
         "0",
         "0",
         "0",
         "0",
         "33",
         "74",
         "109",
         "109",
         "91",
         "0",
         "203",
         "203",
         "0",
         "0",
         "0",
         "0",
         "0",
         "0",
         "176",
         "116",
         "136",
         "122",
         "89",
         "49",
         "37",
         "0",
         "0",
         "0",
         "0",
         "0",
         "0",
         "0",
         "196",
         "192",
         "178",
         "192",
         "149",
         "149",
         "221",
         "170",
         "0",
         "43",
         "82",
         "58",
         "72",
         "64",
         "192",
         "172",
         "151",
         "159",
         "201",
         "246",
         "255",
         "145",
         "0",
         "0",
         "0",
         "0",
         "0",
         "0",
         "194",
         "151",
         "103",
         "130",
         "147",
         "124",
         "199",
         "186",
         "45",
         "132",
         "157",
         "130",
         "172",
         "138",
         "157",
         "153",
         "78",
         "105",
         "153",
         "140",
         "250",
         "165",
         "0",
         "0",
         "0",
         "0",
         "0",
         "0",
         "194",
         "145",
         "163",
         "120",
         "165",
         "188",
         "184",
         "176",
         "196",
         "203",
         "51",
         "68",
         "132",
         "140",
         "174",
         "192",
         "105",
         "149",
         "196",
         "31",
         "170",
         "161",
         "0",
         "0",
         "0",
         "0",
         "0",
         "0",
         "159",
         "174",
         "82",
         "147",
         "124",
         "155",
         "186",
         "155",
         "225",
         "242",
         "132",
         "80",
         "159",
         "116",
         "147",
         "194",
         "126",
         "196",
         "223",
         "114",
         "76",
         "68",
         "0",
         "0",
         "0",
         "0",
         "0",
         "0",
         "128",
         "174",
         "105",
         "143",
         "157",
         "149",
         "188",
         "184",
         "230",
         "230",
         "120",
         "70",
         "122",
         "149",
         "167",
         "205",
         "149",
         "205",
         "234",
         "145",
         "163",
         "80",
         "0",
         "0",
         "0",
         "0",
         "0",
         "0",
         "107",
         "182",
         "180",
         "130",
         "116",
         "172",
         "215",
         "190",
         "217",
         "221",
         "53",
         "22",
         "41",
         "68",
         "114",
         "232",
         "167",
         "217",
         "213",
         "159",
         "190",
         "116",
         "0",
         "0",
         "0",
         "0",
         "0",
         "0",
         "74",
         "219",
         "140",
         "126",
         "107",
         "114",
         "155",
         "221",
         "236",
         "64",
         "35",
         "103",
         "95",
         "20",
         "26",
         "101",
         "184",
         "236",
         "228",
         "159",
         "99",
         "76",
         "0",
         "0",
         "0",
         "0",
         "0",
         "0",
         "47",
         "225",
         "105",
         "91",
         "80",
         "76",
         "122",
         "122",
         "45",
         "41",
         "99",
         "64",
         "122",
         "149",
         "145",
         "190",
         "236",
         "219",
         "219",
         "180",
         "97",
         "51",
         "0",
         "0",
         "0",
         "0",
         "0",
         "0",
         "14",
         "242",
         "172",
         "93",
         "105",
         "80",
         "109",
         "180",
         "85",
         "64",
         "72",
         "37",
         "45",
         "161",
         "207",
         "221",
         "217",
         "211",
         "205",
         "157",
         "170",
         "80",
         "0",
         "0",
         "0",
         "0",
         "0",
         "0",
         "0",
         "232",
         "159",
         "74",
         "107",
         "114",
         "107",
         "170",
         "205",
         "215",
         "126",
         "145",
         "215",
         "225",
         "230",
         "217",
         "213",
         "217",
         "234",
         "161",
         "178",
         "64",
         "0",
         "0",
         "0",
         "0",
         "0",
         "0",
         "0",
         "213",
         "118",
         "111",
         "120",
         "114",
         "76",
         "157",
         "153",
         "223",
         "246",
         "248",
         "242",
         "234",
         "228",
         "225",
         "223",
         "215",
         "215",
         "159",
         "190",
         "0",
         "0",
         "0",
         "0",
         "0",
         "0",
         "0",
         "0",
         "217",
         "145",
         "122",
         "101",
         "82",
         "95",
         "205",
         "196",
         "192",
         "201",
         "192",
         "201",
         "215",
         "228",
         "228",
         "232",
         "225",
         "219",
         "194",
         "194",
         "0",
         "0",
         "0",
         "0",
         "0",
         "0",
         "0",
         "0",
         "167",
         "190",
         "70",
         "89",
         "176",
         "199",
         "182",
         "207",
         "205",
         "213",
         "203",
         "201",
         "219",
         "215",
         "217",
         "228",
         "223",
         "219",
         "228",
         "192",
         "0",
         "0",
         "0",
         "0",
         "0",
         "0",
         "0",
         "0",
         "143",
         "199",
         "70",
         "130",
         "128",
         "159",
         "155",
         "178",
         "211",
         "213",
         "225",
         "215",
         "217",
         "225",
         "225",
         "228",
         "240",
         "209",
         "196",
         "180",
         "0",
         "0",
         "0",
         "0",
         "0",
         "0",
         "0",
         "0",
         "134",
         "203",
         "105",
         "80",
         "134",
         "136",
         "182",
         "207",
         "201",
         "174",
         "174",
         "167",
         "184",
         "199",
         "201",
         "228",
         "211",
         "217",
         "201",
         "174",
         "0",
         "0",
         "0",
         "0",
         "0",
         "0",
         "0",
         "0",
         "78",
         "186",
         "80",
         "126",
         "186",
         "157",
         "157",
         "149",
         "151",
         "147",
         "159",
         "174",
         "132",
         "134",
         "151",
         "170",
         "188",
         "209",
         "230",
         "136",
         "0",
         "0",
         "0",
         "0",
         "0",
         "0",
         "0",
         "0",
         "18",
         "134",
         "155",
         "178",
         "149",
         "163",
         "165",
         "138",
         "147",
         "170",
         "149",
         "134",
         "165",
         "153",
         "155",
         "134",
         "143",
         "172",
         "215",
         "62",
         "0",
         "0",
         "0",
         "0",
         "0",
         "0",
         "0",
         "0",
         "10",
         "190",
         "178",
         "194",
         "209",
         "211",
         "209",
         "205",
         "211",
         "215",
         "213",
         "217",
         "225",
         "228",
         "213",
         "203",
         "174",
         "151",
         "188",
         "10",
         "0",
         "0",
         "0",
         "0"
        ]
       ],
       "shape": {
        "columns": 785,
        "rows": 5
       }
      },
      "text/html": [
       "<div>\n",
       "<style scoped>\n",
       "    .dataframe tbody tr th:only-of-type {\n",
       "        vertical-align: middle;\n",
       "    }\n",
       "\n",
       "    .dataframe tbody tr th {\n",
       "        vertical-align: top;\n",
       "    }\n",
       "\n",
       "    .dataframe thead th {\n",
       "        text-align: right;\n",
       "    }\n",
       "</style>\n",
       "<table border=\"1\" class=\"dataframe\">\n",
       "  <thead>\n",
       "    <tr style=\"text-align: right;\">\n",
       "      <th></th>\n",
       "      <th>label</th>\n",
       "      <th>pixel1</th>\n",
       "      <th>pixel2</th>\n",
       "      <th>pixel3</th>\n",
       "      <th>pixel4</th>\n",
       "      <th>pixel5</th>\n",
       "      <th>pixel6</th>\n",
       "      <th>pixel7</th>\n",
       "      <th>pixel8</th>\n",
       "      <th>pixel9</th>\n",
       "      <th>...</th>\n",
       "      <th>pixel775</th>\n",
       "      <th>pixel776</th>\n",
       "      <th>pixel777</th>\n",
       "      <th>pixel778</th>\n",
       "      <th>pixel779</th>\n",
       "      <th>pixel780</th>\n",
       "      <th>pixel781</th>\n",
       "      <th>pixel782</th>\n",
       "      <th>pixel783</th>\n",
       "      <th>pixel784</th>\n",
       "    </tr>\n",
       "  </thead>\n",
       "  <tbody>\n",
       "    <tr>\n",
       "      <th>0</th>\n",
       "      <td>9</td>\n",
       "      <td>0</td>\n",
       "      <td>0</td>\n",
       "      <td>0</td>\n",
       "      <td>0</td>\n",
       "      <td>0</td>\n",
       "      <td>0</td>\n",
       "      <td>0</td>\n",
       "      <td>0</td>\n",
       "      <td>0</td>\n",
       "      <td>...</td>\n",
       "      <td>0</td>\n",
       "      <td>7</td>\n",
       "      <td>0</td>\n",
       "      <td>50</td>\n",
       "      <td>205</td>\n",
       "      <td>196</td>\n",
       "      <td>213</td>\n",
       "      <td>165</td>\n",
       "      <td>0</td>\n",
       "      <td>0</td>\n",
       "    </tr>\n",
       "    <tr>\n",
       "      <th>1</th>\n",
       "      <td>7</td>\n",
       "      <td>0</td>\n",
       "      <td>0</td>\n",
       "      <td>0</td>\n",
       "      <td>0</td>\n",
       "      <td>0</td>\n",
       "      <td>0</td>\n",
       "      <td>0</td>\n",
       "      <td>0</td>\n",
       "      <td>0</td>\n",
       "      <td>...</td>\n",
       "      <td>0</td>\n",
       "      <td>0</td>\n",
       "      <td>0</td>\n",
       "      <td>0</td>\n",
       "      <td>0</td>\n",
       "      <td>0</td>\n",
       "      <td>0</td>\n",
       "      <td>0</td>\n",
       "      <td>0</td>\n",
       "      <td>0</td>\n",
       "    </tr>\n",
       "    <tr>\n",
       "      <th>2</th>\n",
       "      <td>0</td>\n",
       "      <td>0</td>\n",
       "      <td>0</td>\n",
       "      <td>0</td>\n",
       "      <td>0</td>\n",
       "      <td>0</td>\n",
       "      <td>1</td>\n",
       "      <td>0</td>\n",
       "      <td>0</td>\n",
       "      <td>0</td>\n",
       "      <td>...</td>\n",
       "      <td>142</td>\n",
       "      <td>142</td>\n",
       "      <td>142</td>\n",
       "      <td>21</td>\n",
       "      <td>0</td>\n",
       "      <td>3</td>\n",
       "      <td>0</td>\n",
       "      <td>0</td>\n",
       "      <td>0</td>\n",
       "      <td>0</td>\n",
       "    </tr>\n",
       "    <tr>\n",
       "      <th>3</th>\n",
       "      <td>8</td>\n",
       "      <td>0</td>\n",
       "      <td>0</td>\n",
       "      <td>0</td>\n",
       "      <td>0</td>\n",
       "      <td>0</td>\n",
       "      <td>0</td>\n",
       "      <td>0</td>\n",
       "      <td>0</td>\n",
       "      <td>0</td>\n",
       "      <td>...</td>\n",
       "      <td>0</td>\n",
       "      <td>0</td>\n",
       "      <td>0</td>\n",
       "      <td>0</td>\n",
       "      <td>0</td>\n",
       "      <td>0</td>\n",
       "      <td>0</td>\n",
       "      <td>0</td>\n",
       "      <td>0</td>\n",
       "      <td>0</td>\n",
       "    </tr>\n",
       "    <tr>\n",
       "      <th>4</th>\n",
       "      <td>8</td>\n",
       "      <td>0</td>\n",
       "      <td>0</td>\n",
       "      <td>0</td>\n",
       "      <td>0</td>\n",
       "      <td>0</td>\n",
       "      <td>0</td>\n",
       "      <td>0</td>\n",
       "      <td>0</td>\n",
       "      <td>0</td>\n",
       "      <td>...</td>\n",
       "      <td>213</td>\n",
       "      <td>203</td>\n",
       "      <td>174</td>\n",
       "      <td>151</td>\n",
       "      <td>188</td>\n",
       "      <td>10</td>\n",
       "      <td>0</td>\n",
       "      <td>0</td>\n",
       "      <td>0</td>\n",
       "      <td>0</td>\n",
       "    </tr>\n",
       "  </tbody>\n",
       "</table>\n",
       "<p>5 rows × 785 columns</p>\n",
       "</div>"
      ],
      "text/plain": [
       "   label  pixel1  pixel2  pixel3  pixel4  pixel5  pixel6  pixel7  pixel8  \\\n",
       "0      9       0       0       0       0       0       0       0       0   \n",
       "1      7       0       0       0       0       0       0       0       0   \n",
       "2      0       0       0       0       0       0       1       0       0   \n",
       "3      8       0       0       0       0       0       0       0       0   \n",
       "4      8       0       0       0       0       0       0       0       0   \n",
       "\n",
       "   pixel9  ...  pixel775  pixel776  pixel777  pixel778  pixel779  pixel780  \\\n",
       "0       0  ...         0         7         0        50       205       196   \n",
       "1       0  ...         0         0         0         0         0         0   \n",
       "2       0  ...       142       142       142        21         0         3   \n",
       "3       0  ...         0         0         0         0         0         0   \n",
       "4       0  ...       213       203       174       151       188        10   \n",
       "\n",
       "   pixel781  pixel782  pixel783  pixel784  \n",
       "0       213       165         0         0  \n",
       "1         0         0         0         0  \n",
       "2         0         0         0         0  \n",
       "3         0         0         0         0  \n",
       "4         0         0         0         0  \n",
       "\n",
       "[5 rows x 785 columns]"
      ]
     },
     "execution_count": 158,
     "metadata": {},
     "output_type": "execute_result"
    }
   ],
   "source": [
    "df=pd.read_csv('./data/Fashion-MNIST/fmnist_small.csv')\n",
    "df.head(5)"
   ]
  },
  {
   "cell_type": "code",
   "execution_count": 159,
   "id": "d89c1acf",
   "metadata": {},
   "outputs": [],
   "source": [
    "X=df.iloc[:,1:].values\n",
    "Y=df.iloc[:,:1].values\n",
    "X_train,X_test,Y_train,Y_test=train_test_split(X,Y,test_size=0.1,random_state=42,stratify=Y)"
   ]
  },
  {
   "cell_type": "code",
   "execution_count": 160,
   "id": "a74ed899",
   "metadata": {},
   "outputs": [
    {
     "data": {
      "image/png": "[encoded data removed]",
      "text/plain": [
       "<Figure size 1000x1000 with 9 Axes>"
      ]
     },
     "metadata": {},
     "output_type": "display_data"
    }
   ],
   "source": [
    "# Create a 4x4 grid of images\n",
    "fig, axes = plt.subplots(3, 3, figsize=(10, 10))\n",
    "fig.suptitle(\"First 9 Images\", fontsize=16)\n",
    "\n",
    "# Plot the first 16 images from the dataset\n",
    "for i, ax in enumerate(axes.flat):\n",
    "    img = df.iloc[i, 1:].values.reshape(28, 28)  # Reshape to 28x28\n",
    "    ax.imshow(img)  # Display in grayscale\n",
    "    ax.axis('off')  # Remove axis for a cleaner look\n",
    "    ax.set_title(f\"Label: {df.iloc[i, 0]}\")  # Show the label\n",
    "\n",
    "plt.tight_layout(rect=[0, 0, 1, 0.96])  # Adjust layout to fit the title\n",
    "plt.show()"
   ]
  },
  {
   "cell_type": "code",
   "execution_count": 161,
   "id": "e03a6e9c",
   "metadata": {},
   "outputs": [],
   "source": [
    "#Scaling the features\n",
    "X_train=X_train/255.0\n",
    "X_test=X_test/255.0"
   ]
  },
  {
   "cell_type": "code",
   "execution_count": 162,
   "id": "8b920c94",
   "metadata": {},
   "outputs": [],
   "source": [
    "class CustomDataset(Dataset):\n",
    "    #constructor\n",
    "    def __init__(self,features,labels):\n",
    "        self.features=torch.tensor(features,dtype=torch.float32)\n",
    "        self.labels=torch.tensor(labels,dtype=torch.long).squeeze()  \n",
    "    # Len\n",
    "    def __len__(self):\n",
    "        return len(self.features)\n",
    "    # getitem\n",
    "    def __getitem__(self, index):\n",
    "        return self.features[index],self.labels[index]"
   ]
  },
  {
   "cell_type": "code",
   "execution_count": 163,
   "id": "eaa29262",
   "metadata": {},
   "outputs": [],
   "source": [
    "#create train_dataset object\n",
    "train_dataset=CustomDataset(X_train,Y_train)"
   ]
  },
  {
   "cell_type": "code",
   "execution_count": 164,
   "id": "be753e41",
   "metadata": {},
   "outputs": [
    {
     "data": {
      "text/plain": [
       "(tensor([0.0000, 0.0000, 0.0000, 0.0000, 0.0000, 0.0000, 0.0000, 0.0000, 0.0000,\n",
       "         0.0000, 0.0000, 0.0000, 0.0000, 0.0000, 0.0000, 0.0000, 0.0000, 0.0000,\n",
       "         0.0000, 0.0000, 0.0000, 0.0000, 0.0000, 0.0000, 0.0000, 0.0000, 0.0000,\n",
       "         0.0000, 0.0000, 0.0000, 0.0000, 0.0000, 0.0000, 0.0000, 0.0000, 0.0000,\n",
       "         0.0000, 0.0000, 0.0000, 0.0000, 0.0000, 0.0000, 0.0000, 0.0000, 0.0000,\n",
       "         0.0000, 0.0000, 0.0000, 0.0000, 0.0000, 0.0000, 0.0000, 0.0000, 0.0000,\n",
       "         0.0000, 0.0000, 0.0000, 0.0000, 0.0000, 0.0000, 0.0000, 0.0000, 0.0000,\n",
       "         0.0000, 0.0000, 0.0000, 0.0000, 0.0000, 0.0000, 0.0000, 0.0000, 0.0000,\n",
       "         0.0000, 0.0000, 0.0000, 0.0000, 0.0000, 0.0000, 0.0000, 0.0000, 0.0000,\n",
       "         0.0000, 0.0000, 0.0000, 0.0000, 0.0000, 0.0000, 0.0000, 0.0000, 0.0000,\n",
       "         0.0000, 0.0000, 0.0000, 0.0000, 0.0000, 0.0000, 0.0000, 0.0000, 0.0000,\n",
       "         0.0000, 0.0000, 0.0000, 0.0000, 0.0000, 0.0000, 0.0000, 0.0000, 0.0000,\n",
       "         0.0000, 0.0000, 0.0000, 0.0000, 0.0000, 0.0000, 0.0000, 0.0000, 0.0000,\n",
       "         0.0000, 0.0000, 0.0000, 0.0000, 0.0000, 0.0000, 0.0000, 0.0000, 0.0000,\n",
       "         0.0000, 0.0000, 0.0000, 0.0000, 0.0000, 0.0000, 0.0000, 0.0000, 0.0000,\n",
       "         0.0000, 0.0000, 0.0000, 0.0000, 0.0000, 0.0000, 0.0000, 0.0000, 0.0000,\n",
       "         0.0000, 0.0000, 0.0000, 0.0000, 0.0000, 0.0000, 0.0000, 0.0000, 0.0000,\n",
       "         0.0000, 0.0000, 0.0000, 0.0000, 0.0000, 0.0000, 0.0000, 0.0000, 0.0000,\n",
       "         0.0000, 0.0000, 0.0000, 0.0000, 0.0000, 0.0000, 0.0000, 0.0000, 0.0000,\n",
       "         0.0000, 0.0000, 0.0000, 0.0000, 0.0000, 0.0000, 0.0000, 0.0000, 0.0000,\n",
       "         0.0000, 0.0000, 0.0000, 0.0000, 0.0000, 0.0000, 0.0000, 0.0000, 0.0000,\n",
       "         0.0000, 0.0000, 0.0000, 0.0000, 0.0000, 0.0000, 0.0000, 0.0000, 0.0000,\n",
       "         0.0000, 0.0000, 0.0000, 0.0000, 0.0000, 0.0000, 0.0000, 0.0000, 0.0000,\n",
       "         0.0000, 0.0000, 0.0000, 0.0000, 0.0000, 0.0000, 0.0000, 0.0000, 0.0000,\n",
       "         0.0000, 0.0000, 0.0000, 0.0000, 0.0000, 0.0000, 0.0000, 0.0000, 0.0000,\n",
       "         0.0000, 0.0000, 0.0000, 0.0000, 0.0000, 0.0000, 0.0000, 0.0039, 0.0000,\n",
       "         0.0000, 0.0000, 0.0275, 0.0000, 0.0000, 0.0000, 0.1098, 0.2039, 0.0000,\n",
       "         0.0000, 0.0000, 0.0000, 0.0039, 0.0000, 0.0000, 0.0000, 0.0000, 0.0000,\n",
       "         0.0000, 0.0000, 0.0000, 0.0000, 0.0000, 0.0000, 0.0000, 0.0000, 0.0039,\n",
       "         0.0039, 0.0000, 0.0000, 0.0000, 0.0431, 0.1020, 0.3373, 0.6902, 0.4706,\n",
       "         0.0000, 0.0000, 0.0000, 0.0000, 0.0000, 0.0000, 0.0000, 0.1569, 0.4118,\n",
       "         0.0000, 0.0000, 0.0000, 0.0000, 0.0000, 0.0000, 0.0000, 0.0039, 0.0000,\n",
       "         0.0000, 0.0000, 0.0000, 0.0000, 0.3255, 0.1176, 0.8078, 0.4275, 0.5451,\n",
       "         0.7373, 0.0000, 0.0000, 0.0000, 0.0000, 0.0000, 0.0000, 0.0000, 0.4706,\n",
       "         0.5451, 0.0000, 0.0000, 0.0000, 0.0000, 0.0000, 0.0039, 0.0000, 0.0000,\n",
       "         0.0000, 0.0000, 0.0000, 0.1098, 0.4039, 0.3725, 0.7216, 0.5922, 0.6667,\n",
       "         0.7020, 0.4784, 0.5725, 0.0000, 0.0000, 0.0000, 0.0000, 0.0510, 0.5333,\n",
       "         0.7216, 0.7176, 0.2078, 0.0000, 0.0196, 0.0078, 0.0000, 0.0000, 0.0000,\n",
       "         0.0000, 0.2588, 0.0667, 0.4431, 0.1020, 0.8078, 0.3765, 0.6431, 0.7765,\n",
       "         0.4078, 0.7843, 0.6118, 0.9098, 0.8275, 0.7412, 0.6745, 0.6941, 0.6902,\n",
       "         0.6902, 0.7020, 0.7451, 0.2863, 0.0000, 0.0000, 0.0000, 0.0000, 0.1255,\n",
       "         0.4392, 0.2431, 0.4784, 0.5412, 0.7608, 0.6431, 0.5451, 0.8078, 0.6000,\n",
       "         0.5255, 0.9059, 0.2941, 0.7922, 0.3882, 0.7686, 0.6275, 0.6706, 0.7373,\n",
       "         0.6196, 0.8039, 0.6745, 0.7686, 0.5686, 0.0000, 0.2039, 0.2902, 0.4784,\n",
       "         0.4549, 0.5765, 0.6353, 0.4745, 0.7059, 0.4000, 0.7569, 0.5255, 0.5333,\n",
       "         0.7098, 0.4863, 0.8078, 0.7843, 0.6000, 0.7176, 0.6196, 0.6745, 0.6745,\n",
       "         0.5725, 0.7255, 0.5255, 0.6941, 0.5686, 0.5569, 0.0941, 0.7412, 0.6275,\n",
       "         0.5098, 0.5765, 0.6235, 0.6902, 0.6078, 0.6392, 0.7333, 0.6235, 0.7765,\n",
       "         0.7725, 0.5882, 0.8196, 0.4902, 0.8549, 0.6667, 0.7255, 0.7333, 0.7176,\n",
       "         0.7882, 0.7412, 0.7725, 0.7725, 0.7451, 1.0000, 0.7451, 0.0039, 0.0000,\n",
       "         0.0039, 0.0902, 0.2392, 0.2706, 0.2118, 0.4588, 0.0902, 0.4706, 0.2667,\n",
       "         0.3608, 0.5686, 0.3020, 0.5882, 0.6039, 0.5176, 0.5922, 0.4706, 0.4000,\n",
       "         0.3608, 0.2902, 0.3412, 0.1216, 0.2039, 0.0078, 0.0196, 0.0000, 0.0745,\n",
       "         0.1059, 0.0863, 0.0039, 0.0000, 0.0000, 0.0000, 0.0000, 0.0000, 0.0000,\n",
       "         0.0000, 0.0000, 0.0000, 0.0000, 0.0000, 0.0000, 0.0000, 0.0000, 0.0000,\n",
       "         0.0000, 0.0000, 0.0000, 0.0000, 0.0000, 0.0000, 0.0353, 0.0353, 0.0706,\n",
       "         0.1098, 0.1098, 0.0902, 0.1059, 0.1216, 0.1176, 0.1098, 0.1020, 0.1059,\n",
       "         0.1176, 0.0941, 0.1059, 0.1216, 0.1059, 0.1059, 0.0941, 0.1176, 0.1216,\n",
       "         0.1098, 0.1216, 0.1216, 0.1333, 0.1059, 0.0941, 0.1059, 0.1020, 0.0941,\n",
       "         0.1020, 0.1216, 0.1608, 0.1529, 0.1686, 0.1373, 0.1255, 0.1176, 0.1020,\n",
       "         0.1059, 0.1216, 0.1020, 0.0902, 0.0902, 0.0863, 0.0902, 0.0902, 0.0902,\n",
       "         0.0863, 0.0745, 0.0863, 0.1020, 0.1059, 0.1176, 0.1216, 0.1176, 0.1059,\n",
       "         0.1098, 0.1451, 0.0000, 0.0039, 0.0118, 0.0392, 0.0863, 0.0863, 0.0941,\n",
       "         0.1098, 0.1020, 0.0941, 0.1216, 0.1176, 0.0902, 0.1098, 0.1216, 0.1176,\n",
       "         0.1059, 0.0941, 0.1098, 0.1020, 0.0941, 0.0784, 0.0863, 0.0784, 0.0706,\n",
       "         0.0667, 0.0510, 0.0118, 0.0000, 0.0000, 0.0000, 0.0000, 0.0000, 0.0000,\n",
       "         0.0000, 0.0000, 0.0000, 0.0000, 0.0000, 0.0000, 0.0000, 0.0000, 0.0000,\n",
       "         0.0000, 0.0000, 0.0000, 0.0000, 0.0000, 0.0000, 0.0000, 0.0000, 0.0000,\n",
       "         0.0000, 0.0000, 0.0000, 0.0000, 0.0000, 0.0000, 0.0000, 0.0000, 0.0000,\n",
       "         0.0000, 0.0000, 0.0000, 0.0000, 0.0000, 0.0000, 0.0000, 0.0000, 0.0000,\n",
       "         0.0000, 0.0000, 0.0000, 0.0000, 0.0000, 0.0000, 0.0000, 0.0000, 0.0000,\n",
       "         0.0000, 0.0000, 0.0000, 0.0000, 0.0000, 0.0000, 0.0000, 0.0000, 0.0000,\n",
       "         0.0000, 0.0000, 0.0000, 0.0000, 0.0000, 0.0000, 0.0000, 0.0000, 0.0000,\n",
       "         0.0000, 0.0000, 0.0000, 0.0000, 0.0000, 0.0000, 0.0000, 0.0000, 0.0000,\n",
       "         0.0000, 0.0000, 0.0000, 0.0000, 0.0000, 0.0000, 0.0000, 0.0000, 0.0000,\n",
       "         0.0000, 0.0000, 0.0000, 0.0000, 0.0000, 0.0000, 0.0000, 0.0000, 0.0000,\n",
       "         0.0000, 0.0000, 0.0000, 0.0000, 0.0000, 0.0000, 0.0000, 0.0000, 0.0000,\n",
       "         0.0000, 0.0000, 0.0000, 0.0000, 0.0000, 0.0000, 0.0000, 0.0000, 0.0000,\n",
       "         0.0000, 0.0000, 0.0000, 0.0000, 0.0000, 0.0000, 0.0000, 0.0000, 0.0000,\n",
       "         0.0000, 0.0000, 0.0000, 0.0000, 0.0000, 0.0000, 0.0000, 0.0000, 0.0000,\n",
       "         0.0000, 0.0000, 0.0000, 0.0000, 0.0000, 0.0000, 0.0000, 0.0000, 0.0000,\n",
       "         0.0000, 0.0000, 0.0000, 0.0000, 0.0000, 0.0000, 0.0000, 0.0000, 0.0000,\n",
       "         0.0000, 0.0000, 0.0000, 0.0000, 0.0000, 0.0000, 0.0000, 0.0000, 0.0000,\n",
       "         0.0000, 0.0000, 0.0000, 0.0000, 0.0000, 0.0000, 0.0000, 0.0000, 0.0000,\n",
       "         0.0000, 0.0000, 0.0000, 0.0000, 0.0000, 0.0000, 0.0000, 0.0000, 0.0000,\n",
       "         0.0000, 0.0000, 0.0000, 0.0000, 0.0000, 0.0000, 0.0000, 0.0000, 0.0000,\n",
       "         0.0000, 0.0000, 0.0000, 0.0000, 0.0000, 0.0000, 0.0000, 0.0000, 0.0000,\n",
       "         0.0000]),\n",
       " tensor(7))"
      ]
     },
     "execution_count": 164,
     "metadata": {},
     "output_type": "execute_result"
    }
   ],
   "source": [
    "train_dataset[0]"
   ]
  },
  {
   "cell_type": "code",
   "execution_count": 165,
   "id": "a662d67e",
   "metadata": {},
   "outputs": [],
   "source": [
    "#Create test dataset object\n",
    "test_dataset=CustomDataset(X_test,Y_test)"
   ]
  },
  {
   "cell_type": "code",
   "execution_count": 166,
   "id": "1b665195",
   "metadata": {},
   "outputs": [],
   "source": [
    "#create train and test loader\n",
    "train_loader=DataLoader(train_dataset,batch_size=32,shuffle=True)\n",
    "test_loader=DataLoader(test_dataset,batch_size=32,shuffle=False)"
   ]
  },
  {
   "cell_type": "code",
   "execution_count": 167,
   "id": "d8a76adf",
   "metadata": {},
   "outputs": [],
   "source": [
    "#define NN Architecture\n",
    "class SimpleNN(nn.Module):\n",
    "    def __init__(self,num_features):\n",
    "        super().__init__()\n",
    "        self.model=nn.Sequential(\n",
    "            nn.Linear(num_features,128),\n",
    "            nn.ReLU(),\n",
    "            nn.Linear(128,64),\n",
    "            nn.ReLU(),\n",
    "            nn.Linear(64,10)\n",
    "        )\n",
    "    def forward(self,X):\n",
    "        return self.model(X)"
   ]
  },
  {
   "cell_type": "code",
   "execution_count": 168,
   "id": "7789c138",
   "metadata": {},
   "outputs": [],
   "source": [
    "# Set learning rate and epochs\n",
    "epochs=100\n",
    "learning_rate=0.1"
   ]
  },
  {
   "cell_type": "code",
   "execution_count": 169,
   "id": "b807183a",
   "metadata": {},
   "outputs": [],
   "source": [
    "#instantiate the model\n",
    "model=SimpleNN(X_train.shape[1])\n",
    "\n",
    "#loss function\n",
    "criterion=nn.CrossEntropyLoss()\n",
    "\n",
    "#optimizer\n",
    "optimizer=optim.SGD(model.parameters(),lr=learning_rate)"
   ]
  },
  {
   "cell_type": "code",
   "execution_count": 170,
   "id": "2f3dda74",
   "metadata": {},
   "outputs": [
    {
     "data": {
      "text/plain": [
       "169"
      ]
     },
     "execution_count": 170,
     "metadata": {},
     "output_type": "execute_result"
    }
   ],
   "source": [
    "#train load dataset\n",
    "len(train_loader)"
   ]
  },
  {
   "cell_type": "code",
   "execution_count": 171,
   "id": "ed46cf35",
   "metadata": {},
   "outputs": [
    {
     "name": "stdout",
     "output_type": "stream",
     "text": [
      "Epoch:1 , Loss: 1.301978635717426\n",
      "Epoch:2 , Loss: 0.7689080351203151\n",
      "Epoch:3 , Loss: 0.6395158961679809\n",
      "Epoch:4 , Loss: 0.5791411576186412\n",
      "Epoch:5 , Loss: 0.5372346442126663\n",
      "Epoch:6 , Loss: 0.506701618168481\n",
      "Epoch:7 , Loss: 0.4810583854215385\n",
      "Epoch:8 , Loss: 0.4463134023564807\n",
      "Epoch:9 , Loss: 0.4201643822284845\n",
      "Epoch:10 , Loss: 0.4125095109438755\n",
      "Epoch:11 , Loss: 0.38735208598643367\n",
      "Epoch:12 , Loss: 0.37002781209861035\n",
      "Epoch:13 , Loss: 0.360732515050462\n",
      "Epoch:14 , Loss: 0.34301202113811785\n",
      "Epoch:15 , Loss: 0.33769055978345447\n",
      "Epoch:16 , Loss: 0.3288768337675806\n",
      "Epoch:17 , Loss: 0.3192239930996528\n",
      "Epoch:18 , Loss: 0.2911988491930905\n",
      "Epoch:19 , Loss: 0.28023940285105675\n",
      "Epoch:20 , Loss: 0.2765318910707031\n",
      "Epoch:21 , Loss: 0.27031939963881785\n",
      "Epoch:22 , Loss: 0.252554279283659\n",
      "Epoch:23 , Loss: 0.2515295585892962\n",
      "Epoch:24 , Loss: 0.23899222108033988\n",
      "Epoch:25 , Loss: 0.23052758644142093\n",
      "Epoch:26 , Loss: 0.24561160423699216\n",
      "Epoch:27 , Loss: 0.2148802999252751\n",
      "Epoch:28 , Loss: 0.21400794351594687\n",
      "Epoch:29 , Loss: 0.2081207619792611\n",
      "Epoch:30 , Loss: 0.20435468351038602\n",
      "Epoch:31 , Loss: 0.19360890766308153\n",
      "Epoch:32 , Loss: 0.19936351860548265\n",
      "Epoch:33 , Loss: 0.17963574751770708\n",
      "Epoch:34 , Loss: 0.18264659310101405\n",
      "Epoch:35 , Loss: 0.17237428617636127\n",
      "Epoch:36 , Loss: 0.15749586357035228\n",
      "Epoch:37 , Loss: 0.14996766664374334\n",
      "Epoch:38 , Loss: 0.1635208832177185\n",
      "Epoch:39 , Loss: 0.14807315574154345\n",
      "Epoch:40 , Loss: 0.16212235078678505\n",
      "Epoch:41 , Loss: 0.15143575687953353\n",
      "Epoch:42 , Loss: 0.17473860025494056\n",
      "Epoch:43 , Loss: 0.15995033850243107\n",
      "Epoch:44 , Loss: 0.14395323449734754\n",
      "Epoch:45 , Loss: 0.11681173920366891\n",
      "Epoch:46 , Loss: 0.1187642825073039\n",
      "Epoch:47 , Loss: 0.13938691745341353\n",
      "Epoch:48 , Loss: 0.11696404966762697\n",
      "Epoch:49 , Loss: 0.1116976917214339\n",
      "Epoch:50 , Loss: 0.10934967238500097\n",
      "Epoch:51 , Loss: 0.10111789356851013\n",
      "Epoch:52 , Loss: 0.10080245418058013\n",
      "Epoch:53 , Loss: 0.0920435587032395\n",
      "Epoch:54 , Loss: 0.09382924663740591\n",
      "Epoch:55 , Loss: 0.10195625224564026\n",
      "Epoch:56 , Loss: 0.1005524791799177\n",
      "Epoch:57 , Loss: 0.08952164525695189\n",
      "Epoch:58 , Loss: 0.07516764932912746\n",
      "Epoch:59 , Loss: 0.09419774428869669\n",
      "Epoch:60 , Loss: 0.08634287968123629\n",
      "Epoch:61 , Loss: 0.080050893958669\n",
      "Epoch:62 , Loss: 0.05623628669997027\n",
      "Epoch:63 , Loss: 0.0701574496608007\n",
      "Epoch:64 , Loss: 0.08780958162091629\n",
      "Epoch:65 , Loss: 0.0664588332509611\n",
      "Epoch:66 , Loss: 0.07931437636119418\n",
      "Epoch:67 , Loss: 0.07236518364154441\n",
      "Epoch:68 , Loss: 0.05077133548153928\n",
      "Epoch:69 , Loss: 0.050581671253463925\n",
      "Epoch:70 , Loss: 0.06182247922568411\n",
      "Epoch:71 , Loss: 0.0895617170818701\n",
      "Epoch:72 , Loss: 0.06610485582375492\n",
      "Epoch:73 , Loss: 0.0456876007043729\n",
      "Epoch:74 , Loss: 0.031639493022323446\n",
      "Epoch:75 , Loss: 0.03716288588337666\n",
      "Epoch:76 , Loss: 0.05075173338767714\n",
      "Epoch:77 , Loss: 0.03543786607550446\n",
      "Epoch:78 , Loss: 0.027917345958905153\n",
      "Epoch:79 , Loss: 0.03639826332232722\n",
      "Epoch:80 , Loss: 0.030932609285999463\n",
      "Epoch:81 , Loss: 0.09882770792082415\n",
      "Epoch:82 , Loss: 0.060774870033612885\n",
      "Epoch:83 , Loss: 0.0407236137774569\n",
      "Epoch:84 , Loss: 0.04094208944237587\n",
      "Epoch:85 , Loss: 0.026346140664440066\n",
      "Epoch:86 , Loss: 0.0239865884297464\n",
      "Epoch:87 , Loss: 0.03951241547026886\n",
      "Epoch:88 , Loss: 0.027184499655340484\n",
      "Epoch:89 , Loss: 0.023729642487362514\n",
      "Epoch:90 , Loss: 0.027197491842220103\n",
      "Epoch:91 , Loss: 0.027346617140264397\n",
      "Epoch:92 , Loss: 0.06798206425007411\n",
      "Epoch:93 , Loss: 0.013643860839859764\n",
      "Epoch:94 , Loss: 0.009659286387200665\n",
      "Epoch:95 , Loss: 0.010389147122106764\n",
      "Epoch:96 , Loss: 0.007930462759404205\n",
      "Epoch:97 , Loss: 0.008493373446550892\n",
      "Epoch:98 , Loss: 0.00605958372288378\n",
      "Epoch:99 , Loss: 0.00956555749269026\n",
      "Epoch:100 , Loss: 0.008568357358095163\n"
     ]
    }
   ],
   "source": [
    "#training loop\n",
    "for epoch in range(epochs):\n",
    "    total_loss=0\n",
    "    for batch_features,batch_labels in train_loader:\n",
    "        #forward pass\n",
    "        outputs=model(batch_features)\n",
    "        #loss calculation\n",
    "        loss=criterion(outputs,batch_labels)\n",
    "        #backpropagation\n",
    "        optimizer.zero_grad()\n",
    "        loss.backward()\n",
    "        #weights update\n",
    "        optimizer.step()\n",
    "        \n",
    "        total_loss+=loss.item()\n",
    "    avg_loss=total_loss/len(train_loader)\n",
    "    print(f\"Epoch:{epoch+1} , Loss: {avg_loss}\")\n",
    "        "
   ]
  },
  {
   "cell_type": "markdown",
   "id": "d6bc3cbc",
   "metadata": {},
   "source": [
    "### Evaluations:"
   ]
  },
  {
   "cell_type": "code",
   "execution_count": 172,
   "id": "7fb2c272",
   "metadata": {},
   "outputs": [
    {
     "data": {
      "text/plain": [
       "SimpleNN(\n",
       "  (model): Sequential(\n",
       "    (0): Linear(in_features=784, out_features=128, bias=True)\n",
       "    (1): ReLU()\n",
       "    (2): Linear(in_features=128, out_features=64, bias=True)\n",
       "    (3): ReLU()\n",
       "    (4): Linear(in_features=64, out_features=10, bias=True)\n",
       "  )\n",
       ")"
      ]
     },
     "execution_count": 172,
     "metadata": {},
     "output_type": "execute_result"
    }
   ],
   "source": [
    "#set model eval mode on:\n",
    "model.eval()"
   ]
  },
  {
   "cell_type": "code",
   "execution_count": 174,
   "id": "987e5d49",
   "metadata": {},
   "outputs": [
    {
     "name": "stdout",
     "output_type": "stream",
     "text": [
      "0.8616666666666667\n"
     ]
    }
   ],
   "source": [
    "# evaluation code\n",
    "total=0\n",
    "correct=0\n",
    "with torch.no_grad():\n",
    "    for batch_features,batch_labels in test_loader:\n",
    "        outputs=model(batch_features)\n",
    "        _,predictions=torch.max(outputs,1)\n",
    "        total=total+len(batch_labels)\n",
    "        correct=correct+(predictions==batch_labels).sum().item()\n",
    "print(correct/total)"
   ]
  },
  {
   "cell_type": "code",
   "execution_count": null,
   "id": "f809cc99",
   "metadata": {},
   "outputs": [],
   "source": []
  }
 ],
 "metadata": {
  "kernelspec": {
   "display_name": "Python 3",
   "language": "python",
   "name": "python3"
  },
  "language_info": {
   "codemirror_mode": {
    "name": "ipython",
    "version": 3
   },
   "file_extension": ".py",
   "mimetype": "text/x-python",
   "name": "python",
   "nbconvert_exporter": "python",
   "pygments_lexer": "ipython3",
   "version": "3.10.18"
  }
 },
 "nbformat": 4,
 "nbformat_minor": 5
}
