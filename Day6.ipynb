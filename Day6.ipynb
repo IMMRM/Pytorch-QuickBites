{
 "cells": [
  {
   "cell_type": "markdown",
   "id": "24971179",
   "metadata": {},
   "source": [
    "## Neural Network training on GPU"
   ]
  },
  {
   "cell_type": "markdown",
   "id": "f41d3b10",
   "metadata": {},
   "source": [
    "* We're going to create our first ANN network that will get trained over Fashion MNIST dataset\n",
    "* The dataset is a cropped out version of original version which contains approximately 60k records."
   ]
  },
  {
   "cell_type": "markdown",
   "id": "1357ec6a",
   "metadata": {},
   "source": [
    "#### Arcitecture:\n",
    "* Input : 784\n",
    "* Hidden layer 1: 784 -> 128\n",
    "* ReLU()\n",
    "* Hidden layer 2: 128 -> 64\n",
    "* ReLU()\n",
    "* Output Layer 3: 64 -> 10\n",
    "* Why not softmax in output? Well our Binary Cross Entropy already has softmax built in itself"
   ]
  },
  {
   "cell_type": "markdown",
   "id": "84521f8d",
   "metadata": {},
   "source": [
    "* At first we gonna build our CustomDataset Class"
   ]
  },
  {
   "cell_type": "code",
   "execution_count": 4,
   "id": "282415e6",
   "metadata": {},
   "outputs": [],
   "source": [
    "#importing standard libraries\n",
    "import torch\n",
    "from torch.utils.data import Dataset, DataLoader\n",
    "import torch.nn as nn\n",
    "import pandas as pd\n",
    "from sklearn.model_selection import train_test_split\n",
    "import matplotlib.pyplot as plt\n",
    "import torch.optim as optim"
   ]
  },
  {
   "cell_type": "code",
   "execution_count": 5,
   "id": "cb473516",
   "metadata": {},
   "outputs": [
    {
     "data": {
      "text/plain": [
       "<torch._C.Generator at 0x24bff6ff790>"
      ]
     },
     "execution_count": 5,
     "metadata": {},
     "output_type": "execute_result"
    }
   ],
   "source": [
    "#Set manual seed for reproducibility\n",
    "torch.manual_seed(42)"
   ]
  },
  {
   "cell_type": "code",
   "execution_count": 6,
   "id": "3411f8ab",
   "metadata": {},
   "outputs": [
    {
     "name": "stdout",
     "output_type": "stream",
     "text": [
      "Using device:cuda\n"
     ]
    }
   ],
   "source": [
    "#Check for GPU\n",
    "device=torch.device('cuda' if torch.cuda.is_available() else 'cpu')\n",
    "print(f\"Using device:{device}\")"
   ]
  },
  {
   "cell_type": "code",
   "execution_count": 7,
   "id": "114b843a",
   "metadata": {},
   "outputs": [
    {
     "data": {
      "application/vnd.microsoft.datawrangler.viewer.v0+json": {
       "columns": [
        {
         "name": "index",
         "rawType": "int64",
         "type": "integer"
        },
        {
         "name": "label",
         "rawType": "int64",
         "type": "integer"
        },
        {
         "name": "pixel1",
         "rawType": "int64",
         "type": "integer"
        },
        {
         "name": "pixel2",
         "rawType": "int64",
         "type": "integer"
        },
        {
         "name": "pixel3",
         "rawType": "int64",
         "type": "integer"
        },
        {
         "name": "pixel4",
         "rawType": "int64",
         "type": "integer"
        },
        {
         "name": "pixel5",
         "rawType": "int64",
         "type": "integer"
        },
        {
         "name": "pixel6",
         "rawType": "int64",
         "type": "integer"
        },
        {
         "name": "pixel7",
         "rawType": "int64",
         "type": "integer"
        },
        {
         "name": "pixel8",
         "rawType": "int64",
         "type": "integer"
        },
        {
         "name": "pixel9",
         "rawType": "int64",
         "type": "integer"
        },
        {
         "name": "pixel10",
         "rawType": "int64",
         "type": "integer"
        },
        {
         "name": "pixel11",
         "rawType": "int64",
         "type": "integer"
        },
        {
         "name": "pixel12",
         "rawType": "int64",
         "type": "integer"
        },
        {
         "name": "pixel13",
         "rawType": "int64",
         "type": "integer"
        },
        {
         "name": "pixel14",
         "rawType": "int64",
         "type": "integer"
        },
        {
         "name": "pixel15",
         "rawType": "int64",
         "type": "integer"
        },
        {
         "name": "pixel16",
         "rawType": "int64",
         "type": "integer"
        },
        {
         "name": "pixel17",
         "rawType": "int64",
         "type": "integer"
        },
        {
         "name": "pixel18",
         "rawType": "int64",
         "type": "integer"
        },
        {
         "name": "pixel19",
         "rawType": "int64",
         "type": "integer"
        },
        {
         "name": "pixel20",
         "rawType": "int64",
         "type": "integer"
        },
        {
         "name": "pixel21",
         "rawType": "int64",
         "type": "integer"
        },
        {
         "name": "pixel22",
         "rawType": "int64",
         "type": "integer"
        },
        {
         "name": "pixel23",
         "rawType": "int64",
         "type": "integer"
        },
        {
         "name": "pixel24",
         "rawType": "int64",
         "type": "integer"
        },
        {
         "name": "pixel25",
         "rawType": "int64",
         "type": "integer"
        },
        {
         "name": "pixel26",
         "rawType": "int64",
         "type": "integer"
        },
        {
         "name": "pixel27",
         "rawType": "int64",
         "type": "integer"
        },
        {
         "name": "pixel28",
         "rawType": "int64",
         "type": "integer"
        },
        {
         "name": "pixel29",
         "rawType": "int64",
         "type": "integer"
        },
        {
         "name": "pixel30",
         "rawType": "int64",
         "type": "integer"
        },
        {
         "name": "pixel31",
         "rawType": "int64",
         "type": "integer"
        },
        {
         "name": "pixel32",
         "rawType": "int64",
         "type": "integer"
        },
        {
         "name": "pixel33",
         "rawType": "int64",
         "type": "integer"
        },
        {
         "name": "pixel34",
         "rawType": "int64",
         "type": "integer"
        },
        {
         "name": "pixel35",
         "rawType": "int64",
         "type": "integer"
        },
        {
         "name": "pixel36",
         "rawType": "int64",
         "type": "integer"
        },
        {
         "name": "pixel37",
         "rawType": "int64",
         "type": "integer"
        },
        {
         "name": "pixel38",
         "rawType": "int64",
         "type": "integer"
        },
        {
         "name": "pixel39",
         "rawType": "int64",
         "type": "integer"
        },
        {
         "name": "pixel40",
         "rawType": "int64",
         "type": "integer"
        },
        {
         "name": "pixel41",
         "rawType": "int64",
         "type": "integer"
        },
        {
         "name": "pixel42",
         "rawType": "int64",
         "type": "integer"
        },
        {
         "name": "pixel43",
         "rawType": "int64",
         "type": "integer"
        },
        {
         "name": "pixel44",
         "rawType": "int64",
         "type": "integer"
        },
        {
         "name": "pixel45",
         "rawType": "int64",
         "type": "integer"
        },
        {
         "name": "pixel46",
         "rawType": "int64",
         "type": "integer"
        },
        {
         "name": "pixel47",
         "rawType": "int64",
         "type": "integer"
        },
        {
         "name": "pixel48",
         "rawType": "int64",
         "type": "integer"
        },
        {
         "name": "pixel49",
         "rawType": "int64",
         "type": "integer"
        },
        {
         "name": "pixel50",
         "rawType": "int64",
         "type": "integer"
        },
        {
         "name": "pixel51",
         "rawType": "int64",
         "type": "integer"
        },
        {
         "name": "pixel52",
         "rawType": "int64",
         "type": "integer"
        },
        {
         "name": "pixel53",
         "rawType": "int64",
         "type": "integer"
        },
        {
         "name": "pixel54",
         "rawType": "int64",
         "type": "integer"
        },
        {
         "name": "pixel55",
         "rawType": "int64",
         "type": "integer"
        },
        {
         "name": "pixel56",
         "rawType": "int64",
         "type": "integer"
        },
        {
         "name": "pixel57",
         "rawType": "int64",
         "type": "integer"
        },
        {
         "name": "pixel58",
         "rawType": "int64",
         "type": "integer"
        },
        {
         "name": "pixel59",
         "rawType": "int64",
         "type": "integer"
        },
        {
         "name": "pixel60",
         "rawType": "int64",
         "type": "integer"
        },
        {
         "name": "pixel61",
         "rawType": "int64",
         "type": "integer"
        },
        {
         "name": "pixel62",
         "rawType": "int64",
         "type": "integer"
        },
        {
         "name": "pixel63",
         "rawType": "int64",
         "type": "integer"
        },
        {
         "name": "pixel64",
         "rawType": "int64",
         "type": "integer"
        },
        {
         "name": "pixel65",
         "rawType": "int64",
         "type": "integer"
        },
        {
         "name": "pixel66",
         "rawType": "int64",
         "type": "integer"
        },
        {
         "name": "pixel67",
         "rawType": "int64",
         "type": "integer"
        },
        {
         "name": "pixel68",
         "rawType": "int64",
         "type": "integer"
        },
        {
         "name": "pixel69",
         "rawType": "int64",
         "type": "integer"
        },
        {
         "name": "pixel70",
         "rawType": "int64",
         "type": "integer"
        },
        {
         "name": "pixel71",
         "rawType": "int64",
         "type": "integer"
        },
        {
         "name": "pixel72",
         "rawType": "int64",
         "type": "integer"
        },
        {
         "name": "pixel73",
         "rawType": "int64",
         "type": "integer"
        },
        {
         "name": "pixel74",
         "rawType": "int64",
         "type": "integer"
        },
        {
         "name": "pixel75",
         "rawType": "int64",
         "type": "integer"
        },
        {
         "name": "pixel76",
         "rawType": "int64",
         "type": "integer"
        },
        {
         "name": "pixel77",
         "rawType": "int64",
         "type": "integer"
        },
        {
         "name": "pixel78",
         "rawType": "int64",
         "type": "integer"
        },
        {
         "name": "pixel79",
         "rawType": "int64",
         "type": "integer"
        },
        {
         "name": "pixel80",
         "rawType": "int64",
         "type": "integer"
        },
        {
         "name": "pixel81",
         "rawType": "int64",
         "type": "integer"
        },
        {
         "name": "pixel82",
         "rawType": "int64",
         "type": "integer"
        },
        {
         "name": "pixel83",
         "rawType": "int64",
         "type": "integer"
        },
        {
         "name": "pixel84",
         "rawType": "int64",
         "type": "integer"
        },
        {
         "name": "pixel85",
         "rawType": "int64",
         "type": "integer"
        },
        {
         "name": "pixel86",
         "rawType": "int64",
         "type": "integer"
        },
        {
         "name": "pixel87",
         "rawType": "int64",
         "type": "integer"
        },
        {
         "name": "pixel88",
         "rawType": "int64",
         "type": "integer"
        },
        {
         "name": "pixel89",
         "rawType": "int64",
         "type": "integer"
        },
        {
         "name": "pixel90",
         "rawType": "int64",
         "type": "integer"
        },
        {
         "name": "pixel91",
         "rawType": "int64",
         "type": "integer"
        },
        {
         "name": "pixel92",
         "rawType": "int64",
         "type": "integer"
        },
        {
         "name": "pixel93",
         "rawType": "int64",
         "type": "integer"
        },
        {
         "name": "pixel94",
         "rawType": "int64",
         "type": "integer"
        },
        {
         "name": "pixel95",
         "rawType": "int64",
         "type": "integer"
        },
        {
         "name": "pixel96",
         "rawType": "int64",
         "type": "integer"
        },
        {
         "name": "pixel97",
         "rawType": "int64",
         "type": "integer"
        },
        {
         "name": "pixel98",
         "rawType": "int64",
         "type": "integer"
        },
        {
         "name": "pixel99",
         "rawType": "int64",
         "type": "integer"
        },
        {
         "name": "pixel100",
         "rawType": "int64",
         "type": "integer"
        },
        {
         "name": "pixel101",
         "rawType": "int64",
         "type": "integer"
        },
        {
         "name": "pixel102",
         "rawType": "int64",
         "type": "integer"
        },
        {
         "name": "pixel103",
         "rawType": "int64",
         "type": "integer"
        },
        {
         "name": "pixel104",
         "rawType": "int64",
         "type": "integer"
        },
        {
         "name": "pixel105",
         "rawType": "int64",
         "type": "integer"
        },
        {
         "name": "pixel106",
         "rawType": "int64",
         "type": "integer"
        },
        {
         "name": "pixel107",
         "rawType": "int64",
         "type": "integer"
        },
        {
         "name": "pixel108",
         "rawType": "int64",
         "type": "integer"
        },
        {
         "name": "pixel109",
         "rawType": "int64",
         "type": "integer"
        },
        {
         "name": "pixel110",
         "rawType": "int64",
         "type": "integer"
        },
        {
         "name": "pixel111",
         "rawType": "int64",
         "type": "integer"
        },
        {
         "name": "pixel112",
         "rawType": "int64",
         "type": "integer"
        },
        {
         "name": "pixel113",
         "rawType": "int64",
         "type": "integer"
        },
        {
         "name": "pixel114",
         "rawType": "int64",
         "type": "integer"
        },
        {
         "name": "pixel115",
         "rawType": "int64",
         "type": "integer"
        },
        {
         "name": "pixel116",
         "rawType": "int64",
         "type": "integer"
        },
        {
         "name": "pixel117",
         "rawType": "int64",
         "type": "integer"
        },
        {
         "name": "pixel118",
         "rawType": "int64",
         "type": "integer"
        },
        {
         "name": "pixel119",
         "rawType": "int64",
         "type": "integer"
        },
        {
         "name": "pixel120",
         "rawType": "int64",
         "type": "integer"
        },
        {
         "name": "pixel121",
         "rawType": "int64",
         "type": "integer"
        },
        {
         "name": "pixel122",
         "rawType": "int64",
         "type": "integer"
        },
        {
         "name": "pixel123",
         "rawType": "int64",
         "type": "integer"
        },
        {
         "name": "pixel124",
         "rawType": "int64",
         "type": "integer"
        },
        {
         "name": "pixel125",
         "rawType": "int64",
         "type": "integer"
        },
        {
         "name": "pixel126",
         "rawType": "int64",
         "type": "integer"
        },
        {
         "name": "pixel127",
         "rawType": "int64",
         "type": "integer"
        },
        {
         "name": "pixel128",
         "rawType": "int64",
         "type": "integer"
        },
        {
         "name": "pixel129",
         "rawType": "int64",
         "type": "integer"
        },
        {
         "name": "pixel130",
         "rawType": "int64",
         "type": "integer"
        },
        {
         "name": "pixel131",
         "rawType": "int64",
         "type": "integer"
        },
        {
         "name": "pixel132",
         "rawType": "int64",
         "type": "integer"
        },
        {
         "name": "pixel133",
         "rawType": "int64",
         "type": "integer"
        },
        {
         "name": "pixel134",
         "rawType": "int64",
         "type": "integer"
        },
        {
         "name": "pixel135",
         "rawType": "int64",
         "type": "integer"
        },
        {
         "name": "pixel136",
         "rawType": "int64",
         "type": "integer"
        },
        {
         "name": "pixel137",
         "rawType": "int64",
         "type": "integer"
        },
        {
         "name": "pixel138",
         "rawType": "int64",
         "type": "integer"
        },
        {
         "name": "pixel139",
         "rawType": "int64",
         "type": "integer"
        },
        {
         "name": "pixel140",
         "rawType": "int64",
         "type": "integer"
        },
        {
         "name": "pixel141",
         "rawType": "int64",
         "type": "integer"
        },
        {
         "name": "pixel142",
         "rawType": "int64",
         "type": "integer"
        },
        {
         "name": "pixel143",
         "rawType": "int64",
         "type": "integer"
        },
        {
         "name": "pixel144",
         "rawType": "int64",
         "type": "integer"
        },
        {
         "name": "pixel145",
         "rawType": "int64",
         "type": "integer"
        },
        {
         "name": "pixel146",
         "rawType": "int64",
         "type": "integer"
        },
        {
         "name": "pixel147",
         "rawType": "int64",
         "type": "integer"
        },
        {
         "name": "pixel148",
         "rawType": "int64",
         "type": "integer"
        },
        {
         "name": "pixel149",
         "rawType": "int64",
         "type": "integer"
        },
        {
         "name": "pixel150",
         "rawType": "int64",
         "type": "integer"
        },
        {
         "name": "pixel151",
         "rawType": "int64",
         "type": "integer"
        },
        {
         "name": "pixel152",
         "rawType": "int64",
         "type": "integer"
        },
        {
         "name": "pixel153",
         "rawType": "int64",
         "type": "integer"
        },
        {
         "name": "pixel154",
         "rawType": "int64",
         "type": "integer"
        },
        {
         "name": "pixel155",
         "rawType": "int64",
         "type": "integer"
        },
        {
         "name": "pixel156",
         "rawType": "int64",
         "type": "integer"
        },
        {
         "name": "pixel157",
         "rawType": "int64",
         "type": "integer"
        },
        {
         "name": "pixel158",
         "rawType": "int64",
         "type": "integer"
        },
        {
         "name": "pixel159",
         "rawType": "int64",
         "type": "integer"
        },
        {
         "name": "pixel160",
         "rawType": "int64",
         "type": "integer"
        },
        {
         "name": "pixel161",
         "rawType": "int64",
         "type": "integer"
        },
        {
         "name": "pixel162",
         "rawType": "int64",
         "type": "integer"
        },
        {
         "name": "pixel163",
         "rawType": "int64",
         "type": "integer"
        },
        {
         "name": "pixel164",
         "rawType": "int64",
         "type": "integer"
        },
        {
         "name": "pixel165",
         "rawType": "int64",
         "type": "integer"
        },
        {
         "name": "pixel166",
         "rawType": "int64",
         "type": "integer"
        },
        {
         "name": "pixel167",
         "rawType": "int64",
         "type": "integer"
        },
        {
         "name": "pixel168",
         "rawType": "int64",
         "type": "integer"
        },
        {
         "name": "pixel169",
         "rawType": "int64",
         "type": "integer"
        },
        {
         "name": "pixel170",
         "rawType": "int64",
         "type": "integer"
        },
        {
         "name": "pixel171",
         "rawType": "int64",
         "type": "integer"
        },
        {
         "name": "pixel172",
         "rawType": "int64",
         "type": "integer"
        },
        {
         "name": "pixel173",
         "rawType": "int64",
         "type": "integer"
        },
        {
         "name": "pixel174",
         "rawType": "int64",
         "type": "integer"
        },
        {
         "name": "pixel175",
         "rawType": "int64",
         "type": "integer"
        },
        {
         "name": "pixel176",
         "rawType": "int64",
         "type": "integer"
        },
        {
         "name": "pixel177",
         "rawType": "int64",
         "type": "integer"
        },
        {
         "name": "pixel178",
         "rawType": "int64",
         "type": "integer"
        },
        {
         "name": "pixel179",
         "rawType": "int64",
         "type": "integer"
        },
        {
         "name": "pixel180",
         "rawType": "int64",
         "type": "integer"
        },
        {
         "name": "pixel181",
         "rawType": "int64",
         "type": "integer"
        },
        {
         "name": "pixel182",
         "rawType": "int64",
         "type": "integer"
        },
        {
         "name": "pixel183",
         "rawType": "int64",
         "type": "integer"
        },
        {
         "name": "pixel184",
         "rawType": "int64",
         "type": "integer"
        },
        {
         "name": "pixel185",
         "rawType": "int64",
         "type": "integer"
        },
        {
         "name": "pixel186",
         "rawType": "int64",
         "type": "integer"
        },
        {
         "name": "pixel187",
         "rawType": "int64",
         "type": "integer"
        },
        {
         "name": "pixel188",
         "rawType": "int64",
         "type": "integer"
        },
        {
         "name": "pixel189",
         "rawType": "int64",
         "type": "integer"
        },
        {
         "name": "pixel190",
         "rawType": "int64",
         "type": "integer"
        },
        {
         "name": "pixel191",
         "rawType": "int64",
         "type": "integer"
        },
        {
         "name": "pixel192",
         "rawType": "int64",
         "type": "integer"
        },
        {
         "name": "pixel193",
         "rawType": "int64",
         "type": "integer"
        },
        {
         "name": "pixel194",
         "rawType": "int64",
         "type": "integer"
        },
        {
         "name": "pixel195",
         "rawType": "int64",
         "type": "integer"
        },
        {
         "name": "pixel196",
         "rawType": "int64",
         "type": "integer"
        },
        {
         "name": "pixel197",
         "rawType": "int64",
         "type": "integer"
        },
        {
         "name": "pixel198",
         "rawType": "int64",
         "type": "integer"
        },
        {
         "name": "pixel199",
         "rawType": "int64",
         "type": "integer"
        },
        {
         "name": "pixel200",
         "rawType": "int64",
         "type": "integer"
        },
        {
         "name": "pixel201",
         "rawType": "int64",
         "type": "integer"
        },
        {
         "name": "pixel202",
         "rawType": "int64",
         "type": "integer"
        },
        {
         "name": "pixel203",
         "rawType": "int64",
         "type": "integer"
        },
        {
         "name": "pixel204",
         "rawType": "int64",
         "type": "integer"
        },
        {
         "name": "pixel205",
         "rawType": "int64",
         "type": "integer"
        },
        {
         "name": "pixel206",
         "rawType": "int64",
         "type": "integer"
        },
        {
         "name": "pixel207",
         "rawType": "int64",
         "type": "integer"
        },
        {
         "name": "pixel208",
         "rawType": "int64",
         "type": "integer"
        },
        {
         "name": "pixel209",
         "rawType": "int64",
         "type": "integer"
        },
        {
         "name": "pixel210",
         "rawType": "int64",
         "type": "integer"
        },
        {
         "name": "pixel211",
         "rawType": "int64",
         "type": "integer"
        },
        {
         "name": "pixel212",
         "rawType": "int64",
         "type": "integer"
        },
        {
         "name": "pixel213",
         "rawType": "int64",
         "type": "integer"
        },
        {
         "name": "pixel214",
         "rawType": "int64",
         "type": "integer"
        },
        {
         "name": "pixel215",
         "rawType": "int64",
         "type": "integer"
        },
        {
         "name": "pixel216",
         "rawType": "int64",
         "type": "integer"
        },
        {
         "name": "pixel217",
         "rawType": "int64",
         "type": "integer"
        },
        {
         "name": "pixel218",
         "rawType": "int64",
         "type": "integer"
        },
        {
         "name": "pixel219",
         "rawType": "int64",
         "type": "integer"
        },
        {
         "name": "pixel220",
         "rawType": "int64",
         "type": "integer"
        },
        {
         "name": "pixel221",
         "rawType": "int64",
         "type": "integer"
        },
        {
         "name": "pixel222",
         "rawType": "int64",
         "type": "integer"
        },
        {
         "name": "pixel223",
         "rawType": "int64",
         "type": "integer"
        },
        {
         "name": "pixel224",
         "rawType": "int64",
         "type": "integer"
        },
        {
         "name": "pixel225",
         "rawType": "int64",
         "type": "integer"
        },
        {
         "name": "pixel226",
         "rawType": "int64",
         "type": "integer"
        },
        {
         "name": "pixel227",
         "rawType": "int64",
         "type": "integer"
        },
        {
         "name": "pixel228",
         "rawType": "int64",
         "type": "integer"
        },
        {
         "name": "pixel229",
         "rawType": "int64",
         "type": "integer"
        },
        {
         "name": "pixel230",
         "rawType": "int64",
         "type": "integer"
        },
        {
         "name": "pixel231",
         "rawType": "int64",
         "type": "integer"
        },
        {
         "name": "pixel232",
         "rawType": "int64",
         "type": "integer"
        },
        {
         "name": "pixel233",
         "rawType": "int64",
         "type": "integer"
        },
        {
         "name": "pixel234",
         "rawType": "int64",
         "type": "integer"
        },
        {
         "name": "pixel235",
         "rawType": "int64",
         "type": "integer"
        },
        {
         "name": "pixel236",
         "rawType": "int64",
         "type": "integer"
        },
        {
         "name": "pixel237",
         "rawType": "int64",
         "type": "integer"
        },
        {
         "name": "pixel238",
         "rawType": "int64",
         "type": "integer"
        },
        {
         "name": "pixel239",
         "rawType": "int64",
         "type": "integer"
        },
        {
         "name": "pixel240",
         "rawType": "int64",
         "type": "integer"
        },
        {
         "name": "pixel241",
         "rawType": "int64",
         "type": "integer"
        },
        {
         "name": "pixel242",
         "rawType": "int64",
         "type": "integer"
        },
        {
         "name": "pixel243",
         "rawType": "int64",
         "type": "integer"
        },
        {
         "name": "pixel244",
         "rawType": "int64",
         "type": "integer"
        },
        {
         "name": "pixel245",
         "rawType": "int64",
         "type": "integer"
        },
        {
         "name": "pixel246",
         "rawType": "int64",
         "type": "integer"
        },
        {
         "name": "pixel247",
         "rawType": "int64",
         "type": "integer"
        },
        {
         "name": "pixel248",
         "rawType": "int64",
         "type": "integer"
        },
        {
         "name": "pixel249",
         "rawType": "int64",
         "type": "integer"
        },
        {
         "name": "pixel250",
         "rawType": "int64",
         "type": "integer"
        },
        {
         "name": "pixel251",
         "rawType": "int64",
         "type": "integer"
        },
        {
         "name": "pixel252",
         "rawType": "int64",
         "type": "integer"
        },
        {
         "name": "pixel253",
         "rawType": "int64",
         "type": "integer"
        },
        {
         "name": "pixel254",
         "rawType": "int64",
         "type": "integer"
        },
        {
         "name": "pixel255",
         "rawType": "int64",
         "type": "integer"
        },
        {
         "name": "pixel256",
         "rawType": "int64",
         "type": "integer"
        },
        {
         "name": "pixel257",
         "rawType": "int64",
         "type": "integer"
        },
        {
         "name": "pixel258",
         "rawType": "int64",
         "type": "integer"
        },
        {
         "name": "pixel259",
         "rawType": "int64",
         "type": "integer"
        },
        {
         "name": "pixel260",
         "rawType": "int64",
         "type": "integer"
        },
        {
         "name": "pixel261",
         "rawType": "int64",
         "type": "integer"
        },
        {
         "name": "pixel262",
         "rawType": "int64",
         "type": "integer"
        },
        {
         "name": "pixel263",
         "rawType": "int64",
         "type": "integer"
        },
        {
         "name": "pixel264",
         "rawType": "int64",
         "type": "integer"
        },
        {
         "name": "pixel265",
         "rawType": "int64",
         "type": "integer"
        },
        {
         "name": "pixel266",
         "rawType": "int64",
         "type": "integer"
        },
        {
         "name": "pixel267",
         "rawType": "int64",
         "type": "integer"
        },
        {
         "name": "pixel268",
         "rawType": "int64",
         "type": "integer"
        },
        {
         "name": "pixel269",
         "rawType": "int64",
         "type": "integer"
        },
        {
         "name": "pixel270",
         "rawType": "int64",
         "type": "integer"
        },
        {
         "name": "pixel271",
         "rawType": "int64",
         "type": "integer"
        },
        {
         "name": "pixel272",
         "rawType": "int64",
         "type": "integer"
        },
        {
         "name": "pixel273",
         "rawType": "int64",
         "type": "integer"
        },
        {
         "name": "pixel274",
         "rawType": "int64",
         "type": "integer"
        },
        {
         "name": "pixel275",
         "rawType": "int64",
         "type": "integer"
        },
        {
         "name": "pixel276",
         "rawType": "int64",
         "type": "integer"
        },
        {
         "name": "pixel277",
         "rawType": "int64",
         "type": "integer"
        },
        {
         "name": "pixel278",
         "rawType": "int64",
         "type": "integer"
        },
        {
         "name": "pixel279",
         "rawType": "int64",
         "type": "integer"
        },
        {
         "name": "pixel280",
         "rawType": "int64",
         "type": "integer"
        },
        {
         "name": "pixel281",
         "rawType": "int64",
         "type": "integer"
        },
        {
         "name": "pixel282",
         "rawType": "int64",
         "type": "integer"
        },
        {
         "name": "pixel283",
         "rawType": "int64",
         "type": "integer"
        },
        {
         "name": "pixel284",
         "rawType": "int64",
         "type": "integer"
        },
        {
         "name": "pixel285",
         "rawType": "int64",
         "type": "integer"
        },
        {
         "name": "pixel286",
         "rawType": "int64",
         "type": "integer"
        },
        {
         "name": "pixel287",
         "rawType": "int64",
         "type": "integer"
        },
        {
         "name": "pixel288",
         "rawType": "int64",
         "type": "integer"
        },
        {
         "name": "pixel289",
         "rawType": "int64",
         "type": "integer"
        },
        {
         "name": "pixel290",
         "rawType": "int64",
         "type": "integer"
        },
        {
         "name": "pixel291",
         "rawType": "int64",
         "type": "integer"
        },
        {
         "name": "pixel292",
         "rawType": "int64",
         "type": "integer"
        },
        {
         "name": "pixel293",
         "rawType": "int64",
         "type": "integer"
        },
        {
         "name": "pixel294",
         "rawType": "int64",
         "type": "integer"
        },
        {
         "name": "pixel295",
         "rawType": "int64",
         "type": "integer"
        },
        {
         "name": "pixel296",
         "rawType": "int64",
         "type": "integer"
        },
        {
         "name": "pixel297",
         "rawType": "int64",
         "type": "integer"
        },
        {
         "name": "pixel298",
         "rawType": "int64",
         "type": "integer"
        },
        {
         "name": "pixel299",
         "rawType": "int64",
         "type": "integer"
        },
        {
         "name": "pixel300",
         "rawType": "int64",
         "type": "integer"
        },
        {
         "name": "pixel301",
         "rawType": "int64",
         "type": "integer"
        },
        {
         "name": "pixel302",
         "rawType": "int64",
         "type": "integer"
        },
        {
         "name": "pixel303",
         "rawType": "int64",
         "type": "integer"
        },
        {
         "name": "pixel304",
         "rawType": "int64",
         "type": "integer"
        },
        {
         "name": "pixel305",
         "rawType": "int64",
         "type": "integer"
        },
        {
         "name": "pixel306",
         "rawType": "int64",
         "type": "integer"
        },
        {
         "name": "pixel307",
         "rawType": "int64",
         "type": "integer"
        },
        {
         "name": "pixel308",
         "rawType": "int64",
         "type": "integer"
        },
        {
         "name": "pixel309",
         "rawType": "int64",
         "type": "integer"
        },
        {
         "name": "pixel310",
         "rawType": "int64",
         "type": "integer"
        },
        {
         "name": "pixel311",
         "rawType": "int64",
         "type": "integer"
        },
        {
         "name": "pixel312",
         "rawType": "int64",
         "type": "integer"
        },
        {
         "name": "pixel313",
         "rawType": "int64",
         "type": "integer"
        },
        {
         "name": "pixel314",
         "rawType": "int64",
         "type": "integer"
        },
        {
         "name": "pixel315",
         "rawType": "int64",
         "type": "integer"
        },
        {
         "name": "pixel316",
         "rawType": "int64",
         "type": "integer"
        },
        {
         "name": "pixel317",
         "rawType": "int64",
         "type": "integer"
        },
        {
         "name": "pixel318",
         "rawType": "int64",
         "type": "integer"
        },
        {
         "name": "pixel319",
         "rawType": "int64",
         "type": "integer"
        },
        {
         "name": "pixel320",
         "rawType": "int64",
         "type": "integer"
        },
        {
         "name": "pixel321",
         "rawType": "int64",
         "type": "integer"
        },
        {
         "name": "pixel322",
         "rawType": "int64",
         "type": "integer"
        },
        {
         "name": "pixel323",
         "rawType": "int64",
         "type": "integer"
        },
        {
         "name": "pixel324",
         "rawType": "int64",
         "type": "integer"
        },
        {
         "name": "pixel325",
         "rawType": "int64",
         "type": "integer"
        },
        {
         "name": "pixel326",
         "rawType": "int64",
         "type": "integer"
        },
        {
         "name": "pixel327",
         "rawType": "int64",
         "type": "integer"
        },
        {
         "name": "pixel328",
         "rawType": "int64",
         "type": "integer"
        },
        {
         "name": "pixel329",
         "rawType": "int64",
         "type": "integer"
        },
        {
         "name": "pixel330",
         "rawType": "int64",
         "type": "integer"
        },
        {
         "name": "pixel331",
         "rawType": "int64",
         "type": "integer"
        },
        {
         "name": "pixel332",
         "rawType": "int64",
         "type": "integer"
        },
        {
         "name": "pixel333",
         "rawType": "int64",
         "type": "integer"
        },
        {
         "name": "pixel334",
         "rawType": "int64",
         "type": "integer"
        },
        {
         "name": "pixel335",
         "rawType": "int64",
         "type": "integer"
        },
        {
         "name": "pixel336",
         "rawType": "int64",
         "type": "integer"
        },
        {
         "name": "pixel337",
         "rawType": "int64",
         "type": "integer"
        },
        {
         "name": "pixel338",
         "rawType": "int64",
         "type": "integer"
        },
        {
         "name": "pixel339",
         "rawType": "int64",
         "type": "integer"
        },
        {
         "name": "pixel340",
         "rawType": "int64",
         "type": "integer"
        },
        {
         "name": "pixel341",
         "rawType": "int64",
         "type": "integer"
        },
        {
         "name": "pixel342",
         "rawType": "int64",
         "type": "integer"
        },
        {
         "name": "pixel343",
         "rawType": "int64",
         "type": "integer"
        },
        {
         "name": "pixel344",
         "rawType": "int64",
         "type": "integer"
        },
        {
         "name": "pixel345",
         "rawType": "int64",
         "type": "integer"
        },
        {
         "name": "pixel346",
         "rawType": "int64",
         "type": "integer"
        },
        {
         "name": "pixel347",
         "rawType": "int64",
         "type": "integer"
        },
        {
         "name": "pixel348",
         "rawType": "int64",
         "type": "integer"
        },
        {
         "name": "pixel349",
         "rawType": "int64",
         "type": "integer"
        },
        {
         "name": "pixel350",
         "rawType": "int64",
         "type": "integer"
        },
        {
         "name": "pixel351",
         "rawType": "int64",
         "type": "integer"
        },
        {
         "name": "pixel352",
         "rawType": "int64",
         "type": "integer"
        },
        {
         "name": "pixel353",
         "rawType": "int64",
         "type": "integer"
        },
        {
         "name": "pixel354",
         "rawType": "int64",
         "type": "integer"
        },
        {
         "name": "pixel355",
         "rawType": "int64",
         "type": "integer"
        },
        {
         "name": "pixel356",
         "rawType": "int64",
         "type": "integer"
        },
        {
         "name": "pixel357",
         "rawType": "int64",
         "type": "integer"
        },
        {
         "name": "pixel358",
         "rawType": "int64",
         "type": "integer"
        },
        {
         "name": "pixel359",
         "rawType": "int64",
         "type": "integer"
        },
        {
         "name": "pixel360",
         "rawType": "int64",
         "type": "integer"
        },
        {
         "name": "pixel361",
         "rawType": "int64",
         "type": "integer"
        },
        {
         "name": "pixel362",
         "rawType": "int64",
         "type": "integer"
        },
        {
         "name": "pixel363",
         "rawType": "int64",
         "type": "integer"
        },
        {
         "name": "pixel364",
         "rawType": "int64",
         "type": "integer"
        },
        {
         "name": "pixel365",
         "rawType": "int64",
         "type": "integer"
        },
        {
         "name": "pixel366",
         "rawType": "int64",
         "type": "integer"
        },
        {
         "name": "pixel367",
         "rawType": "int64",
         "type": "integer"
        },
        {
         "name": "pixel368",
         "rawType": "int64",
         "type": "integer"
        },
        {
         "name": "pixel369",
         "rawType": "int64",
         "type": "integer"
        },
        {
         "name": "pixel370",
         "rawType": "int64",
         "type": "integer"
        },
        {
         "name": "pixel371",
         "rawType": "int64",
         "type": "integer"
        },
        {
         "name": "pixel372",
         "rawType": "int64",
         "type": "integer"
        },
        {
         "name": "pixel373",
         "rawType": "int64",
         "type": "integer"
        },
        {
         "name": "pixel374",
         "rawType": "int64",
         "type": "integer"
        },
        {
         "name": "pixel375",
         "rawType": "int64",
         "type": "integer"
        },
        {
         "name": "pixel376",
         "rawType": "int64",
         "type": "integer"
        },
        {
         "name": "pixel377",
         "rawType": "int64",
         "type": "integer"
        },
        {
         "name": "pixel378",
         "rawType": "int64",
         "type": "integer"
        },
        {
         "name": "pixel379",
         "rawType": "int64",
         "type": "integer"
        },
        {
         "name": "pixel380",
         "rawType": "int64",
         "type": "integer"
        },
        {
         "name": "pixel381",
         "rawType": "int64",
         "type": "integer"
        },
        {
         "name": "pixel382",
         "rawType": "int64",
         "type": "integer"
        },
        {
         "name": "pixel383",
         "rawType": "int64",
         "type": "integer"
        },
        {
         "name": "pixel384",
         "rawType": "int64",
         "type": "integer"
        },
        {
         "name": "pixel385",
         "rawType": "int64",
         "type": "integer"
        },
        {
         "name": "pixel386",
         "rawType": "int64",
         "type": "integer"
        },
        {
         "name": "pixel387",
         "rawType": "int64",
         "type": "integer"
        },
        {
         "name": "pixel388",
         "rawType": "int64",
         "type": "integer"
        },
        {
         "name": "pixel389",
         "rawType": "int64",
         "type": "integer"
        },
        {
         "name": "pixel390",
         "rawType": "int64",
         "type": "integer"
        },
        {
         "name": "pixel391",
         "rawType": "int64",
         "type": "integer"
        },
        {
         "name": "pixel392",
         "rawType": "int64",
         "type": "integer"
        },
        {
         "name": "pixel393",
         "rawType": "int64",
         "type": "integer"
        },
        {
         "name": "pixel394",
         "rawType": "int64",
         "type": "integer"
        },
        {
         "name": "pixel395",
         "rawType": "int64",
         "type": "integer"
        },
        {
         "name": "pixel396",
         "rawType": "int64",
         "type": "integer"
        },
        {
         "name": "pixel397",
         "rawType": "int64",
         "type": "integer"
        },
        {
         "name": "pixel398",
         "rawType": "int64",
         "type": "integer"
        },
        {
         "name": "pixel399",
         "rawType": "int64",
         "type": "integer"
        },
        {
         "name": "pixel400",
         "rawType": "int64",
         "type": "integer"
        },
        {
         "name": "pixel401",
         "rawType": "int64",
         "type": "integer"
        },
        {
         "name": "pixel402",
         "rawType": "int64",
         "type": "integer"
        },
        {
         "name": "pixel403",
         "rawType": "int64",
         "type": "integer"
        },
        {
         "name": "pixel404",
         "rawType": "int64",
         "type": "integer"
        },
        {
         "name": "pixel405",
         "rawType": "int64",
         "type": "integer"
        },
        {
         "name": "pixel406",
         "rawType": "int64",
         "type": "integer"
        },
        {
         "name": "pixel407",
         "rawType": "int64",
         "type": "integer"
        },
        {
         "name": "pixel408",
         "rawType": "int64",
         "type": "integer"
        },
        {
         "name": "pixel409",
         "rawType": "int64",
         "type": "integer"
        },
        {
         "name": "pixel410",
         "rawType": "int64",
         "type": "integer"
        },
        {
         "name": "pixel411",
         "rawType": "int64",
         "type": "integer"
        },
        {
         "name": "pixel412",
         "rawType": "int64",
         "type": "integer"
        },
        {
         "name": "pixel413",
         "rawType": "int64",
         "type": "integer"
        },
        {
         "name": "pixel414",
         "rawType": "int64",
         "type": "integer"
        },
        {
         "name": "pixel415",
         "rawType": "int64",
         "type": "integer"
        },
        {
         "name": "pixel416",
         "rawType": "int64",
         "type": "integer"
        },
        {
         "name": "pixel417",
         "rawType": "int64",
         "type": "integer"
        },
        {
         "name": "pixel418",
         "rawType": "int64",
         "type": "integer"
        },
        {
         "name": "pixel419",
         "rawType": "int64",
         "type": "integer"
        },
        {
         "name": "pixel420",
         "rawType": "int64",
         "type": "integer"
        },
        {
         "name": "pixel421",
         "rawType": "int64",
         "type": "integer"
        },
        {
         "name": "pixel422",
         "rawType": "int64",
         "type": "integer"
        },
        {
         "name": "pixel423",
         "rawType": "int64",
         "type": "integer"
        },
        {
         "name": "pixel424",
         "rawType": "int64",
         "type": "integer"
        },
        {
         "name": "pixel425",
         "rawType": "int64",
         "type": "integer"
        },
        {
         "name": "pixel426",
         "rawType": "int64",
         "type": "integer"
        },
        {
         "name": "pixel427",
         "rawType": "int64",
         "type": "integer"
        },
        {
         "name": "pixel428",
         "rawType": "int64",
         "type": "integer"
        },
        {
         "name": "pixel429",
         "rawType": "int64",
         "type": "integer"
        },
        {
         "name": "pixel430",
         "rawType": "int64",
         "type": "integer"
        },
        {
         "name": "pixel431",
         "rawType": "int64",
         "type": "integer"
        },
        {
         "name": "pixel432",
         "rawType": "int64",
         "type": "integer"
        },
        {
         "name": "pixel433",
         "rawType": "int64",
         "type": "integer"
        },
        {
         "name": "pixel434",
         "rawType": "int64",
         "type": "integer"
        },
        {
         "name": "pixel435",
         "rawType": "int64",
         "type": "integer"
        },
        {
         "name": "pixel436",
         "rawType": "int64",
         "type": "integer"
        },
        {
         "name": "pixel437",
         "rawType": "int64",
         "type": "integer"
        },
        {
         "name": "pixel438",
         "rawType": "int64",
         "type": "integer"
        },
        {
         "name": "pixel439",
         "rawType": "int64",
         "type": "integer"
        },
        {
         "name": "pixel440",
         "rawType": "int64",
         "type": "integer"
        },
        {
         "name": "pixel441",
         "rawType": "int64",
         "type": "integer"
        },
        {
         "name": "pixel442",
         "rawType": "int64",
         "type": "integer"
        },
        {
         "name": "pixel443",
         "rawType": "int64",
         "type": "integer"
        },
        {
         "name": "pixel444",
         "rawType": "int64",
         "type": "integer"
        },
        {
         "name": "pixel445",
         "rawType": "int64",
         "type": "integer"
        },
        {
         "name": "pixel446",
         "rawType": "int64",
         "type": "integer"
        },
        {
         "name": "pixel447",
         "rawType": "int64",
         "type": "integer"
        },
        {
         "name": "pixel448",
         "rawType": "int64",
         "type": "integer"
        },
        {
         "name": "pixel449",
         "rawType": "int64",
         "type": "integer"
        },
        {
         "name": "pixel450",
         "rawType": "int64",
         "type": "integer"
        },
        {
         "name": "pixel451",
         "rawType": "int64",
         "type": "integer"
        },
        {
         "name": "pixel452",
         "rawType": "int64",
         "type": "integer"
        },
        {
         "name": "pixel453",
         "rawType": "int64",
         "type": "integer"
        },
        {
         "name": "pixel454",
         "rawType": "int64",
         "type": "integer"
        },
        {
         "name": "pixel455",
         "rawType": "int64",
         "type": "integer"
        },
        {
         "name": "pixel456",
         "rawType": "int64",
         "type": "integer"
        },
        {
         "name": "pixel457",
         "rawType": "int64",
         "type": "integer"
        },
        {
         "name": "pixel458",
         "rawType": "int64",
         "type": "integer"
        },
        {
         "name": "pixel459",
         "rawType": "int64",
         "type": "integer"
        },
        {
         "name": "pixel460",
         "rawType": "int64",
         "type": "integer"
        },
        {
         "name": "pixel461",
         "rawType": "int64",
         "type": "integer"
        },
        {
         "name": "pixel462",
         "rawType": "int64",
         "type": "integer"
        },
        {
         "name": "pixel463",
         "rawType": "int64",
         "type": "integer"
        },
        {
         "name": "pixel464",
         "rawType": "int64",
         "type": "integer"
        },
        {
         "name": "pixel465",
         "rawType": "int64",
         "type": "integer"
        },
        {
         "name": "pixel466",
         "rawType": "int64",
         "type": "integer"
        },
        {
         "name": "pixel467",
         "rawType": "int64",
         "type": "integer"
        },
        {
         "name": "pixel468",
         "rawType": "int64",
         "type": "integer"
        },
        {
         "name": "pixel469",
         "rawType": "int64",
         "type": "integer"
        },
        {
         "name": "pixel470",
         "rawType": "int64",
         "type": "integer"
        },
        {
         "name": "pixel471",
         "rawType": "int64",
         "type": "integer"
        },
        {
         "name": "pixel472",
         "rawType": "int64",
         "type": "integer"
        },
        {
         "name": "pixel473",
         "rawType": "int64",
         "type": "integer"
        },
        {
         "name": "pixel474",
         "rawType": "int64",
         "type": "integer"
        },
        {
         "name": "pixel475",
         "rawType": "int64",
         "type": "integer"
        },
        {
         "name": "pixel476",
         "rawType": "int64",
         "type": "integer"
        },
        {
         "name": "pixel477",
         "rawType": "int64",
         "type": "integer"
        },
        {
         "name": "pixel478",
         "rawType": "int64",
         "type": "integer"
        },
        {
         "name": "pixel479",
         "rawType": "int64",
         "type": "integer"
        },
        {
         "name": "pixel480",
         "rawType": "int64",
         "type": "integer"
        },
        {
         "name": "pixel481",
         "rawType": "int64",
         "type": "integer"
        },
        {
         "name": "pixel482",
         "rawType": "int64",
         "type": "integer"
        },
        {
         "name": "pixel483",
         "rawType": "int64",
         "type": "integer"
        },
        {
         "name": "pixel484",
         "rawType": "int64",
         "type": "integer"
        },
        {
         "name": "pixel485",
         "rawType": "int64",
         "type": "integer"
        },
        {
         "name": "pixel486",
         "rawType": "int64",
         "type": "integer"
        },
        {
         "name": "pixel487",
         "rawType": "int64",
         "type": "integer"
        },
        {
         "name": "pixel488",
         "rawType": "int64",
         "type": "integer"
        },
        {
         "name": "pixel489",
         "rawType": "int64",
         "type": "integer"
        },
        {
         "name": "pixel490",
         "rawType": "int64",
         "type": "integer"
        },
        {
         "name": "pixel491",
         "rawType": "int64",
         "type": "integer"
        },
        {
         "name": "pixel492",
         "rawType": "int64",
         "type": "integer"
        },
        {
         "name": "pixel493",
         "rawType": "int64",
         "type": "integer"
        },
        {
         "name": "pixel494",
         "rawType": "int64",
         "type": "integer"
        },
        {
         "name": "pixel495",
         "rawType": "int64",
         "type": "integer"
        },
        {
         "name": "pixel496",
         "rawType": "int64",
         "type": "integer"
        },
        {
         "name": "pixel497",
         "rawType": "int64",
         "type": "integer"
        },
        {
         "name": "pixel498",
         "rawType": "int64",
         "type": "integer"
        },
        {
         "name": "pixel499",
         "rawType": "int64",
         "type": "integer"
        },
        {
         "name": "pixel500",
         "rawType": "int64",
         "type": "integer"
        },
        {
         "name": "pixel501",
         "rawType": "int64",
         "type": "integer"
        },
        {
         "name": "pixel502",
         "rawType": "int64",
         "type": "integer"
        },
        {
         "name": "pixel503",
         "rawType": "int64",
         "type": "integer"
        },
        {
         "name": "pixel504",
         "rawType": "int64",
         "type": "integer"
        },
        {
         "name": "pixel505",
         "rawType": "int64",
         "type": "integer"
        },
        {
         "name": "pixel506",
         "rawType": "int64",
         "type": "integer"
        },
        {
         "name": "pixel507",
         "rawType": "int64",
         "type": "integer"
        },
        {
         "name": "pixel508",
         "rawType": "int64",
         "type": "integer"
        },
        {
         "name": "pixel509",
         "rawType": "int64",
         "type": "integer"
        },
        {
         "name": "pixel510",
         "rawType": "int64",
         "type": "integer"
        },
        {
         "name": "pixel511",
         "rawType": "int64",
         "type": "integer"
        },
        {
         "name": "pixel512",
         "rawType": "int64",
         "type": "integer"
        },
        {
         "name": "pixel513",
         "rawType": "int64",
         "type": "integer"
        },
        {
         "name": "pixel514",
         "rawType": "int64",
         "type": "integer"
        },
        {
         "name": "pixel515",
         "rawType": "int64",
         "type": "integer"
        },
        {
         "name": "pixel516",
         "rawType": "int64",
         "type": "integer"
        },
        {
         "name": "pixel517",
         "rawType": "int64",
         "type": "integer"
        },
        {
         "name": "pixel518",
         "rawType": "int64",
         "type": "integer"
        },
        {
         "name": "pixel519",
         "rawType": "int64",
         "type": "integer"
        },
        {
         "name": "pixel520",
         "rawType": "int64",
         "type": "integer"
        },
        {
         "name": "pixel521",
         "rawType": "int64",
         "type": "integer"
        },
        {
         "name": "pixel522",
         "rawType": "int64",
         "type": "integer"
        },
        {
         "name": "pixel523",
         "rawType": "int64",
         "type": "integer"
        },
        {
         "name": "pixel524",
         "rawType": "int64",
         "type": "integer"
        },
        {
         "name": "pixel525",
         "rawType": "int64",
         "type": "integer"
        },
        {
         "name": "pixel526",
         "rawType": "int64",
         "type": "integer"
        },
        {
         "name": "pixel527",
         "rawType": "int64",
         "type": "integer"
        },
        {
         "name": "pixel528",
         "rawType": "int64",
         "type": "integer"
        },
        {
         "name": "pixel529",
         "rawType": "int64",
         "type": "integer"
        },
        {
         "name": "pixel530",
         "rawType": "int64",
         "type": "integer"
        },
        {
         "name": "pixel531",
         "rawType": "int64",
         "type": "integer"
        },
        {
         "name": "pixel532",
         "rawType": "int64",
         "type": "integer"
        },
        {
         "name": "pixel533",
         "rawType": "int64",
         "type": "integer"
        },
        {
         "name": "pixel534",
         "rawType": "int64",
         "type": "integer"
        },
        {
         "name": "pixel535",
         "rawType": "int64",
         "type": "integer"
        },
        {
         "name": "pixel536",
         "rawType": "int64",
         "type": "integer"
        },
        {
         "name": "pixel537",
         "rawType": "int64",
         "type": "integer"
        },
        {
         "name": "pixel538",
         "rawType": "int64",
         "type": "integer"
        },
        {
         "name": "pixel539",
         "rawType": "int64",
         "type": "integer"
        },
        {
         "name": "pixel540",
         "rawType": "int64",
         "type": "integer"
        },
        {
         "name": "pixel541",
         "rawType": "int64",
         "type": "integer"
        },
        {
         "name": "pixel542",
         "rawType": "int64",
         "type": "integer"
        },
        {
         "name": "pixel543",
         "rawType": "int64",
         "type": "integer"
        },
        {
         "name": "pixel544",
         "rawType": "int64",
         "type": "integer"
        },
        {
         "name": "pixel545",
         "rawType": "int64",
         "type": "integer"
        },
        {
         "name": "pixel546",
         "rawType": "int64",
         "type": "integer"
        },
        {
         "name": "pixel547",
         "rawType": "int64",
         "type": "integer"
        },
        {
         "name": "pixel548",
         "rawType": "int64",
         "type": "integer"
        },
        {
         "name": "pixel549",
         "rawType": "int64",
         "type": "integer"
        },
        {
         "name": "pixel550",
         "rawType": "int64",
         "type": "integer"
        },
        {
         "name": "pixel551",
         "rawType": "int64",
         "type": "integer"
        },
        {
         "name": "pixel552",
         "rawType": "int64",
         "type": "integer"
        },
        {
         "name": "pixel553",
         "rawType": "int64",
         "type": "integer"
        },
        {
         "name": "pixel554",
         "rawType": "int64",
         "type": "integer"
        },
        {
         "name": "pixel555",
         "rawType": "int64",
         "type": "integer"
        },
        {
         "name": "pixel556",
         "rawType": "int64",
         "type": "integer"
        },
        {
         "name": "pixel557",
         "rawType": "int64",
         "type": "integer"
        },
        {
         "name": "pixel558",
         "rawType": "int64",
         "type": "integer"
        },
        {
         "name": "pixel559",
         "rawType": "int64",
         "type": "integer"
        },
        {
         "name": "pixel560",
         "rawType": "int64",
         "type": "integer"
        },
        {
         "name": "pixel561",
         "rawType": "int64",
         "type": "integer"
        },
        {
         "name": "pixel562",
         "rawType": "int64",
         "type": "integer"
        },
        {
         "name": "pixel563",
         "rawType": "int64",
         "type": "integer"
        },
        {
         "name": "pixel564",
         "rawType": "int64",
         "type": "integer"
        },
        {
         "name": "pixel565",
         "rawType": "int64",
         "type": "integer"
        },
        {
         "name": "pixel566",
         "rawType": "int64",
         "type": "integer"
        },
        {
         "name": "pixel567",
         "rawType": "int64",
         "type": "integer"
        },
        {
         "name": "pixel568",
         "rawType": "int64",
         "type": "integer"
        },
        {
         "name": "pixel569",
         "rawType": "int64",
         "type": "integer"
        },
        {
         "name": "pixel570",
         "rawType": "int64",
         "type": "integer"
        },
        {
         "name": "pixel571",
         "rawType": "int64",
         "type": "integer"
        },
        {
         "name": "pixel572",
         "rawType": "int64",
         "type": "integer"
        },
        {
         "name": "pixel573",
         "rawType": "int64",
         "type": "integer"
        },
        {
         "name": "pixel574",
         "rawType": "int64",
         "type": "integer"
        },
        {
         "name": "pixel575",
         "rawType": "int64",
         "type": "integer"
        },
        {
         "name": "pixel576",
         "rawType": "int64",
         "type": "integer"
        },
        {
         "name": "pixel577",
         "rawType": "int64",
         "type": "integer"
        },
        {
         "name": "pixel578",
         "rawType": "int64",
         "type": "integer"
        },
        {
         "name": "pixel579",
         "rawType": "int64",
         "type": "integer"
        },
        {
         "name": "pixel580",
         "rawType": "int64",
         "type": "integer"
        },
        {
         "name": "pixel581",
         "rawType": "int64",
         "type": "integer"
        },
        {
         "name": "pixel582",
         "rawType": "int64",
         "type": "integer"
        },
        {
         "name": "pixel583",
         "rawType": "int64",
         "type": "integer"
        },
        {
         "name": "pixel584",
         "rawType": "int64",
         "type": "integer"
        },
        {
         "name": "pixel585",
         "rawType": "int64",
         "type": "integer"
        },
        {
         "name": "pixel586",
         "rawType": "int64",
         "type": "integer"
        },
        {
         "name": "pixel587",
         "rawType": "int64",
         "type": "integer"
        },
        {
         "name": "pixel588",
         "rawType": "int64",
         "type": "integer"
        },
        {
         "name": "pixel589",
         "rawType": "int64",
         "type": "integer"
        },
        {
         "name": "pixel590",
         "rawType": "int64",
         "type": "integer"
        },
        {
         "name": "pixel591",
         "rawType": "int64",
         "type": "integer"
        },
        {
         "name": "pixel592",
         "rawType": "int64",
         "type": "integer"
        },
        {
         "name": "pixel593",
         "rawType": "int64",
         "type": "integer"
        },
        {
         "name": "pixel594",
         "rawType": "int64",
         "type": "integer"
        },
        {
         "name": "pixel595",
         "rawType": "int64",
         "type": "integer"
        },
        {
         "name": "pixel596",
         "rawType": "int64",
         "type": "integer"
        },
        {
         "name": "pixel597",
         "rawType": "int64",
         "type": "integer"
        },
        {
         "name": "pixel598",
         "rawType": "int64",
         "type": "integer"
        },
        {
         "name": "pixel599",
         "rawType": "int64",
         "type": "integer"
        },
        {
         "name": "pixel600",
         "rawType": "int64",
         "type": "integer"
        },
        {
         "name": "pixel601",
         "rawType": "int64",
         "type": "integer"
        },
        {
         "name": "pixel602",
         "rawType": "int64",
         "type": "integer"
        },
        {
         "name": "pixel603",
         "rawType": "int64",
         "type": "integer"
        },
        {
         "name": "pixel604",
         "rawType": "int64",
         "type": "integer"
        },
        {
         "name": "pixel605",
         "rawType": "int64",
         "type": "integer"
        },
        {
         "name": "pixel606",
         "rawType": "int64",
         "type": "integer"
        },
        {
         "name": "pixel607",
         "rawType": "int64",
         "type": "integer"
        },
        {
         "name": "pixel608",
         "rawType": "int64",
         "type": "integer"
        },
        {
         "name": "pixel609",
         "rawType": "int64",
         "type": "integer"
        },
        {
         "name": "pixel610",
         "rawType": "int64",
         "type": "integer"
        },
        {
         "name": "pixel611",
         "rawType": "int64",
         "type": "integer"
        },
        {
         "name": "pixel612",
         "rawType": "int64",
         "type": "integer"
        },
        {
         "name": "pixel613",
         "rawType": "int64",
         "type": "integer"
        },
        {
         "name": "pixel614",
         "rawType": "int64",
         "type": "integer"
        },
        {
         "name": "pixel615",
         "rawType": "int64",
         "type": "integer"
        },
        {
         "name": "pixel616",
         "rawType": "int64",
         "type": "integer"
        },
        {
         "name": "pixel617",
         "rawType": "int64",
         "type": "integer"
        },
        {
         "name": "pixel618",
         "rawType": "int64",
         "type": "integer"
        },
        {
         "name": "pixel619",
         "rawType": "int64",
         "type": "integer"
        },
        {
         "name": "pixel620",
         "rawType": "int64",
         "type": "integer"
        },
        {
         "name": "pixel621",
         "rawType": "int64",
         "type": "integer"
        },
        {
         "name": "pixel622",
         "rawType": "int64",
         "type": "integer"
        },
        {
         "name": "pixel623",
         "rawType": "int64",
         "type": "integer"
        },
        {
         "name": "pixel624",
         "rawType": "int64",
         "type": "integer"
        },
        {
         "name": "pixel625",
         "rawType": "int64",
         "type": "integer"
        },
        {
         "name": "pixel626",
         "rawType": "int64",
         "type": "integer"
        },
        {
         "name": "pixel627",
         "rawType": "int64",
         "type": "integer"
        },
        {
         "name": "pixel628",
         "rawType": "int64",
         "type": "integer"
        },
        {
         "name": "pixel629",
         "rawType": "int64",
         "type": "integer"
        },
        {
         "name": "pixel630",
         "rawType": "int64",
         "type": "integer"
        },
        {
         "name": "pixel631",
         "rawType": "int64",
         "type": "integer"
        },
        {
         "name": "pixel632",
         "rawType": "int64",
         "type": "integer"
        },
        {
         "name": "pixel633",
         "rawType": "int64",
         "type": "integer"
        },
        {
         "name": "pixel634",
         "rawType": "int64",
         "type": "integer"
        },
        {
         "name": "pixel635",
         "rawType": "int64",
         "type": "integer"
        },
        {
         "name": "pixel636",
         "rawType": "int64",
         "type": "integer"
        },
        {
         "name": "pixel637",
         "rawType": "int64",
         "type": "integer"
        },
        {
         "name": "pixel638",
         "rawType": "int64",
         "type": "integer"
        },
        {
         "name": "pixel639",
         "rawType": "int64",
         "type": "integer"
        },
        {
         "name": "pixel640",
         "rawType": "int64",
         "type": "integer"
        },
        {
         "name": "pixel641",
         "rawType": "int64",
         "type": "integer"
        },
        {
         "name": "pixel642",
         "rawType": "int64",
         "type": "integer"
        },
        {
         "name": "pixel643",
         "rawType": "int64",
         "type": "integer"
        },
        {
         "name": "pixel644",
         "rawType": "int64",
         "type": "integer"
        },
        {
         "name": "pixel645",
         "rawType": "int64",
         "type": "integer"
        },
        {
         "name": "pixel646",
         "rawType": "int64",
         "type": "integer"
        },
        {
         "name": "pixel647",
         "rawType": "int64",
         "type": "integer"
        },
        {
         "name": "pixel648",
         "rawType": "int64",
         "type": "integer"
        },
        {
         "name": "pixel649",
         "rawType": "int64",
         "type": "integer"
        },
        {
         "name": "pixel650",
         "rawType": "int64",
         "type": "integer"
        },
        {
         "name": "pixel651",
         "rawType": "int64",
         "type": "integer"
        },
        {
         "name": "pixel652",
         "rawType": "int64",
         "type": "integer"
        },
        {
         "name": "pixel653",
         "rawType": "int64",
         "type": "integer"
        },
        {
         "name": "pixel654",
         "rawType": "int64",
         "type": "integer"
        },
        {
         "name": "pixel655",
         "rawType": "int64",
         "type": "integer"
        },
        {
         "name": "pixel656",
         "rawType": "int64",
         "type": "integer"
        },
        {
         "name": "pixel657",
         "rawType": "int64",
         "type": "integer"
        },
        {
         "name": "pixel658",
         "rawType": "int64",
         "type": "integer"
        },
        {
         "name": "pixel659",
         "rawType": "int64",
         "type": "integer"
        },
        {
         "name": "pixel660",
         "rawType": "int64",
         "type": "integer"
        },
        {
         "name": "pixel661",
         "rawType": "int64",
         "type": "integer"
        },
        {
         "name": "pixel662",
         "rawType": "int64",
         "type": "integer"
        },
        {
         "name": "pixel663",
         "rawType": "int64",
         "type": "integer"
        },
        {
         "name": "pixel664",
         "rawType": "int64",
         "type": "integer"
        },
        {
         "name": "pixel665",
         "rawType": "int64",
         "type": "integer"
        },
        {
         "name": "pixel666",
         "rawType": "int64",
         "type": "integer"
        },
        {
         "name": "pixel667",
         "rawType": "int64",
         "type": "integer"
        },
        {
         "name": "pixel668",
         "rawType": "int64",
         "type": "integer"
        },
        {
         "name": "pixel669",
         "rawType": "int64",
         "type": "integer"
        },
        {
         "name": "pixel670",
         "rawType": "int64",
         "type": "integer"
        },
        {
         "name": "pixel671",
         "rawType": "int64",
         "type": "integer"
        },
        {
         "name": "pixel672",
         "rawType": "int64",
         "type": "integer"
        },
        {
         "name": "pixel673",
         "rawType": "int64",
         "type": "integer"
        },
        {
         "name": "pixel674",
         "rawType": "int64",
         "type": "integer"
        },
        {
         "name": "pixel675",
         "rawType": "int64",
         "type": "integer"
        },
        {
         "name": "pixel676",
         "rawType": "int64",
         "type": "integer"
        },
        {
         "name": "pixel677",
         "rawType": "int64",
         "type": "integer"
        },
        {
         "name": "pixel678",
         "rawType": "int64",
         "type": "integer"
        },
        {
         "name": "pixel679",
         "rawType": "int64",
         "type": "integer"
        },
        {
         "name": "pixel680",
         "rawType": "int64",
         "type": "integer"
        },
        {
         "name": "pixel681",
         "rawType": "int64",
         "type": "integer"
        },
        {
         "name": "pixel682",
         "rawType": "int64",
         "type": "integer"
        },
        {
         "name": "pixel683",
         "rawType": "int64",
         "type": "integer"
        },
        {
         "name": "pixel684",
         "rawType": "int64",
         "type": "integer"
        },
        {
         "name": "pixel685",
         "rawType": "int64",
         "type": "integer"
        },
        {
         "name": "pixel686",
         "rawType": "int64",
         "type": "integer"
        },
        {
         "name": "pixel687",
         "rawType": "int64",
         "type": "integer"
        },
        {
         "name": "pixel688",
         "rawType": "int64",
         "type": "integer"
        },
        {
         "name": "pixel689",
         "rawType": "int64",
         "type": "integer"
        },
        {
         "name": "pixel690",
         "rawType": "int64",
         "type": "integer"
        },
        {
         "name": "pixel691",
         "rawType": "int64",
         "type": "integer"
        },
        {
         "name": "pixel692",
         "rawType": "int64",
         "type": "integer"
        },
        {
         "name": "pixel693",
         "rawType": "int64",
         "type": "integer"
        },
        {
         "name": "pixel694",
         "rawType": "int64",
         "type": "integer"
        },
        {
         "name": "pixel695",
         "rawType": "int64",
         "type": "integer"
        },
        {
         "name": "pixel696",
         "rawType": "int64",
         "type": "integer"
        },
        {
         "name": "pixel697",
         "rawType": "int64",
         "type": "integer"
        },
        {
         "name": "pixel698",
         "rawType": "int64",
         "type": "integer"
        },
        {
         "name": "pixel699",
         "rawType": "int64",
         "type": "integer"
        },
        {
         "name": "pixel700",
         "rawType": "int64",
         "type": "integer"
        },
        {
         "name": "pixel701",
         "rawType": "int64",
         "type": "integer"
        },
        {
         "name": "pixel702",
         "rawType": "int64",
         "type": "integer"
        },
        {
         "name": "pixel703",
         "rawType": "int64",
         "type": "integer"
        },
        {
         "name": "pixel704",
         "rawType": "int64",
         "type": "integer"
        },
        {
         "name": "pixel705",
         "rawType": "int64",
         "type": "integer"
        },
        {
         "name": "pixel706",
         "rawType": "int64",
         "type": "integer"
        },
        {
         "name": "pixel707",
         "rawType": "int64",
         "type": "integer"
        },
        {
         "name": "pixel708",
         "rawType": "int64",
         "type": "integer"
        },
        {
         "name": "pixel709",
         "rawType": "int64",
         "type": "integer"
        },
        {
         "name": "pixel710",
         "rawType": "int64",
         "type": "integer"
        },
        {
         "name": "pixel711",
         "rawType": "int64",
         "type": "integer"
        },
        {
         "name": "pixel712",
         "rawType": "int64",
         "type": "integer"
        },
        {
         "name": "pixel713",
         "rawType": "int64",
         "type": "integer"
        },
        {
         "name": "pixel714",
         "rawType": "int64",
         "type": "integer"
        },
        {
         "name": "pixel715",
         "rawType": "int64",
         "type": "integer"
        },
        {
         "name": "pixel716",
         "rawType": "int64",
         "type": "integer"
        },
        {
         "name": "pixel717",
         "rawType": "int64",
         "type": "integer"
        },
        {
         "name": "pixel718",
         "rawType": "int64",
         "type": "integer"
        },
        {
         "name": "pixel719",
         "rawType": "int64",
         "type": "integer"
        },
        {
         "name": "pixel720",
         "rawType": "int64",
         "type": "integer"
        },
        {
         "name": "pixel721",
         "rawType": "int64",
         "type": "integer"
        },
        {
         "name": "pixel722",
         "rawType": "int64",
         "type": "integer"
        },
        {
         "name": "pixel723",
         "rawType": "int64",
         "type": "integer"
        },
        {
         "name": "pixel724",
         "rawType": "int64",
         "type": "integer"
        },
        {
         "name": "pixel725",
         "rawType": "int64",
         "type": "integer"
        },
        {
         "name": "pixel726",
         "rawType": "int64",
         "type": "integer"
        },
        {
         "name": "pixel727",
         "rawType": "int64",
         "type": "integer"
        },
        {
         "name": "pixel728",
         "rawType": "int64",
         "type": "integer"
        },
        {
         "name": "pixel729",
         "rawType": "int64",
         "type": "integer"
        },
        {
         "name": "pixel730",
         "rawType": "int64",
         "type": "integer"
        },
        {
         "name": "pixel731",
         "rawType": "int64",
         "type": "integer"
        },
        {
         "name": "pixel732",
         "rawType": "int64",
         "type": "integer"
        },
        {
         "name": "pixel733",
         "rawType": "int64",
         "type": "integer"
        },
        {
         "name": "pixel734",
         "rawType": "int64",
         "type": "integer"
        },
        {
         "name": "pixel735",
         "rawType": "int64",
         "type": "integer"
        },
        {
         "name": "pixel736",
         "rawType": "int64",
         "type": "integer"
        },
        {
         "name": "pixel737",
         "rawType": "int64",
         "type": "integer"
        },
        {
         "name": "pixel738",
         "rawType": "int64",
         "type": "integer"
        },
        {
         "name": "pixel739",
         "rawType": "int64",
         "type": "integer"
        },
        {
         "name": "pixel740",
         "rawType": "int64",
         "type": "integer"
        },
        {
         "name": "pixel741",
         "rawType": "int64",
         "type": "integer"
        },
        {
         "name": "pixel742",
         "rawType": "int64",
         "type": "integer"
        },
        {
         "name": "pixel743",
         "rawType": "int64",
         "type": "integer"
        },
        {
         "name": "pixel744",
         "rawType": "int64",
         "type": "integer"
        },
        {
         "name": "pixel745",
         "rawType": "int64",
         "type": "integer"
        },
        {
         "name": "pixel746",
         "rawType": "int64",
         "type": "integer"
        },
        {
         "name": "pixel747",
         "rawType": "int64",
         "type": "integer"
        },
        {
         "name": "pixel748",
         "rawType": "int64",
         "type": "integer"
        },
        {
         "name": "pixel749",
         "rawType": "int64",
         "type": "integer"
        },
        {
         "name": "pixel750",
         "rawType": "int64",
         "type": "integer"
        },
        {
         "name": "pixel751",
         "rawType": "int64",
         "type": "integer"
        },
        {
         "name": "pixel752",
         "rawType": "int64",
         "type": "integer"
        },
        {
         "name": "pixel753",
         "rawType": "int64",
         "type": "integer"
        },
        {
         "name": "pixel754",
         "rawType": "int64",
         "type": "integer"
        },
        {
         "name": "pixel755",
         "rawType": "int64",
         "type": "integer"
        },
        {
         "name": "pixel756",
         "rawType": "int64",
         "type": "integer"
        },
        {
         "name": "pixel757",
         "rawType": "int64",
         "type": "integer"
        },
        {
         "name": "pixel758",
         "rawType": "int64",
         "type": "integer"
        },
        {
         "name": "pixel759",
         "rawType": "int64",
         "type": "integer"
        },
        {
         "name": "pixel760",
         "rawType": "int64",
         "type": "integer"
        },
        {
         "name": "pixel761",
         "rawType": "int64",
         "type": "integer"
        },
        {
         "name": "pixel762",
         "rawType": "int64",
         "type": "integer"
        },
        {
         "name": "pixel763",
         "rawType": "int64",
         "type": "integer"
        },
        {
         "name": "pixel764",
         "rawType": "int64",
         "type": "integer"
        },
        {
         "name": "pixel765",
         "rawType": "int64",
         "type": "integer"
        },
        {
         "name": "pixel766",
         "rawType": "int64",
         "type": "integer"
        },
        {
         "name": "pixel767",
         "rawType": "int64",
         "type": "integer"
        },
        {
         "name": "pixel768",
         "rawType": "int64",
         "type": "integer"
        },
        {
         "name": "pixel769",
         "rawType": "int64",
         "type": "integer"
        },
        {
         "name": "pixel770",
         "rawType": "int64",
         "type": "integer"
        },
        {
         "name": "pixel771",
         "rawType": "int64",
         "type": "integer"
        },
        {
         "name": "pixel772",
         "rawType": "int64",
         "type": "integer"
        },
        {
         "name": "pixel773",
         "rawType": "int64",
         "type": "integer"
        },
        {
         "name": "pixel774",
         "rawType": "int64",
         "type": "integer"
        },
        {
         "name": "pixel775",
         "rawType": "int64",
         "type": "integer"
        },
        {
         "name": "pixel776",
         "rawType": "int64",
         "type": "integer"
        },
        {
         "name": "pixel777",
         "rawType": "int64",
         "type": "integer"
        },
        {
         "name": "pixel778",
         "rawType": "int64",
         "type": "integer"
        },
        {
         "name": "pixel779",
         "rawType": "int64",
         "type": "integer"
        },
        {
         "name": "pixel780",
         "rawType": "int64",
         "type": "integer"
        },
        {
         "name": "pixel781",
         "rawType": "int64",
         "type": "integer"
        },
        {
         "name": "pixel782",
         "rawType": "int64",
         "type": "integer"
        },
        {
         "name": "pixel783",
         "rawType": "int64",
         "type": "integer"
        },
        {
         "name": "pixel784",
         "rawType": "int64",
         "type": "integer"
        }
       ],
       "ref": "dbd9c127-30ae-4eb9-aaf0-c8e6c056d1fa",
       "rows": [
        [
         "0",
         "2",
         "0",
         "0",
         "0",
         "0",
         "0",
         "0",
         "0",
         "0",
         "0",
         "0",
         "0",
         "0",
         "0",
         "0",
         "0",
         "0",
         "0",
         "0",
         "0",
         "0",
         "0",
         "0",
         "0",
         "0",
         "0",
         "0",
         "0",
         "0",
         "0",
         "0",
         "0",
         "0",
         "0",
         "0",
         "0",
         "0",
         "0",
         "0",
         "0",
         "0",
         "0",
         "0",
         "0",
         "0",
         "0",
         "0",
         "0",
         "0",
         "0",
         "0",
         "0",
         "0",
         "0",
         "0",
         "0",
         "0",
         "0",
         "0",
         "0",
         "0",
         "0",
         "0",
         "0",
         "0",
         "0",
         "0",
         "0",
         "0",
         "0",
         "0",
         "0",
         "0",
         "0",
         "0",
         "0",
         "0",
         "0",
         "0",
         "0",
         "0",
         "0",
         "0",
         "0",
         "0",
         "0",
         "0",
         "0",
         "0",
         "4",
         "0",
         "0",
         "0",
         "0",
         "0",
         "62",
         "61",
         "21",
         "29",
         "23",
         "51",
         "136",
         "61",
         "0",
         "0",
         "0",
         "0",
         "0",
         "0",
         "0",
         "0",
         "0",
         "0",
         "0",
         "0",
         "0",
         "0",
         "0",
         "0",
         "0",
         "88",
         "201",
         "228",
         "225",
         "255",
         "115",
         "62",
         "137",
         "255",
         "235",
         "222",
         "255",
         "135",
         "0",
         "0",
         "0",
         "0",
         "0",
         "0",
         "0",
         "0",
         "0",
         "0",
         "0",
         "0",
         "0",
         "47",
         "252",
         "234",
         "238",
         "224",
         "215",
         "215",
         "229",
         "108",
         "180",
         "207",
         "214",
         "224",
         "231",
         "249",
         "254",
         "45",
         "0",
         "0",
         "0",
         "0",
         "0",
         "0",
         "0",
         "0",
         "1",
         "0",
         "0",
         "214",
         "222",
         "210",
         "213",
         "224",
         "225",
         "217",
         "220",
         "254",
         "233",
         "219",
         "221",
         "217",
         "223",
         "221",
         "240",
         "254",
         "0",
         "0",
         "1",
         "0",
         "0",
         "0",
         "1",
         "0",
         "0",
         "0",
         "128",
         "237",
         "207",
         "224",
         "224",
         "207",
         "216",
         "214",
         "210",
         "208",
         "211",
         "221",
         "208",
         "219",
         "213",
         "226",
         "211",
         "237",
         "150",
         "0",
         "0",
         "0",
         "0",
         "0",
         "0",
         "2",
         "0",
         "0",
         "237",
         "222",
         "215",
         "207",
         "210",
         "212",
         "213",
         "206",
         "214",
         "213",
         "214",
         "213",
         "210",
         "215",
         "214",
         "206",
         "199",
         "218",
         "255",
         "13",
         "0",
         "2",
         "0",
         "0",
         "0",
         "4",
         "0",
         "85",
         "228",
         "210",
         "218",
         "200",
         "211",
         "208",
         "203",
         "215",
         "210",
         "209",
         "209",
         "210",
         "213",
         "211",
         "210",
         "217",
         "206",
         "213",
         "231",
         "175",
         "0",
         "0",
         "0",
         "0",
         "0",
         "0",
         "0",
         "217",
         "224",
         "215",
         "206",
         "205",
         "204",
         "217",
         "230",
         "222",
         "215",
         "224",
         "233",
         "228",
         "232",
         "228",
         "224",
         "207",
         "212",
         "215",
         "213",
         "229",
         "31",
         "0",
         "4",
         "0",
         "1",
         "0",
         "21",
         "225",
         "212",
         "212",
         "203",
         "211",
         "225",
         "193",
         "139",
         "136",
         "195",
         "147",
         "156",
         "139",
         "128",
         "162",
         "197",
         "223",
         "207",
         "220",
         "213",
         "232",
         "177",
         "0",
         "0",
         "0",
         "0",
         "0",
         "123",
         "226",
         "207",
         "211",
         "209",
         "205",
         "228",
         "158",
         "90",
         "103",
         "186",
         "138",
         "100",
         "121",
         "147",
         "158",
         "183",
         "226",
         "208",
         "214",
         "209",
         "216",
         "255",
         "13",
         "0",
         "1",
         "0",
         "0",
         "226",
         "219",
         "202",
         "208",
         "206",
         "205",
         "216",
         "184",
         "156",
         "150",
         "193",
         "170",
         "164",
         "168",
         "188",
         "186",
         "200",
         "219",
         "216",
         "213",
         "213",
         "211",
         "233",
         "148",
         "0",
         "0",
         "0",
         "45",
         "227",
         "204",
         "214",
         "211",
         "218",
         "222",
         "221",
         "230",
         "229",
         "221",
         "213",
         "224",
         "233",
         "226",
         "220",
         "219",
         "221",
         "224",
         "223",
         "217",
         "210",
         "218",
         "213",
         "254",
         "0",
         "0",
         "0",
         "157",
         "226",
         "203",
         "207",
         "211",
         "209",
         "215",
         "205",
         "198",
         "207",
         "208",
         "201",
         "201",
         "197",
         "203",
         "205",
         "210",
         "207",
         "213",
         "214",
         "214",
         "214",
         "213",
         "208",
         "234",
         "107",
         "0",
         "0",
         "235",
         "213",
         "204",
         "211",
         "210",
         "209",
         "213",
         "202",
         "197",
         "204",
         "215",
         "217",
         "213",
         "212",
         "210",
         "206",
         "212",
         "203",
         "211",
         "218",
         "215",
         "214",
         "208",
         "209",
         "222",
         "230",
         "0",
         "52",
         "255",
         "207",
         "200",
         "208",
         "213",
         "210",
         "210",
         "208",
         "207",
         "202",
         "201",
         "209",
         "216",
         "216",
         "216",
         "216",
         "214",
         "212",
         "205",
         "215",
         "201",
         "228",
         "208",
         "214",
         "212",
         "218",
         "25",
         "118",
         "217",
         "201",
         "206",
         "208",
         "213",
         "208",
         "205",
         "206",
         "210",
         "211",
         "202",
         "199",
         "207",
         "208",
         "209",
         "210",
         "207",
         "210",
         "210",
         "245",
         "139",
         "119",
         "255",
         "202",
         "203",
         "236",
         "114",
         "171",
         "238",
         "212",
         "203",
         "220",
         "216",
         "217",
         "209",
         "207",
         "205",
         "210",
         "211",
         "206",
         "204",
         "206",
         "209",
         "211",
         "215",
         "210",
         "206",
         "221",
         "242",
         "0",
         "224",
         "234",
         "230",
         "181",
         "26",
         "39",
         "145",
         "201",
         "255",
         "157",
         "115",
         "250",
         "200",
         "207",
         "206",
         "207",
         "213",
         "216",
         "206",
         "205",
         "206",
         "207",
         "206",
         "215",
         "207",
         "221",
         "238",
         "0",
         "0",
         "188",
         "85",
         "0",
         "0",
         "0",
         "0",
         "0",
         "31",
         "0",
         "129",
         "253",
         "190",
         "207",
         "208",
         "208",
         "208",
         "209",
         "211",
         "211",
         "209",
         "209",
         "209",
         "212",
         "201",
         "226",
         "165",
         "0",
         "0",
         "0",
         "0",
         "0",
         "0",
         "2",
         "0",
         "0",
         "0",
         "0",
         "89",
         "254",
         "199",
         "199",
         "192",
         "196",
         "198",
         "199",
         "201",
         "202",
         "203",
         "204",
         "203",
         "203",
         "200",
         "222",
         "155",
         "0",
         "3",
         "3",
         "3",
         "2",
         "0",
         "0",
         "0",
         "1",
         "5",
         "0",
         "0",
         "255",
         "218",
         "226",
         "232",
         "228",
         "224",
         "222",
         "220",
         "219",
         "219",
         "217",
         "221",
         "220",
         "212",
         "236",
         "95",
         "0",
         "2",
         "0",
         "0",
         "0",
         "0",
         "0",
         "0",
         "0",
         "0",
         "0",
         "0",
         "155",
         "194",
         "168",
         "170",
         "171",
         "173",
         "173",
         "179",
         "177",
         "175",
         "172",
         "171",
         "167",
         "161",
         "180",
         "0",
         "0",
         "1",
         "0",
         "1",
         "0",
         "0",
         "0",
         "0",
         "0",
         "0",
         "0",
         "0",
         "0",
         "0",
         "0",
         "0",
         "0",
         "0",
         "0",
         "0",
         "0",
         "0",
         "0",
         "0",
         "0",
         "0",
         "0",
         "0",
         "0",
         "0",
         "0",
         "0",
         "0",
         "0",
         "0",
         "0",
         "0",
         "0",
         "0",
         "0",
         "0",
         "0",
         "0",
         "0",
         "0",
         "0",
         "0",
         "0",
         "0",
         "0",
         "0",
         "0",
         "0",
         "0",
         "0",
         "0",
         "0",
         "0",
         "0",
         "0",
         "0",
         "0",
         "0",
         "0",
         "0",
         "0",
         "0",
         "0",
         "0",
         "0",
         "0",
         "0",
         "0",
         "0",
         "0",
         "0",
         "0",
         "0",
         "0",
         "0",
         "0",
         "0",
         "0",
         "0",
         "0",
         "0",
         "0",
         "0",
         "0",
         "0"
        ],
        [
         "1",
         "9",
         "0",
         "0",
         "0",
         "0",
         "0",
         "0",
         "0",
         "0",
         "0",
         "0",
         "0",
         "0",
         "0",
         "0",
         "0",
         "0",
         "0",
         "0",
         "0",
         "0",
         "0",
         "0",
         "0",
         "0",
         "0",
         "0",
         "0",
         "0",
         "0",
         "0",
         "0",
         "0",
         "0",
         "0",
         "0",
         "0",
         "0",
         "0",
         "0",
         "0",
         "0",
         "0",
         "0",
         "0",
         "0",
         "0",
         "0",
         "0",
         "0",
         "0",
         "0",
         "0",
         "0",
         "0",
         "0",
         "0",
         "0",
         "0",
         "0",
         "0",
         "0",
         "0",
         "0",
         "0",
         "0",
         "0",
         "0",
         "0",
         "0",
         "0",
         "0",
         "0",
         "0",
         "0",
         "0",
         "0",
         "0",
         "0",
         "0",
         "0",
         "0",
         "0",
         "0",
         "0",
         "0",
         "0",
         "0",
         "0",
         "0",
         "0",
         "0",
         "0",
         "0",
         "0",
         "0",
         "0",
         "0",
         "0",
         "0",
         "0",
         "0",
         "0",
         "0",
         "0",
         "0",
         "0",
         "0",
         "0",
         "0",
         "0",
         "0",
         "0",
         "0",
         "0",
         "0",
         "0",
         "0",
         "0",
         "0",
         "0",
         "0",
         "0",
         "0",
         "0",
         "0",
         "0",
         "0",
         "0",
         "0",
         "0",
         "0",
         "0",
         "0",
         "0",
         "0",
         "0",
         "0",
         "0",
         "0",
         "0",
         "0",
         "0",
         "0",
         "0",
         "0",
         "0",
         "0",
         "0",
         "0",
         "0",
         "0",
         "0",
         "1",
         "1",
         "0",
         "0",
         "0",
         "0",
         "81",
         "21",
         "0",
         "1",
         "0",
         "1",
         "0",
         "0",
         "0",
         "0",
         "0",
         "0",
         "0",
         "0",
         "0",
         "0",
         "0",
         "0",
         "0",
         "0",
         "0",
         "1",
         "0",
         "0",
         "0",
         "0",
         "0",
         "14",
         "200",
         "49",
         "0",
         "0",
         "0",
         "0",
         "0",
         "0",
         "0",
         "0",
         "0",
         "0",
         "0",
         "0",
         "0",
         "0",
         "0",
         "0",
         "2",
         "1",
         "1",
         "1",
         "0",
         "1",
         "0",
         "0",
         "0",
         "162",
         "184",
         "165",
         "20",
         "0",
         "1",
         "1",
         "3",
         "4",
         "1",
         "0",
         "0",
         "0",
         "0",
         "0",
         "0",
         "0",
         "0",
         "0",
         "0",
         "0",
         "0",
         "1",
         "2",
         "0",
         "2",
         "0",
         "120",
         "183",
         "154",
         "206",
         "32",
         "0",
         "5",
         "5",
         "0",
         "0",
         "0",
         "0",
         "0",
         "0",
         "0",
         "0",
         "0",
         "0",
         "0",
         "0",
         "0",
         "0",
         "0",
         "2",
         "0",
         "3",
         "0",
         "76",
         "227",
         "151",
         "139",
         "158",
         "0",
         "0",
         "0",
         "0",
         "0",
         "66",
         "23",
         "0",
         "0",
         "0",
         "0",
         "0",
         "0",
         "0",
         "0",
         "0",
         "1",
         "0",
         "1",
         "0",
         "0",
         "0",
         "55",
         "224",
         "162",
         "143",
         "121",
         "204",
         "236",
         "144",
         "21",
         "74",
         "90",
         "190",
         "8",
         "0",
         "0",
         "0",
         "0",
         "0",
         "0",
         "0",
         "0",
         "0",
         "0",
         "1",
         "0",
         "0",
         "0",
         "42",
         "228",
         "160",
         "148",
         "125",
         "165",
         "223",
         "208",
         "221",
         "246",
         "211",
         "174",
         "151",
         "0",
         "0",
         "0",
         "0",
         "0",
         "1",
         "3",
         "0",
         "1",
         "0",
         "3",
         "0",
         "9",
         "0",
         "23",
         "230",
         "168",
         "147",
         "119",
         "163",
         "227",
         "206",
         "200",
         "190",
         "206",
         "186",
         "139",
         "171",
         "41",
         "0",
         "0",
         "0",
         "0",
         "0",
         "0",
         "0",
         "0",
         "0",
         "3",
         "4",
         "0",
         "16",
         "209",
         "185",
         "139",
         "118",
         "181",
         "227",
         "209",
         "204",
         "210",
         "199",
         "225",
         "157",
         "127",
         "190",
         "111",
         "0",
         "1",
         "3",
         "2",
         "1",
         "3",
         "2",
         "3",
         "0",
         "0",
         "0",
         "67",
         "214",
         "187",
         "139",
         "111",
         "191",
         "229",
         "203",
         "208",
         "208",
         "196",
         "223",
         "188",
         "100",
         "128",
         "155",
         "112",
         "0",
         "0",
         "0",
         "0",
         "0",
         "0",
         "0",
         "0",
         "0",
         "48",
         "161",
         "218",
         "171",
         "147",
         "116",
         "185",
         "235",
         "201",
         "209",
         "203",
         "204",
         "220",
         "208",
         "126",
         "133",
         "162",
         "164",
         "187",
         "0",
         "0",
         "12",
         "16",
         "9",
         "4",
         "19",
         "73",
         "170",
         "211",
         "188",
         "145",
         "149",
         "148",
         "136",
         "222",
         "218",
         "207",
         "208",
         "215",
         "224",
         "193",
         "140",
         "146",
         "162",
         "156",
         "118",
         "203",
         "37",
         "47",
         "255",
         "188",
         "187",
         "182",
         "203",
         "206",
         "182",
         "147",
         "140",
         "148",
         "148",
         "148",
         "134",
         "180",
         "218",
         "221",
         "225",
         "204",
         "156",
         "134",
         "139",
         "144",
         "140",
         "123",
         "97",
         "206",
         "30",
         "88",
         "203",
         "164",
         "167",
         "170",
         "161",
         "147",
         "147",
         "156",
         "159",
         "153",
         "152",
         "155",
         "150",
         "134",
         "136",
         "153",
         "145",
         "136",
         "151",
         "164",
         "168",
         "170",
         "166",
         "153",
         "130",
         "200",
         "10",
         "131",
         "195",
         "150",
         "133",
         "132",
         "142",
         "160",
         "166",
         "162",
         "153",
         "152",
         "153",
         "151",
         "154",
         "163",
         "147",
         "152",
         "163",
         "205",
         "208",
         "174",
         "175",
         "178",
         "181",
         "168",
         "150",
         "196",
         "1",
         "155",
         "228",
         "197",
         "172",
         "138",
         "123",
         "121",
         "122",
         "126",
         "129",
         "135",
         "139",
         "144",
         "158",
         "177",
         "192",
         "239",
         "244",
         "178",
         "176",
         "183",
         "179",
         "185",
         "177",
         "147",
         "148",
         "192",
         "0",
         "0",
         "80",
         "196",
         "199",
         "212",
         "209",
         "190",
         "176",
         "170",
         "178",
         "183",
         "192",
         "204",
         "204",
         "202",
         "144",
         "59",
         "3",
         "0",
         "67",
         "217",
         "184",
         "188",
         "178",
         "166",
         "160",
         "188",
         "13",
         "0",
         "0",
         "0",
         "3",
         "51",
         "105",
         "179",
         "217",
         "235",
         "227",
         "208",
         "201",
         "133",
         "58",
         "0",
         "0",
         "0",
         "0",
         "0",
         "16",
         "187",
         "194",
         "184",
         "185",
         "175",
         "181",
         "131",
         "0",
         "0",
         "3",
         "0",
         "0",
         "0",
         "0",
         "0",
         "0",
         "0",
         "0",
         "0",
         "0",
         "0",
         "0",
         "0",
         "5",
         "5",
         "5",
         "0",
         "0",
         "0",
         "0",
         "0",
         "0",
         "0",
         "0",
         "0",
         "0",
         "0",
         "0",
         "0",
         "0",
         "0",
         "0",
         "0",
         "0",
         "0",
         "0",
         "0",
         "0",
         "0",
         "0",
         "0",
         "0",
         "0",
         "0",
         "0",
         "0",
         "0",
         "0",
         "0",
         "0",
         "0",
         "0",
         "0",
         "0",
         "0",
         "0",
         "0",
         "0",
         "0",
         "0",
         "0",
         "0",
         "0",
         "0",
         "0",
         "0",
         "0",
         "0",
         "0",
         "0",
         "0",
         "0",
         "0",
         "0",
         "0",
         "0",
         "0",
         "0",
         "0",
         "0",
         "0",
         "0",
         "0",
         "0",
         "0",
         "0",
         "0",
         "0",
         "0",
         "0",
         "0",
         "0",
         "0",
         "0",
         "0",
         "0",
         "0",
         "0",
         "0",
         "0",
         "0",
         "0",
         "0",
         "0",
         "0",
         "0",
         "0",
         "0",
         "0",
         "0",
         "0",
         "0",
         "0",
         "0",
         "0",
         "0",
         "0",
         "0",
         "0",
         "0",
         "0",
         "0",
         "0",
         "0",
         "0",
         "0",
         "0",
         "0",
         "0",
         "0",
         "0",
         "0",
         "0",
         "0",
         "0",
         "0",
         "0",
         "0"
        ],
        [
         "2",
         "6",
         "0",
         "0",
         "0",
         "0",
         "0",
         "0",
         "0",
         "5",
         "0",
         "0",
         "0",
         "105",
         "92",
         "101",
         "107",
         "100",
         "132",
         "0",
         "0",
         "2",
         "4",
         "0",
         "1",
         "0",
         "0",
         "0",
         "0",
         "0",
         "0",
         "0",
         "0",
         "0",
         "0",
         "0",
         "0",
         "0",
         "0",
         "0",
         "150",
         "227",
         "211",
         "171",
         "191",
         "236",
         "228",
         "172",
         "0",
         "0",
         "0",
         "0",
         "1",
         "0",
         "0",
         "0",
         "0",
         "0",
         "0",
         "0",
         "0",
         "0",
         "0",
         "0",
         "0",
         "48",
         "153",
         "209",
         "210",
         "187",
         "199",
         "142",
         "157",
         "209",
         "179",
         "199",
         "233",
         "138",
         "44",
         "0",
         "0",
         "0",
         "0",
         "0",
         "0",
         "0",
         "0",
         "0",
         "0",
         "0",
         "0",
         "0",
         "120",
         "218",
         "215",
         "207",
         "198",
         "198",
         "223",
         "219",
         "214",
         "225",
         "190",
         "177",
         "195",
         "209",
         "204",
         "139",
         "0",
         "1",
         "0",
         "0",
         "0",
         "0",
         "0",
         "0",
         "0",
         "0",
         "0",
         "0",
         "208",
         "200",
         "197",
         "202",
         "193",
         "203",
         "207",
         "228",
         "245",
         "196",
         "197",
         "202",
         "193",
         "190",
         "167",
         "203",
         "27",
         "0",
         "0",
         "0",
         "0",
         "0",
         "0",
         "0",
         "0",
         "0",
         "0",
         "89",
         "217",
         "200",
         "211",
         "175",
         "189",
         "205",
         "199",
         "218",
         "216",
         "181",
         "179",
         "185",
         "192",
         "198",
         "184",
         "198",
         "121",
         "0",
         "0",
         "0",
         "0",
         "0",
         "0",
         "0",
         "0",
         "0",
         "0",
         "140",
         "220",
         "204",
         "223",
         "187",
         "182",
         "200",
         "207",
         "217",
         "213",
         "210",
         "207",
         "180",
         "161",
         "192",
         "184",
         "199",
         "162",
         "0",
         "0",
         "0",
         "0",
         "0",
         "0",
         "0",
         "0",
         "0",
         "0",
         "166",
         "218",
         "203",
         "195",
         "185",
         "196",
         "189",
         "167",
         "181",
         "206",
         "177",
         "176",
         "181",
         "165",
         "187",
         "179",
         "189",
         "183",
         "0",
         "0",
         "0",
         "0",
         "0",
         "0",
         "0",
         "0",
         "0",
         "0",
         "196",
         "215",
         "211",
         "206",
         "201",
         "196",
         "180",
         "188",
         "210",
         "206",
         "190",
         "173",
         "180",
         "187",
         "192",
         "184",
         "192",
         "199",
         "0",
         "0",
         "0",
         "0",
         "0",
         "0",
         "0",
         "0",
         "0",
         "0",
         "212",
         "217",
         "224",
         "211",
         "216",
         "201",
         "189",
         "184",
         "202",
         "210",
         "194",
         "182",
         "173",
         "173",
         "176",
         "192",
         "195",
         "208",
         "0",
         "0",
         "0",
         "0",
         "0",
         "0",
         "0",
         "0",
         "0",
         "0",
         "222",
         "215",
         "228",
         "203",
         "212",
         "199",
         "198",
         "191",
         "186",
         "228",
         "195",
         "191",
         "161",
         "178",
         "177",
         "198",
         "194",
         "210",
         "29",
         "0",
         "0",
         "0",
         "0",
         "0",
         "0",
         "0",
         "0",
         "0",
         "244",
         "215",
         "235",
         "206",
         "214",
         "202",
         "171",
         "201",
         "178",
         "203",
         "190",
         "180",
         "187",
         "196",
         "183",
         "206",
         "195",
         "206",
         "44",
         "0",
         "0",
         "0",
         "0",
         "0",
         "0",
         "0",
         "0",
         "0",
         "233",
         "221",
         "237",
         "182",
         "206",
         "207",
         "195",
         "200",
         "192",
         "224",
         "191",
         "182",
         "177",
         "180",
         "186",
         "178",
         "196",
         "207",
         "60",
         "0",
         "0",
         "0",
         "0",
         "0",
         "0",
         "0",
         "0",
         "16",
         "249",
         "224",
         "229",
         "192",
         "215",
         "207",
         "198",
         "198",
         "192",
         "226",
         "193",
         "192",
         "180",
         "176",
         "185",
         "196",
         "200",
         "217",
         "87",
         "0",
         "0",
         "0",
         "0",
         "0",
         "0",
         "0",
         "0",
         "53",
         "222",
         "223",
         "235",
         "205",
         "220",
         "200",
         "151",
         "206",
         "198",
         "214",
         "199",
         "171",
         "161",
         "197",
         "186",
         "218",
         "198",
         "216",
         "88",
         "0",
         "0",
         "0",
         "0",
         "0",
         "0",
         "0",
         "0",
         "75",
         "223",
         "223",
         "237",
         "199",
         "219",
         "203",
         "193",
         "204",
         "201",
         "220",
         "201",
         "193",
         "176",
         "189",
         "167",
         "218",
         "202",
         "198",
         "109",
         "0",
         "0",
         "0",
         "0",
         "0",
         "0",
         "0",
         "0",
         "79",
         "250",
         "226",
         "243",
         "196",
         "222",
         "201",
         "206",
         "205",
         "207",
         "222",
         "185",
         "194",
         "186",
         "187",
         "144",
         "207",
         "208",
         "226",
         "111",
         "0",
         "0",
         "0",
         "0",
         "0",
         "0",
         "0",
         "0",
         "87",
         "249",
         "222",
         "240",
         "226",
         "193",
         "187",
         "205",
         "206",
         "198",
         "212",
         "190",
         "189",
         "185",
         "185",
         "191",
         "211",
         "212",
         "210",
         "113",
         "0",
         "0",
         "0",
         "0",
         "0",
         "0",
         "0",
         "0",
         "95",
         "249",
         "227",
         "236",
         "219",
         "213",
         "186",
         "203",
         "219",
         "198",
         "206",
         "218",
         "194",
         "177",
         "181",
         "195",
         "148",
         "229",
         "206",
         "122",
         "0",
         "0",
         "0",
         "0",
         "0",
         "0",
         "0",
         "0",
         "106",
         "248",
         "228",
         "224",
         "206",
         "202",
         "200",
         "206",
         "191",
         "190",
         "194",
         "203",
         "196",
         "180",
         "180",
         "185",
         "148",
         "228",
         "214",
         "117",
         "0",
         "0",
         "0",
         "0",
         "0",
         "0",
         "0",
         "0",
         "110",
         "242",
         "225",
         "239",
         "218",
         "204",
         "201",
         "202",
         "211",
         "193",
         "197",
         "217",
         "203",
         "183",
         "184",
         "175",
         "212",
         "219",
         "206",
         "122",
         "0",
         "0",
         "0",
         "0",
         "0",
         "0",
         "0",
         "0",
         "122",
         "249",
         "234",
         "241",
         "216",
         "215",
         "196",
         "200",
         "222",
         "208",
         "195",
         "225",
         "212",
         "181",
         "186",
         "183",
         "227",
         "214",
         "211",
         "121",
         "0",
         "0",
         "0",
         "0",
         "0",
         "0",
         "0",
         "0",
         "148",
         "230",
         "237",
         "228",
         "214",
         "213",
         "201",
         "207",
         "214",
         "201",
         "204",
         "235",
         "191",
         "161",
         "185",
         "180",
         "216",
         "201",
         "212",
         "119",
         "0",
         "0",
         "0",
         "0",
         "0",
         "0",
         "0",
         "0",
         "151",
         "230",
         "235",
         "229",
         "218",
         "209",
         "198",
         "193",
         "226",
         "182",
         "189",
         "240",
         "200",
         "186",
         "188",
         "188",
         "218",
         "216",
         "209",
         "110",
         "0",
         "0",
         "0",
         "0",
         "0",
         "0",
         "0",
         "0",
         "96",
         "237",
         "233",
         "237",
         "207",
         "200",
         "203",
         "191",
         "213",
         "170",
         "186",
         "239",
         "209",
         "186",
         "173",
         "186",
         "156",
         "199",
         "217",
         "84",
         "0",
         "0",
         "0",
         "0",
         "0",
         "0",
         "0",
         "0",
         "89",
         "237",
         "207",
         "121",
         "255",
         "193",
         "183",
         "193",
         "209",
         "224",
         "208",
         "224",
         "203",
         "160",
         "184",
         "223",
         "0",
         "186",
         "216",
         "102",
         "0",
         "0",
         "0",
         "0",
         "0",
         "0",
         "0",
         "0",
         "108",
         "242",
         "253",
         "0",
         "112",
         "255",
         "217",
         "211",
         "227",
         "245",
         "195",
         "194",
         "211",
         "220",
         "214",
         "74",
         "0",
         "255",
         "222",
         "128",
         "0",
         "0",
         "0",
         "0",
         "0",
         "0",
         "0",
         "0",
         "0",
         "44",
         "12",
         "0",
         "0",
         "40",
         "134",
         "162",
         "191",
         "214",
         "163",
         "146",
         "165",
         "79",
         "0",
         "0",
         "0",
         "30",
         "43",
         "0",
         "0",
         "0",
         "0",
         "0"
        ],
        [
         "3",
         "0",
         "0",
         "0",
         "0",
         "1",
         "2",
         "0",
         "0",
         "0",
         "0",
         "0",
         "114",
         "183",
         "112",
         "55",
         "23",
         "72",
         "102",
         "165",
         "160",
         "28",
         "0",
         "0",
         "0",
         "1",
         "0",
         "0",
         "0",
         "0",
         "0",
         "0",
         "0",
         "0",
         "1",
         "0",
         "0",
         "24",
         "188",
         "163",
         "93",
         "136",
         "153",
         "168",
         "252",
         "174",
         "136",
         "166",
         "130",
         "123",
         "131",
         "66",
         "0",
         "0",
         "1",
         "0",
         "0",
         "0",
         "0",
         "0",
         "0",
         "2",
         "0",
         "10",
         "157",
         "216",
         "226",
         "208",
         "142",
         "66",
         "115",
         "149",
         "230",
         "190",
         "196",
         "198",
         "172",
         "222",
         "107",
         "165",
         "211",
         "0",
         "0",
         "0",
         "0",
         "0",
         "0",
         "0",
         "0",
         "0",
         "0",
         "118",
         "214",
         "174",
         "168",
         "109",
         "200",
         "124",
         "150",
         "143",
         "58",
         "63",
         "89",
         "137",
         "97",
         "168",
         "138",
         "142",
         "195",
         "156",
         "0",
         "0",
         "0",
         "0",
         "0",
         "0",
         "0",
         "0",
         "25",
         "140",
         "70",
         "80",
         "43",
         "71",
         "96",
         "93",
         "151",
         "121",
         "197",
         "143",
         "107",
         "82",
         "101",
         "111",
         "80",
         "137",
         "193",
         "208",
         "6",
         "0",
         "0",
         "0",
         "0",
         "0",
         "0",
         "0",
         "74",
         "194",
         "107",
         "146",
         "178",
         "185",
         "182",
         "77",
         "185",
         "218",
         "210",
         "175",
         "174",
         "235",
         "217",
         "217",
         "129",
         "180",
         "210",
         "208",
         "89",
         "0",
         "0",
         "0",
         "0",
         "0",
         "0",
         "0",
         "179",
         "213",
         "203",
         "177",
         "228",
         "192",
         "193",
         "162",
         "143",
         "172",
         "196",
         "205",
         "181",
         "180",
         "140",
         "134",
         "176",
         "194",
         "171",
         "170",
         "65",
         "0",
         "0",
         "0",
         "0",
         "0",
         "0",
         "0",
         "184",
         "194",
         "229",
         "209",
         "176",
         "198",
         "129",
         "227",
         "225",
         "140",
         "196",
         "130",
         "179",
         "145",
         "109",
         "79",
         "182",
         "223",
         "164",
         "195",
         "233",
         "0",
         "0",
         "0",
         "0",
         "0",
         "0",
         "38",
         "180",
         "177",
         "213",
         "202",
         "159",
         "129",
         "98",
         "179",
         "149",
         "90",
         "187",
         "211",
         "61",
         "134",
         "91",
         "57",
         "118",
         "212",
         "220",
         "218",
         "207",
         "0",
         "0",
         "0",
         "0",
         "0",
         "0",
         "114",
         "154",
         "142",
         "182",
         "219",
         "130",
         "88",
         "81",
         "52",
         "54",
         "106",
         "93",
         "110",
         "159",
         "222",
         "227",
         "83",
         "117",
         "253",
         "218",
         "210",
         "206",
         "48",
         "0",
         "0",
         "0",
         "0",
         "0",
         "18",
         "127",
         "208",
         "228",
         "185",
         "172",
         "240",
         "91",
         "126",
         "208",
         "165",
         "154",
         "213",
         "214",
         "229",
         "215",
         "175",
         "222",
         "204",
         "153",
         "130",
         "125",
         "39",
         "0",
         "0",
         "0",
         "0",
         "0",
         "0",
         "0",
         "0",
         "28",
         "0",
         "212",
         "228",
         "170",
         "221",
         "205",
         "225",
         "228",
         "210",
         "178",
         "214",
         "89",
         "117",
         "213",
         "0",
         "0",
         "0",
         "0",
         "0",
         "0",
         "0",
         "0",
         "0",
         "0",
         "0",
         "0",
         "0",
         "0",
         "0",
         "196",
         "141",
         "56",
         "176",
         "210",
         "164",
         "162",
         "91",
         "135",
         "196",
         "158",
         "69",
         "181",
         "0",
         "0",
         "3",
         "2",
         "3",
         "0",
         "0",
         "0",
         "0",
         "0",
         "0",
         "0",
         "1",
         "0",
         "0",
         "150",
         "190",
         "88",
         "50",
         "145",
         "194",
         "159",
         "120",
         "136",
         "207",
         "230",
         "144",
         "171",
         "4",
         "0",
         "1",
         "0",
         "0",
         "0",
         "0",
         "0",
         "0",
         "0",
         "0",
         "0",
         "0",
         "0",
         "0",
         "187",
         "220",
         "182",
         "72",
         "139",
         "199",
         "192",
         "232",
         "255",
         "244",
         "198",
         "170",
         "189",
         "2",
         "0",
         "3",
         "0",
         "0",
         "0",
         "0",
         "0",
         "0",
         "0",
         "0",
         "0",
         "0",
         "0",
         "0",
         "186",
         "175",
         "181",
         "93",
         "164",
         "230",
         "134",
         "153",
         "142",
         "137",
         "79",
         "143",
         "183",
         "0",
         "0",
         "2",
         "0",
         "0",
         "0",
         "0",
         "0",
         "0",
         "0",
         "0",
         "0",
         "0",
         "0",
         "0",
         "93",
         "72",
         "144",
         "138",
         "164",
         "113",
         "124",
         "98",
         "80",
         "57",
         "97",
         "138",
         "124",
         "4",
         "0",
         "3",
         "0",
         "0",
         "0",
         "0",
         "0",
         "0",
         "0",
         "0",
         "0",
         "0",
         "0",
         "0",
         "149",
         "171",
         "98",
         "70",
         "180",
         "152",
         "227",
         "173",
         "143",
         "180",
         "183",
         "127",
         "206",
         "38",
         "0",
         "5",
         "0",
         "0",
         "0",
         "0",
         "0",
         "0",
         "0",
         "0",
         "1",
         "0",
         "0",
         "0",
         "195",
         "210",
         "226",
         "113",
         "187",
         "224",
         "210",
         "191",
         "181",
         "224",
         "212",
         "198",
         "172",
         "36",
         "0",
         "6",
         "0",
         "0",
         "0",
         "0",
         "0",
         "0",
         "0",
         "0",
         "1",
         "0",
         "0",
         "0",
         "153",
         "197",
         "171",
         "175",
         "161",
         "171",
         "199",
         "224",
         "187",
         "206",
         "192",
         "176",
         "179",
         "48",
         "0",
         "6",
         "1",
         "0",
         "0",
         "0",
         "0",
         "0",
         "0",
         "0",
         "0",
         "0",
         "0",
         "0",
         "180",
         "195",
         "136",
         "230",
         "240",
         "148",
         "204",
         "140",
         "173",
         "199",
         "193",
         "156",
         "213",
         "37",
         "0",
         "5",
         "0",
         "0",
         "0",
         "0",
         "0",
         "0",
         "0",
         "0",
         "0",
         "1",
         "0",
         "0",
         "150",
         "101",
         "72",
         "167",
         "158",
         "95",
         "177",
         "234",
         "113",
         "142",
         "112",
         "59",
         "152",
         "22",
         "0",
         "3",
         "0",
         "0",
         "0",
         "0",
         "0",
         "0",
         "0",
         "0",
         "0",
         "0",
         "0",
         "0",
         "197",
         "178",
         "82",
         "47",
         "64",
         "106",
         "112",
         "121",
         "110",
         "189",
         "225",
         "121",
         "98",
         "58",
         "0",
         "4",
         "0",
         "0",
         "0",
         "0",
         "0",
         "0",
         "0",
         "0",
         "0",
         "2",
         "0",
         "0",
         "202",
         "219",
         "161",
         "135",
         "205",
         "200",
         "156",
         "195",
         "231",
         "234",
         "218",
         "182",
         "223",
         "99",
         "0",
         "6",
         "0",
         "0",
         "0",
         "0",
         "0",
         "0",
         "0",
         "0",
         "0",
         "4",
         "0",
         "0",
         "188",
         "152",
         "118",
         "222",
         "214",
         "203",
         "233",
         "226",
         "193",
         "200",
         "173",
         "53",
         "166",
         "97",
         "0",
         "6",
         "0",
         "0",
         "0",
         "0",
         "0",
         "0",
         "0",
         "0",
         "0",
         "3",
         "0",
         "2",
         "182",
         "152",
         "51",
         "89",
         "174",
         "183",
         "168",
         "112",
         "109",
         "181",
         "170",
         "136",
         "108",
         "60",
         "0",
         "4",
         "0",
         "0",
         "0",
         "0",
         "0",
         "0",
         "0",
         "0",
         "0",
         "2",
         "0",
         "5",
         "194",
         "193",
         "204",
         "104",
         "116",
         "241",
         "217",
         "196",
         "171",
         "249",
         "207",
         "197",
         "202",
         "45",
         "0",
         "3",
         "0",
         "0",
         "0",
         "0",
         "0",
         "0",
         "0",
         "0",
         "0",
         "0",
         "1",
         "0",
         "0",
         "0",
         "22",
         "21",
         "25",
         "69",
         "52",
         "45",
         "74",
         "39",
         "3",
         "0",
         "0",
         "0",
         "0",
         "1",
         "0",
         "0",
         "0",
         "0"
        ],
        [
         "4",
         "3",
         "0",
         "0",
         "0",
         "0",
         "0",
         "0",
         "0",
         "0",
         "0",
         "0",
         "0",
         "0",
         "46",
         "0",
         "21",
         "68",
         "0",
         "0",
         "0",
         "0",
         "0",
         "0",
         "0",
         "0",
         "0",
         "0",
         "0",
         "0",
         "0",
         "0",
         "0",
         "0",
         "0",
         "0",
         "0",
         "0",
         "25",
         "187",
         "189",
         "0",
         "119",
         "173",
         "239",
         "112",
         "0",
         "189",
         "125",
         "0",
         "0",
         "0",
         "0",
         "0",
         "0",
         "0",
         "0",
         "0",
         "0",
         "0",
         "0",
         "0",
         "0",
         "0",
         "0",
         "14",
         "219",
         "224",
         "211",
         "92",
         "52",
         "227",
         "224",
         "127",
         "92",
         "196",
         "237",
         "136",
         "0",
         "0",
         "0",
         "0",
         "0",
         "0",
         "0",
         "0",
         "0",
         "0",
         "0",
         "0",
         "0",
         "0",
         "0",
         "106",
         "238",
         "202",
         "205",
         "224",
         "225",
         "217",
         "218",
         "222",
         "227",
         "202",
         "206",
         "218",
         "0",
         "0",
         "0",
         "0",
         "0",
         "0",
         "0",
         "0",
         "0",
         "0",
         "0",
         "0",
         "0",
         "0",
         "0",
         "166",
         "239",
         "216",
         "214",
         "192",
         "181",
         "205",
         "204",
         "180",
         "187",
         "205",
         "208",
         "230",
         "45",
         "0",
         "0",
         "0",
         "0",
         "0",
         "0",
         "0",
         "0",
         "0",
         "0",
         "0",
         "0",
         "0",
         "0",
         "220",
         "235",
         "233",
         "213",
         "205",
         "201",
         "185",
         "184",
         "200",
         "199",
         "223",
         "224",
         "232",
         "101",
         "0",
         "0",
         "0",
         "0",
         "0",
         "0",
         "0",
         "0",
         "0",
         "0",
         "0",
         "0",
         "0",
         "0",
         "252",
         "238",
         "226",
         "226",
         "221",
         "224",
         "195",
         "198",
         "223",
         "229",
         "205",
         "202",
         "235",
         "158",
         "0",
         "0",
         "0",
         "0",
         "0",
         "0",
         "0",
         "0",
         "0",
         "0",
         "0",
         "0",
         "0",
         "9",
         "228",
         "241",
         "125",
         "238",
         "228",
         "225",
         "212",
         "215",
         "222",
         "250",
         "168",
         "141",
         "243",
         "197",
         "0",
         "0",
         "0",
         "0",
         "0",
         "0",
         "0",
         "0",
         "0",
         "0",
         "0",
         "0",
         "0",
         "51",
         "232",
         "247",
         "34",
         "225",
         "237",
         "219",
         "222",
         "223",
         "216",
         "248",
         "182",
         "124",
         "246",
         "200",
         "0",
         "0",
         "0",
         "0",
         "0",
         "0",
         "0",
         "0",
         "0",
         "0",
         "0",
         "0",
         "0",
         "69",
         "236",
         "255",
         "0",
         "218",
         "240",
         "219",
         "221",
         "222",
         "214",
         "252",
         "153",
         "71",
         "248",
         "215",
         "0",
         "0",
         "0",
         "0",
         "0",
         "0",
         "0",
         "0",
         "0",
         "0",
         "0",
         "0",
         "0",
         "82",
         "248",
         "247",
         "0",
         "231",
         "236",
         "219",
         "221",
         "221",
         "212",
         "253",
         "109",
         "0",
         "247",
         "224",
         "19",
         "0",
         "0",
         "0",
         "0",
         "0",
         "0",
         "0",
         "0",
         "0",
         "0",
         "0",
         "0",
         "106",
         "252",
         "198",
         "0",
         "250",
         "230",
         "220",
         "219",
         "219",
         "212",
         "252",
         "129",
         "0",
         "255",
         "232",
         "59",
         "0",
         "0",
         "0",
         "0",
         "0",
         "0",
         "0",
         "0",
         "0",
         "0",
         "0",
         "0",
         "134",
         "252",
         "150",
         "0",
         "254",
         "215",
         "219",
         "219",
         "219",
         "216",
         "233",
         "222",
         "0",
         "253",
         "237",
         "89",
         "0",
         "0",
         "0",
         "0",
         "0",
         "0",
         "0",
         "0",
         "0",
         "0",
         "0",
         "0",
         "163",
         "253",
         "126",
         "115",
         "253",
         "211",
         "222",
         "220",
         "219",
         "219",
         "213",
         "253",
         "54",
         "206",
         "243",
         "144",
         "0",
         "0",
         "0",
         "0",
         "0",
         "0",
         "0",
         "0",
         "0",
         "0",
         "0",
         "0",
         "205",
         "255",
         "149",
         "209",
         "234",
         "219",
         "221",
         "220",
         "219",
         "219",
         "213",
         "244",
         "164",
         "224",
         "240",
         "195",
         "0",
         "0",
         "0",
         "0",
         "0",
         "0",
         "0",
         "0",
         "0",
         "0",
         "0",
         "0",
         "9",
         "0",
         "20",
         "253",
         "219",
         "221",
         "219",
         "219",
         "219",
         "219",
         "221",
         "224",
         "230",
         "0",
         "0",
         "0",
         "0",
         "0",
         "0",
         "0",
         "0",
         "0",
         "0",
         "0",
         "0",
         "0",
         "0",
         "0",
         "0",
         "0",
         "49",
         "254",
         "217",
         "221",
         "219",
         "219",
         "219",
         "220",
         "221",
         "216",
         "253",
         "7",
         "0",
         "0",
         "0",
         "0",
         "0",
         "0",
         "0",
         "0",
         "0",
         "0",
         "0",
         "0",
         "0",
         "0",
         "6",
         "0",
         "94",
         "229",
         "216",
         "220",
         "218",
         "218",
         "219",
         "220",
         "219",
         "218",
         "226",
         "52",
         "0",
         "5",
         "0",
         "0",
         "0",
         "0",
         "0",
         "0",
         "0",
         "0",
         "0",
         "0",
         "0",
         "0",
         "4",
         "0",
         "119",
         "231",
         "214",
         "220",
         "217",
         "218",
         "219",
         "220",
         "221",
         "217",
         "224",
         "34",
         "0",
         "3",
         "0",
         "0",
         "0",
         "0",
         "0",
         "0",
         "0",
         "0",
         "0",
         "0",
         "0",
         "0",
         "3",
         "0",
         "113",
         "231",
         "213",
         "222",
         "217",
         "218",
         "219",
         "220",
         "219",
         "219",
         "219",
         "10",
         "0",
         "2",
         "0",
         "0",
         "0",
         "0",
         "0",
         "0",
         "0",
         "0",
         "0",
         "0",
         "0",
         "0",
         "3",
         "0",
         "51",
         "227",
         "215",
         "221",
         "217",
         "217",
         "219",
         "220",
         "218",
         "219",
         "213",
         "0",
         "0",
         "1",
         "0",
         "0",
         "0",
         "0",
         "0",
         "0",
         "0",
         "0",
         "0",
         "0",
         "0",
         "0",
         "2",
         "0",
         "0",
         "216",
         "217",
         "219",
         "218",
         "218",
         "219",
         "219",
         "218",
         "220",
         "246",
         "0",
         "0",
         "2",
         "0",
         "0",
         "0",
         "0",
         "0",
         "0",
         "0",
         "0",
         "0",
         "0",
         "0",
         "0",
         "2",
         "0",
         "0",
         "217",
         "216",
         "216",
         "219",
         "218",
         "219",
         "219",
         "217",
         "222",
         "235",
         "0",
         "0",
         "2",
         "0",
         "0",
         "0",
         "0",
         "0",
         "0",
         "0",
         "0",
         "0",
         "0",
         "0",
         "0",
         "2",
         "0",
         "0",
         "212",
         "216",
         "217",
         "219",
         "218",
         "219",
         "219",
         "216",
         "224",
         "204",
         "0",
         "0",
         "2",
         "0",
         "0",
         "0",
         "0",
         "0",
         "0",
         "0",
         "0",
         "0",
         "0",
         "0",
         "0",
         "4",
         "0",
         "3",
         "217",
         "216",
         "217",
         "219",
         "218",
         "220",
         "220",
         "218",
         "222",
         "209",
         "0",
         "0",
         "2",
         "0",
         "0",
         "0",
         "0",
         "0",
         "0",
         "0",
         "0",
         "0",
         "0",
         "0",
         "0",
         "3",
         "0",
         "4",
         "214",
         "211",
         "213",
         "213",
         "215",
         "213",
         "211",
         "214",
         "220",
         "200",
         "0",
         "0",
         "1",
         "0",
         "0",
         "0",
         "0",
         "0",
         "0",
         "0",
         "0",
         "0",
         "0",
         "0",
         "0",
         "3",
         "0",
         "0",
         "214",
         "232",
         "229",
         "249",
         "245",
         "248",
         "252",
         "230",
         "237",
         "229",
         "0",
         "0",
         "1",
         "0",
         "0",
         "0",
         "0",
         "0",
         "0",
         "0",
         "0",
         "0",
         "0",
         "0",
         "0",
         "0",
         "0",
         "0",
         "68",
         "116",
         "112",
         "136",
         "147",
         "144",
         "121",
         "102",
         "63",
         "0",
         "0",
         "0",
         "0",
         "0",
         "0",
         "0",
         "0",
         "0",
         "0"
        ]
       ],
       "shape": {
        "columns": 785,
        "rows": 5
       }
      },
      "text/html": [
       "<div>\n",
       "<style scoped>\n",
       "    .dataframe tbody tr th:only-of-type {\n",
       "        vertical-align: middle;\n",
       "    }\n",
       "\n",
       "    .dataframe tbody tr th {\n",
       "        vertical-align: top;\n",
       "    }\n",
       "\n",
       "    .dataframe thead th {\n",
       "        text-align: right;\n",
       "    }\n",
       "</style>\n",
       "<table border=\"1\" class=\"dataframe\">\n",
       "  <thead>\n",
       "    <tr style=\"text-align: right;\">\n",
       "      <th></th>\n",
       "      <th>label</th>\n",
       "      <th>pixel1</th>\n",
       "      <th>pixel2</th>\n",
       "      <th>pixel3</th>\n",
       "      <th>pixel4</th>\n",
       "      <th>pixel5</th>\n",
       "      <th>pixel6</th>\n",
       "      <th>pixel7</th>\n",
       "      <th>pixel8</th>\n",
       "      <th>pixel9</th>\n",
       "      <th>...</th>\n",
       "      <th>pixel775</th>\n",
       "      <th>pixel776</th>\n",
       "      <th>pixel777</th>\n",
       "      <th>pixel778</th>\n",
       "      <th>pixel779</th>\n",
       "      <th>pixel780</th>\n",
       "      <th>pixel781</th>\n",
       "      <th>pixel782</th>\n",
       "      <th>pixel783</th>\n",
       "      <th>pixel784</th>\n",
       "    </tr>\n",
       "  </thead>\n",
       "  <tbody>\n",
       "    <tr>\n",
       "      <th>0</th>\n",
       "      <td>2</td>\n",
       "      <td>0</td>\n",
       "      <td>0</td>\n",
       "      <td>0</td>\n",
       "      <td>0</td>\n",
       "      <td>0</td>\n",
       "      <td>0</td>\n",
       "      <td>0</td>\n",
       "      <td>0</td>\n",
       "      <td>0</td>\n",
       "      <td>...</td>\n",
       "      <td>0</td>\n",
       "      <td>0</td>\n",
       "      <td>0</td>\n",
       "      <td>0</td>\n",
       "      <td>0</td>\n",
       "      <td>0</td>\n",
       "      <td>0</td>\n",
       "      <td>0</td>\n",
       "      <td>0</td>\n",
       "      <td>0</td>\n",
       "    </tr>\n",
       "    <tr>\n",
       "      <th>1</th>\n",
       "      <td>9</td>\n",
       "      <td>0</td>\n",
       "      <td>0</td>\n",
       "      <td>0</td>\n",
       "      <td>0</td>\n",
       "      <td>0</td>\n",
       "      <td>0</td>\n",
       "      <td>0</td>\n",
       "      <td>0</td>\n",
       "      <td>0</td>\n",
       "      <td>...</td>\n",
       "      <td>0</td>\n",
       "      <td>0</td>\n",
       "      <td>0</td>\n",
       "      <td>0</td>\n",
       "      <td>0</td>\n",
       "      <td>0</td>\n",
       "      <td>0</td>\n",
       "      <td>0</td>\n",
       "      <td>0</td>\n",
       "      <td>0</td>\n",
       "    </tr>\n",
       "    <tr>\n",
       "      <th>2</th>\n",
       "      <td>6</td>\n",
       "      <td>0</td>\n",
       "      <td>0</td>\n",
       "      <td>0</td>\n",
       "      <td>0</td>\n",
       "      <td>0</td>\n",
       "      <td>0</td>\n",
       "      <td>0</td>\n",
       "      <td>5</td>\n",
       "      <td>0</td>\n",
       "      <td>...</td>\n",
       "      <td>0</td>\n",
       "      <td>0</td>\n",
       "      <td>0</td>\n",
       "      <td>30</td>\n",
       "      <td>43</td>\n",
       "      <td>0</td>\n",
       "      <td>0</td>\n",
       "      <td>0</td>\n",
       "      <td>0</td>\n",
       "      <td>0</td>\n",
       "    </tr>\n",
       "    <tr>\n",
       "      <th>3</th>\n",
       "      <td>0</td>\n",
       "      <td>0</td>\n",
       "      <td>0</td>\n",
       "      <td>0</td>\n",
       "      <td>1</td>\n",
       "      <td>2</td>\n",
       "      <td>0</td>\n",
       "      <td>0</td>\n",
       "      <td>0</td>\n",
       "      <td>0</td>\n",
       "      <td>...</td>\n",
       "      <td>3</td>\n",
       "      <td>0</td>\n",
       "      <td>0</td>\n",
       "      <td>0</td>\n",
       "      <td>0</td>\n",
       "      <td>1</td>\n",
       "      <td>0</td>\n",
       "      <td>0</td>\n",
       "      <td>0</td>\n",
       "      <td>0</td>\n",
       "    </tr>\n",
       "    <tr>\n",
       "      <th>4</th>\n",
       "      <td>3</td>\n",
       "      <td>0</td>\n",
       "      <td>0</td>\n",
       "      <td>0</td>\n",
       "      <td>0</td>\n",
       "      <td>0</td>\n",
       "      <td>0</td>\n",
       "      <td>0</td>\n",
       "      <td>0</td>\n",
       "      <td>0</td>\n",
       "      <td>...</td>\n",
       "      <td>0</td>\n",
       "      <td>0</td>\n",
       "      <td>0</td>\n",
       "      <td>0</td>\n",
       "      <td>0</td>\n",
       "      <td>0</td>\n",
       "      <td>0</td>\n",
       "      <td>0</td>\n",
       "      <td>0</td>\n",
       "      <td>0</td>\n",
       "    </tr>\n",
       "  </tbody>\n",
       "</table>\n",
       "<p>5 rows × 785 columns</p>\n",
       "</div>"
      ],
      "text/plain": [
       "   label  pixel1  pixel2  pixel3  pixel4  pixel5  pixel6  pixel7  pixel8  \\\n",
       "0      2       0       0       0       0       0       0       0       0   \n",
       "1      9       0       0       0       0       0       0       0       0   \n",
       "2      6       0       0       0       0       0       0       0       5   \n",
       "3      0       0       0       0       1       2       0       0       0   \n",
       "4      3       0       0       0       0       0       0       0       0   \n",
       "\n",
       "   pixel9  ...  pixel775  pixel776  pixel777  pixel778  pixel779  pixel780  \\\n",
       "0       0  ...         0         0         0         0         0         0   \n",
       "1       0  ...         0         0         0         0         0         0   \n",
       "2       0  ...         0         0         0        30        43         0   \n",
       "3       0  ...         3         0         0         0         0         1   \n",
       "4       0  ...         0         0         0         0         0         0   \n",
       "\n",
       "   pixel781  pixel782  pixel783  pixel784  \n",
       "0         0         0         0         0  \n",
       "1         0         0         0         0  \n",
       "2         0         0         0         0  \n",
       "3         0         0         0         0  \n",
       "4         0         0         0         0  \n",
       "\n",
       "[5 rows x 785 columns]"
      ]
     },
     "execution_count": 7,
     "metadata": {},
     "output_type": "execute_result"
    }
   ],
   "source": [
    "df=pd.read_csv('./data/fashion-mnist_train.csv')\n",
    "df.head(5)"
   ]
  },
  {
   "cell_type": "code",
   "execution_count": 8,
   "id": "d89c1acf",
   "metadata": {},
   "outputs": [],
   "source": [
    "X=df.iloc[:,1:].values\n",
    "Y=df.iloc[:,:1].values\n",
    "X_train,X_test,Y_train,Y_test=train_test_split(X,Y,test_size=0.1,random_state=42,stratify=Y)"
   ]
  },
  {
   "cell_type": "code",
   "execution_count": 9,
   "id": "a74ed899",
   "metadata": {},
   "outputs": [
    {
     "data": {
      "image/png": "[encoded data removed]",
      "text/plain": [
       "<Figure size 1000x1000 with 9 Axes>"
      ]
     },
     "metadata": {},
     "output_type": "display_data"
    }
   ],
   "source": [
    "# Create a 4x4 grid of images\n",
    "fig, axes = plt.subplots(3, 3, figsize=(10, 10))\n",
    "fig.suptitle(\"First 9 Images\", fontsize=16)\n",
    "\n",
    "# Plot the first 16 images from the dataset\n",
    "for i, ax in enumerate(axes.flat):\n",
    "    img = df.iloc[i, 1:].values.reshape(28, 28)  # Reshape to 28x28\n",
    "    ax.imshow(img)  # Display in grayscale\n",
    "    ax.axis('off')  # Remove axis for a cleaner look\n",
    "    ax.set_title(f\"Label: {df.iloc[i, 0]}\")  # Show the label\n",
    "\n",
    "plt.tight_layout(rect=[0, 0, 1, 0.96])  # Adjust layout to fit the title\n",
    "plt.show()"
   ]
  },
  {
   "cell_type": "code",
   "execution_count": 10,
   "id": "e03a6e9c",
   "metadata": {},
   "outputs": [],
   "source": [
    "#Scaling the features\n",
    "X_train=X_train/255.0\n",
    "X_test=X_test/255.0"
   ]
  },
  {
   "cell_type": "code",
   "execution_count": 11,
   "id": "8b920c94",
   "metadata": {},
   "outputs": [],
   "source": [
    "class CustomDataset(Dataset):\n",
    "    #constructor\n",
    "    def __init__(self,features,labels):\n",
    "        self.features=torch.tensor(features,dtype=torch.float32)\n",
    "        self.labels=torch.tensor(labels,dtype=torch.long).squeeze()  \n",
    "    # Len\n",
    "    def __len__(self):\n",
    "        return len(self.features)\n",
    "    # getitem\n",
    "    def __getitem__(self, index):\n",
    "        return self.features[index],self.labels[index]"
   ]
  },
  {
   "cell_type": "code",
   "execution_count": 12,
   "id": "eaa29262",
   "metadata": {},
   "outputs": [],
   "source": [
    "#create train_dataset object\n",
    "train_dataset=CustomDataset(X_train,Y_train)"
   ]
  },
  {
   "cell_type": "code",
   "execution_count": 13,
   "id": "be753e41",
   "metadata": {},
   "outputs": [
    {
     "data": {
      "text/plain": [
       "(tensor([0.0000, 0.0000, 0.0000, 0.0000, 0.0000, 0.0000, 0.0000, 0.0000, 0.0000,\n",
       "         0.0000, 0.0000, 0.0000, 0.0000, 0.0000, 0.0000, 0.0000, 0.0000, 0.0000,\n",
       "         0.0000, 0.0000, 0.0000, 0.0000, 0.0000, 0.0000, 0.0000, 0.0000, 0.0000,\n",
       "         0.0000, 0.0000, 0.0000, 0.0000, 0.0000, 0.0000, 0.0000, 0.0000, 0.0000,\n",
       "         0.0000, 0.0000, 0.0000, 0.0000, 0.0000, 0.0000, 0.0000, 0.0000, 0.0000,\n",
       "         0.0000, 0.0000, 0.0000, 0.0000, 0.0000, 0.0000, 0.0000, 0.0000, 0.0000,\n",
       "         0.0000, 0.0000, 0.0000, 0.0000, 0.0000, 0.0000, 0.0000, 0.0000, 0.0000,\n",
       "         0.0000, 0.0000, 0.0000, 0.0000, 0.0000, 0.0000, 0.0000, 0.0000, 0.0000,\n",
       "         0.0000, 0.0000, 0.0000, 0.0000, 0.0000, 0.0000, 0.0000, 0.0000, 0.0000,\n",
       "         0.0000, 0.0000, 0.0000, 0.0000, 0.0000, 0.0000, 0.0000, 0.0000, 0.0000,\n",
       "         0.0000, 0.0000, 0.0000, 0.0000, 0.0000, 0.0000, 0.0000, 0.0000, 0.0000,\n",
       "         0.0000, 0.0000, 0.0000, 0.0000, 0.0000, 0.0000, 0.0000, 0.0000, 0.0000,\n",
       "         0.0000, 0.0000, 0.0000, 0.0000, 0.0000, 0.1490, 0.1725, 0.7647, 0.5098,\n",
       "         0.0588, 0.2235, 0.0941, 0.0275, 0.0000, 0.0039, 0.0039, 0.0039, 0.0000,\n",
       "         0.0000, 0.0000, 0.0000, 0.0000, 0.0000, 0.0000, 0.0000, 0.0000, 0.0000,\n",
       "         0.0941, 0.0549, 0.0000, 0.0000, 0.0000, 0.0000, 0.7176, 0.7373, 0.6902,\n",
       "         0.7961, 0.8863, 0.8941, 0.8863, 0.8706, 0.8588, 0.8627, 0.8627, 0.8627,\n",
       "         0.8549, 0.8549, 0.8549, 0.8588, 0.8471, 0.8275, 0.8275, 0.8275, 0.8314,\n",
       "         0.8118, 0.8784, 0.8353, 0.7804, 0.7216, 0.3333, 0.1137, 0.5373, 0.7020,\n",
       "         0.6510, 0.7765, 0.9490, 0.8627, 0.8784, 0.8784, 0.8902, 0.8902, 0.8902,\n",
       "         0.8902, 0.9020, 0.9020, 0.9020, 0.8980, 0.9059, 0.9137, 0.9137, 0.9137,\n",
       "         0.9137, 0.9176, 0.8863, 0.8863, 0.9176, 1.0000, 0.4824, 0.0000, 0.7412,\n",
       "         0.5373, 0.4941, 0.9451, 0.8706, 0.8549, 0.8118, 0.8510, 0.8745, 0.8745,\n",
       "         0.8706, 0.8706, 0.8745, 0.8824, 0.8863, 0.8824, 0.8824, 0.8824, 0.8824,\n",
       "         0.8863, 0.8863, 0.8902, 0.8863, 0.9529, 0.6588, 0.6000, 0.5412, 0.0549,\n",
       "         0.7686, 0.8980, 0.6039, 0.8784, 0.9137, 0.8471, 0.8471, 0.8627, 0.8863,\n",
       "         0.8902, 0.8784, 0.8745, 0.8667, 0.8863, 0.9020, 0.8941, 0.8863, 0.8824,\n",
       "         0.8902, 0.8980, 0.9020, 0.9176, 0.9059, 0.9137, 0.8588, 0.9765, 0.5333,\n",
       "         0.1098, 0.7529, 0.8000, 0.5490, 0.8980, 0.9098, 0.8627, 0.8667, 0.8627,\n",
       "         0.8627, 0.8745, 0.8706, 0.8745, 0.8824, 0.8902, 0.8980, 0.8941, 0.8902,\n",
       "         0.8863, 0.8902, 0.8980, 0.8980, 0.9020, 0.8824, 0.9294, 0.8275, 1.0000,\n",
       "         0.5294, 0.0745, 0.8353, 0.5490, 0.4863, 0.9490, 0.9059, 0.8706, 0.8784,\n",
       "         0.8549, 0.8549, 0.8667, 0.8706, 0.8863, 0.8941, 0.8941, 0.8980, 0.8980,\n",
       "         0.8980, 0.8980, 0.8980, 0.8980, 0.9020, 0.8824, 0.8824, 0.9922, 0.5255,\n",
       "         0.4745, 0.6118, 0.0863, 0.8196, 1.0000, 0.6314, 0.9098, 0.9137, 0.8706,\n",
       "         0.8667, 0.8431, 0.8510, 0.8588, 0.8745, 0.9020, 0.9059, 0.8980, 0.8980,\n",
       "         0.8980, 0.8980, 0.8980, 0.8980, 0.8980, 0.8980, 0.9059, 0.9137, 0.8627,\n",
       "         1.0000, 1.0000, 0.5373, 0.1451, 0.8510, 0.3922, 0.5137, 0.9490, 0.9020,\n",
       "         0.8863, 0.8667, 0.8588, 0.8667, 0.8706, 0.8824, 0.8902, 0.8980, 0.8980,\n",
       "         0.8980, 0.9020, 0.9020, 0.8941, 0.8980, 0.8980, 0.8980, 0.8941, 0.8902,\n",
       "         0.9529, 0.6235, 0.4627, 0.6510, 0.1412, 0.8431, 0.6941, 0.5569, 0.9451,\n",
       "         0.8980, 0.8902, 0.8784, 0.8784, 0.8863, 0.8902, 0.8941, 0.8980, 0.8980,\n",
       "         0.8980, 0.9020, 0.9020, 0.9020, 0.9020, 0.9020, 0.9020, 0.9020, 0.8980,\n",
       "         0.8941, 0.9255, 0.7686, 0.8118, 0.6275, 0.1176, 0.8314, 1.0000, 0.6118,\n",
       "         0.9098, 0.9098, 0.8941, 0.8902, 0.8902, 0.8863, 0.8902, 0.8980, 0.8980,\n",
       "         0.8980, 0.8980, 0.9020, 0.9020, 0.9020, 0.9020, 0.9020, 0.9020, 0.8980,\n",
       "         0.9059, 0.9176, 0.8784, 0.9451, 1.0000, 0.6118, 0.1725, 0.9490, 0.1569,\n",
       "         0.5725, 0.9686, 0.8941, 0.8863, 0.8863, 0.8863, 0.8824, 0.8863, 0.8902,\n",
       "         0.8863, 0.8980, 0.8980, 0.9020, 0.9020, 0.9020, 0.9059, 0.9059, 0.9059,\n",
       "         0.9059, 0.9137, 0.8784, 0.9647, 0.5882, 0.2824, 0.6824, 0.1255, 1.0000,\n",
       "         1.0000, 0.5176, 0.9529, 0.9059, 0.8784, 0.8745, 0.8863, 0.8902, 0.8902,\n",
       "         0.8902, 0.8902, 0.8980, 0.8980, 0.9020, 0.9020, 0.9020, 0.9098, 0.9059,\n",
       "         0.9059, 0.9098, 0.9020, 0.9176, 0.8941, 0.9608, 1.0000, 0.6157, 0.2196,\n",
       "         0.8667, 0.7216, 0.6118, 0.9647, 0.9020, 0.8706, 0.8824, 0.8824, 0.8863,\n",
       "         0.8863, 0.8863, 0.8745, 0.8902, 0.8941, 0.8941, 0.8980, 0.8980, 0.8980,\n",
       "         0.9020, 0.9020, 0.9098, 0.8941, 0.8941, 0.9490, 0.7804, 0.6784, 0.6824,\n",
       "         0.2510, 1.0000, 0.2824, 0.5765, 0.9686, 0.9020, 0.8706, 0.8745, 0.8824,\n",
       "         0.8902, 0.8863, 0.8902, 0.8902, 0.8902, 0.8941, 0.8941, 0.8980, 0.8980,\n",
       "         0.8902, 0.8941, 0.8980, 0.9020, 0.9059, 0.8784, 0.9922, 0.6980, 0.4667,\n",
       "         0.7137, 0.2510, 0.9529, 1.0000, 0.5412, 0.9804, 0.9059, 0.8745, 0.8824,\n",
       "         0.8941, 0.8941, 0.8863, 0.8941, 0.9059, 0.8902, 0.8863, 0.8902, 0.8941,\n",
       "         0.8902, 0.8863, 0.8902, 0.8941, 0.8902, 0.9098, 0.9020, 0.8941, 1.0000,\n",
       "         1.0000, 0.6706, 0.3686, 0.8824, 0.3529, 0.5961, 0.9725, 0.9020, 0.8706,\n",
       "         0.8863, 0.8902, 0.8863, 0.8745, 0.8824, 0.9059, 0.8941, 0.8941, 0.8941,\n",
       "         0.8980, 0.9020, 0.8980, 0.9020, 0.8980, 0.9020, 0.9098, 0.8784, 1.0000,\n",
       "         0.6314, 0.3765, 0.7294, 0.4078, 0.9020, 0.5608, 0.5725, 0.9569, 0.8471,\n",
       "         0.8510, 0.8235, 0.8667, 0.8431, 0.8314, 0.8588, 0.8549, 0.8627, 0.8745,\n",
       "         0.8784, 0.8824, 0.8824, 0.8863, 0.8941, 0.9059, 0.9020, 0.8863, 0.9216,\n",
       "         0.9098, 0.8588, 0.8392, 0.7490, 0.4275, 0.9412, 0.8980, 0.5647, 1.0000,\n",
       "         0.8706, 0.8588, 0.9529, 0.8745, 0.9020, 0.9412, 0.8549, 0.9098, 0.9098,\n",
       "         0.8588, 0.9098, 0.9020, 0.8745, 0.9020, 0.8667, 0.8784, 0.8902, 0.8784,\n",
       "         0.9059, 0.9098, 0.8902, 1.0000, 0.7529, 0.4627, 0.8000, 0.4039, 0.6824,\n",
       "         0.5255, 0.6510, 0.8980, 0.1529, 0.8510, 0.6667, 0.2039, 1.0000, 0.3333,\n",
       "         0.5059, 0.9647, 0.1059, 0.8314, 0.6078, 0.2039, 1.0000, 0.2078, 0.5765,\n",
       "         0.9373, 0.0353, 0.8431, 0.6431, 0.5373, 0.7725, 0.2392, 0.8902, 0.8353,\n",
       "         0.7804, 0.9686, 0.8627, 1.0000, 0.9098, 1.0000, 1.0000, 0.9608, 1.0000,\n",
       "         0.9961, 1.0000, 1.0000, 0.9804, 1.0000, 1.0000, 1.0000, 1.0000, 1.0000,\n",
       "         1.0000, 1.0000, 1.0000, 0.9216, 0.9294, 1.0000, 0.3961, 0.0000, 0.1922,\n",
       "         0.2745, 0.0863, 0.2039, 0.2392, 0.1490, 0.2275, 0.1961, 0.1569, 0.2000,\n",
       "         0.1490, 0.1804, 0.1804, 0.1020, 0.2157, 0.1137, 0.1255, 0.1451, 0.1333,\n",
       "         0.1490, 0.1529, 0.1373, 0.2353, 0.1882, 0.2471, 0.1843, 0.0000, 0.0000,\n",
       "         0.0000, 0.0000, 0.0000, 0.0000, 0.0000, 0.0000, 0.0000, 0.0000, 0.0000,\n",
       "         0.0000, 0.0000, 0.0000, 0.0000, 0.0000, 0.0000, 0.0000, 0.0000, 0.0000,\n",
       "         0.0000, 0.0000, 0.0000, 0.0000, 0.0000, 0.0000, 0.0000, 0.0000, 0.0000,\n",
       "         0.0000, 0.0000, 0.0000, 0.0000, 0.0000, 0.0000, 0.0000, 0.0000, 0.0000,\n",
       "         0.0000, 0.0000, 0.0000, 0.0000, 0.0000, 0.0000, 0.0000, 0.0000, 0.0000,\n",
       "         0.0000, 0.0000, 0.0000, 0.0000, 0.0000, 0.0000, 0.0000, 0.0000, 0.0000,\n",
       "         0.0000]),\n",
       " tensor(8))"
      ]
     },
     "execution_count": 13,
     "metadata": {},
     "output_type": "execute_result"
    }
   ],
   "source": [
    "train_dataset[0]"
   ]
  },
  {
   "cell_type": "code",
   "execution_count": 14,
   "id": "a662d67e",
   "metadata": {},
   "outputs": [],
   "source": [
    "#Create test dataset object\n",
    "test_dataset=CustomDataset(X_test,Y_test)"
   ]
  },
  {
   "cell_type": "code",
   "execution_count": 15,
   "id": "1b665195",
   "metadata": {},
   "outputs": [],
   "source": [
    "#create train and test loader\n",
    "train_loader=DataLoader(train_dataset,batch_size=128,shuffle=True,pin_memory=True) #adding pin_memory for faster training (data transfer from CPU to GPU)\n",
    "test_loader=DataLoader(test_dataset,batch_size=128,shuffle=False,pin_memory=True) #adding pin_memory for faster execution"
   ]
  },
  {
   "cell_type": "code",
   "execution_count": 16,
   "id": "d8a76adf",
   "metadata": {},
   "outputs": [],
   "source": [
    "#define NN Architecture\n",
    "class SimpleNN(nn.Module):\n",
    "    def __init__(self,num_features):\n",
    "        super().__init__()\n",
    "        self.model=nn.Sequential(\n",
    "            nn.Linear(num_features,128),\n",
    "            nn.ReLU(),\n",
    "            nn.Linear(128,64),\n",
    "            nn.ReLU(),\n",
    "            nn.Linear(64,10)\n",
    "        )\n",
    "    def forward(self,X):\n",
    "        return self.model(X)"
   ]
  },
  {
   "cell_type": "code",
   "execution_count": 17,
   "id": "7789c138",
   "metadata": {},
   "outputs": [],
   "source": [
    "# Set learning rate and epochs\n",
    "epochs=100\n",
    "learning_rate=0.1"
   ]
  },
  {
   "cell_type": "code",
   "execution_count": 18,
   "id": "b807183a",
   "metadata": {},
   "outputs": [],
   "source": [
    "#instantiate the model\n",
    "model=SimpleNN(X_train.shape[1])\n",
    "model=model.to(device=device) #Move model to GPU\n",
    "\n",
    "#loss function\n",
    "criterion=nn.CrossEntropyLoss()\n",
    "\n",
    "#optimizer\n",
    "optimizer=optim.SGD(model.parameters(),lr=learning_rate)"
   ]
  },
  {
   "cell_type": "code",
   "execution_count": 19,
   "id": "2f3dda74",
   "metadata": {},
   "outputs": [
    {
     "data": {
      "text/plain": [
       "422"
      ]
     },
     "execution_count": 19,
     "metadata": {},
     "output_type": "execute_result"
    }
   ],
   "source": [
    "#train load dataset\n",
    "len(train_loader)"
   ]
  },
  {
   "cell_type": "code",
   "execution_count": 20,
   "id": "ed46cf35",
   "metadata": {},
   "outputs": [
    {
     "name": "stdout",
     "output_type": "stream",
     "text": [
      "Epoch:1 , Loss: 0.8599260950116749\n",
      "Epoch:2 , Loss: 0.5135498140095535\n",
      "Epoch:3 , Loss: 0.4525119901692133\n",
      "Epoch:4 , Loss: 0.4159590970212814\n",
      "Epoch:5 , Loss: 0.39337603366487967\n",
      "Epoch:6 , Loss: 0.37389729189646753\n",
      "Epoch:7 , Loss: 0.36014240644695633\n",
      "Epoch:8 , Loss: 0.3451564194043101\n",
      "Epoch:9 , Loss: 0.3340883495471489\n",
      "Epoch:10 , Loss: 0.32301317579090877\n",
      "Epoch:11 , Loss: 0.31572083496793185\n",
      "Epoch:12 , Loss: 0.306931299444341\n",
      "Epoch:13 , Loss: 0.29943283530773146\n",
      "Epoch:14 , Loss: 0.2906946019750636\n",
      "Epoch:15 , Loss: 0.28323053300239465\n",
      "Epoch:16 , Loss: 0.28040854060819365\n",
      "Epoch:17 , Loss: 0.27394404008066486\n",
      "Epoch:18 , Loss: 0.26824481534590655\n",
      "Epoch:19 , Loss: 0.2627093029248206\n",
      "Epoch:20 , Loss: 0.2572528900869932\n",
      "Epoch:21 , Loss: 0.25188970922435067\n",
      "Epoch:22 , Loss: 0.24826556264082966\n",
      "Epoch:23 , Loss: 0.24245129538020252\n",
      "Epoch:24 , Loss: 0.23766636864339571\n",
      "Epoch:25 , Loss: 0.2335687371156227\n",
      "Epoch:26 , Loss: 0.23098302441891902\n",
      "Epoch:27 , Loss: 0.22704109037515677\n",
      "Epoch:28 , Loss: 0.22230466608823193\n",
      "Epoch:29 , Loss: 0.2174750785762665\n",
      "Epoch:30 , Loss: 0.2145054937821429\n",
      "Epoch:31 , Loss: 0.21090452473663607\n",
      "Epoch:32 , Loss: 0.20667966976055602\n",
      "Epoch:33 , Loss: 0.20465874438884699\n",
      "Epoch:34 , Loss: 0.20213948382656155\n",
      "Epoch:35 , Loss: 0.19847514776963193\n",
      "Epoch:36 , Loss: 0.19483860322578822\n",
      "Epoch:37 , Loss: 0.19294736996928663\n",
      "Epoch:38 , Loss: 0.1899600110736221\n",
      "Epoch:39 , Loss: 0.188181319075385\n",
      "Epoch:40 , Loss: 0.18788469877641348\n",
      "Epoch:41 , Loss: 0.18122980009181805\n",
      "Epoch:42 , Loss: 0.17978752921754715\n",
      "Epoch:43 , Loss: 0.17659788243296023\n",
      "Epoch:44 , Loss: 0.17279675651465265\n",
      "Epoch:45 , Loss: 0.16943828803950575\n",
      "Epoch:46 , Loss: 0.16983157931275278\n",
      "Epoch:47 , Loss: 0.16675988685392656\n",
      "Epoch:48 , Loss: 0.1646274843769616\n",
      "Epoch:49 , Loss: 0.1639070910406056\n",
      "Epoch:50 , Loss: 0.15826864052405007\n",
      "Epoch:51 , Loss: 0.15807144712850946\n",
      "Epoch:52 , Loss: 0.15260866311736299\n",
      "Epoch:53 , Loss: 0.15442746812345293\n",
      "Epoch:54 , Loss: 0.15175279116884793\n",
      "Epoch:55 , Loss: 0.14665122123620522\n",
      "Epoch:56 , Loss: 0.14805368682749181\n",
      "Epoch:57 , Loss: 0.14245444604182414\n",
      "Epoch:58 , Loss: 0.1438184197533046\n",
      "Epoch:59 , Loss: 0.14024986608298187\n",
      "Epoch:60 , Loss: 0.13742070811937487\n",
      "Epoch:61 , Loss: 0.13679773465540454\n",
      "Epoch:62 , Loss: 0.1338900149009804\n",
      "Epoch:63 , Loss: 0.13250398544056155\n",
      "Epoch:64 , Loss: 0.13040723940313428\n",
      "Epoch:65 , Loss: 0.1302225182265467\n",
      "Epoch:66 , Loss: 0.12827096307447172\n",
      "Epoch:67 , Loss: 0.12616819894532738\n",
      "Epoch:68 , Loss: 0.12127138665431483\n",
      "Epoch:69 , Loss: 0.12168190431432419\n",
      "Epoch:70 , Loss: 0.1172143369118608\n",
      "Epoch:71 , Loss: 0.11967565873593657\n",
      "Epoch:72 , Loss: 0.11769846830322844\n",
      "Epoch:73 , Loss: 0.11389085716210412\n",
      "Epoch:74 , Loss: 0.11282465672252867\n",
      "Epoch:75 , Loss: 0.1122488512026402\n",
      "Epoch:76 , Loss: 0.10975333696928634\n",
      "Epoch:77 , Loss: 0.10645069728353859\n",
      "Epoch:78 , Loss: 0.10736355535085733\n",
      "Epoch:79 , Loss: 0.10468450064166179\n",
      "Epoch:80 , Loss: 0.10180807690537795\n",
      "Epoch:81 , Loss: 0.10213577026121706\n",
      "Epoch:82 , Loss: 0.10244307806494676\n",
      "Epoch:83 , Loss: 0.09698894805764842\n",
      "Epoch:84 , Loss: 0.09655708515513424\n",
      "Epoch:85 , Loss: 0.09469247734288892\n",
      "Epoch:86 , Loss: 0.09471104233591901\n",
      "Epoch:87 , Loss: 0.09313927327781492\n",
      "Epoch:88 , Loss: 0.09102432138476327\n",
      "Epoch:89 , Loss: 0.08904581564650717\n",
      "Epoch:90 , Loss: 0.08965330227979976\n",
      "Epoch:91 , Loss: 0.091383532929936\n",
      "Epoch:92 , Loss: 0.0852956025909756\n",
      "Epoch:93 , Loss: 0.08618552652209714\n",
      "Epoch:94 , Loss: 0.08497208511783472\n",
      "Epoch:95 , Loss: 0.08559919136104073\n",
      "Epoch:96 , Loss: 0.08219184143406943\n",
      "Epoch:97 , Loss: 0.08136877607801372\n",
      "Epoch:98 , Loss: 0.08079783687306241\n",
      "Epoch:99 , Loss: 0.08121189209345675\n",
      "Epoch:100 , Loss: 0.07737673014199352\n"
     ]
    }
   ],
   "source": [
    "#training loop\n",
    "for epoch in range(epochs):\n",
    "    total_loss=0\n",
    "    for batch_features,batch_labels in train_loader:\n",
    "        batch_features,batch_labels=batch_features.to(device),batch_labels.to(device) # Move the batch data also to GPU in training loop\n",
    "        #forward pass\n",
    "        outputs=model(batch_features)\n",
    "        #loss calculation\n",
    "        loss=criterion(outputs,batch_labels)\n",
    "        #backpropagation\n",
    "        optimizer.zero_grad()\n",
    "        loss.backward()\n",
    "        #weights update\n",
    "        optimizer.step()\n",
    "        \n",
    "        total_loss+=loss.item()\n",
    "    avg_loss=total_loss/len(train_loader)\n",
    "    print(f\"Epoch:{epoch+1} , Loss: {avg_loss}\")\n",
    "        "
   ]
  },
  {
   "cell_type": "markdown",
   "id": "d6bc3cbc",
   "metadata": {},
   "source": [
    "### Evaluations:"
   ]
  },
  {
   "cell_type": "code",
   "execution_count": 21,
   "id": "7fb2c272",
   "metadata": {},
   "outputs": [
    {
     "data": {
      "text/plain": [
       "SimpleNN(\n",
       "  (model): Sequential(\n",
       "    (0): Linear(in_features=784, out_features=128, bias=True)\n",
       "    (1): ReLU()\n",
       "    (2): Linear(in_features=128, out_features=64, bias=True)\n",
       "    (3): ReLU()\n",
       "    (4): Linear(in_features=64, out_features=10, bias=True)\n",
       "  )\n",
       ")"
      ]
     },
     "execution_count": 21,
     "metadata": {},
     "output_type": "execute_result"
    }
   ],
   "source": [
    "#set model eval mode on:\n",
    "model.eval()"
   ]
  },
  {
   "cell_type": "code",
   "execution_count": 22,
   "id": "987e5d49",
   "metadata": {},
   "outputs": [
    {
     "name": "stdout",
     "output_type": "stream",
     "text": [
      "0.8858333333333334\n"
     ]
    }
   ],
   "source": [
    "# evaluation code\n",
    "total=0\n",
    "correct=0\n",
    "with torch.no_grad():\n",
    "    for batch_features,batch_labels in test_loader:\n",
    "        batch_features,batch_labels=batch_features.to(device),batch_labels.to(device) # Move the batch data also to GPU in evaluation code\n",
    "        outputs=model(batch_features)\n",
    "        _,predictions=torch.max(outputs,1)\n",
    "        total=total+len(batch_labels)\n",
    "        correct=correct+(predictions==batch_labels).sum().item()\n",
    "print(correct/total)"
   ]
  },
  {
   "cell_type": "markdown",
   "id": "19fde5b9",
   "metadata": {},
   "source": [
    "#### Slight improvement of approximately 2% test accuracy can be observed above"
   ]
  },
  {
   "cell_type": "code",
   "execution_count": 23,
   "id": "f809cc99",
   "metadata": {},
   "outputs": [
    {
     "name": "stdout",
     "output_type": "stream",
     "text": [
      "0.9737962962962963\n"
     ]
    }
   ],
   "source": [
    "# evaluation code on training set\n",
    "total=0\n",
    "correct=0\n",
    "with torch.no_grad():\n",
    "    for batch_features,batch_labels in train_loader:\n",
    "        batch_features,batch_labels=batch_features.to(device),batch_labels.to(device) # Move the batch data also to GPU in evaluation code\n",
    "        outputs=model(batch_features)\n",
    "        _,predictions=torch.max(outputs,1)\n",
    "        total=total+len(batch_labels)\n",
    "        correct=correct+(predictions==batch_labels).sum().item()\n",
    "print(correct/total)"
   ]
  },
  {
   "cell_type": "markdown",
   "id": "efc53ec8",
   "metadata": {},
   "source": [
    "#### We observe above the accuracy score for train dataset and the difference of that with test dataset is approximately of 10% which indicates the issue :\n",
    "`Overfitting`\n",
    "\n",
    "* Now we'll discuss about multiple optimization techniques in order to tackle this issue of overfitting."
   ]
  },
  {
   "cell_type": "markdown",
   "id": "931ce51f",
   "metadata": {},
   "source": []
  }
 ],
 "metadata": {
  "kernelspec": {
   "display_name": "Python 3",
   "language": "python",
   "name": "python3"
  },
  "language_info": {
   "codemirror_mode": {
    "name": "ipython",
    "version": 3
   },
   "file_extension": ".py",
   "mimetype": "text/x-python",
   "name": "python",
   "nbconvert_exporter": "python",
   "pygments_lexer": "ipython3",
   "version": "3.10.18"
  }
 },
 "nbformat": 4,
 "nbformat_minor": 5
}
