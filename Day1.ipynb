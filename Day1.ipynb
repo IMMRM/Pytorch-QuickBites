{
 "cells": [
  {
   "cell_type": "markdown",
   "id": "de97849b",
   "metadata": {},
   "source": [
    "# Day 1: PyTorch Basics – Tensors and Autograd"
   ]
  },
  {
   "cell_type": "markdown",
   "id": "04a92131",
   "metadata": {},
   "source": [
    "### Refresh Python Essentials\n",
    "\n",
    "##### PyTorch relies heavily on:\n",
    "\n",
    "* Classes & OOP\n",
    "\n",
    "* __init__() constructor\n",
    "\n",
    "* Dot notation (e.g., self.fc = nn.Linear(...))\n",
    "\n",
    "* List comprehensions\n",
    "\n",
    "* Lambda functions"
   ]
  },
  {
   "cell_type": "code",
   "execution_count": 2,
   "id": "22edc41c",
   "metadata": {},
   "outputs": [
    {
     "name": "stdout",
     "output_type": "stream",
     "text": [
      "Cow makes a sound!\n"
     ]
    }
   ],
   "source": [
    "# Class example\n",
    "class Animal:\n",
    "    def __init__(self,name):\n",
    "        self.name=name\n",
    "    def speak(self):\n",
    "        print(f\"{self.name} makes a sound!\")\n",
    "    \n",
    "cat=Animal(\"Cow\")\n",
    "cat.speak()"
   ]
  },
  {
   "cell_type": "markdown",
   "id": "409f8d5d",
   "metadata": {},
   "source": [
    "### Understand NumPy and Matplotlib Basics"
   ]
  },
  {
   "cell_type": "markdown",
   "id": "236888b0",
   "metadata": {},
   "source": [
    "#### PyTorch tensors are similar to NumPy arrays.\n",
    "\n",
    "##### Key Numpy Concepts:\n",
    "\n",
    "* np.array()\n",
    "\n",
    "* np.dot()\n",
    "\n",
    "* .shape\n",
    "\n",
    "##### Broadcasting\n",
    "\n",
    "##### PyTorch version:\n",
    "\n",
    "* torch.tensor()\n",
    "\n",
    "* torch.matmul()\n",
    "\n",
    "* .shape\n",
    "\n",
    "##### Broadcasting rules are same"
   ]
  },
  {
   "cell_type": "code",
   "execution_count": 3,
   "id": "72de3cb2",
   "metadata": {},
   "outputs": [],
   "source": [
    "#Numpy version\n",
    "import numpy as np\n",
    "\n",
    "arr_1=[1,2,3]\n",
    "arr_2=[3,2,1]\n",
    "ar1=np.array(arr_1)\n",
    "ar2=np.array(arr_2)"
   ]
  },
  {
   "cell_type": "code",
   "execution_count": 4,
   "id": "7485d687",
   "metadata": {},
   "outputs": [
    {
     "name": "stdout",
     "output_type": "stream",
     "text": [
      "This is matrix multiplication: 10\n",
      "This is elementwise multiplication: [3 4 3]\n",
      "This is shape of ar1: (3,)\n"
     ]
    }
   ],
   "source": [
    "print(\"This is matrix multiplication:\",np.dot(ar1,ar2)) #matrix multiplication\n",
    "print(\"This is elementwise multiplication:\",np.multiply(ar1,ar2)) #elementwise multiplication\n",
    "print(\"This is shape of ar1:\",ar1.shape)\n",
    "\n"
   ]
  },
  {
   "cell_type": "code",
   "execution_count": 5,
   "id": "7c38649d",
   "metadata": {},
   "outputs": [],
   "source": [
    "#pytorch version\n",
    "import torch\n",
    "\n",
    "t_ar1=torch.tensor(ar1)\n",
    "t_ar2=torch.tensor(ar2)\n"
   ]
  },
  {
   "cell_type": "code",
   "execution_count": 12,
   "id": "e1760da3",
   "metadata": {},
   "outputs": [
    {
     "name": "stdout",
     "output_type": "stream",
     "text": [
      "This is the dot product: tensor(10)\n",
      "This is the elementwise multiplication: tensor([3, 4, 3])\n",
      "This is the shape of t_ar1: torch.Size([3])\n"
     ]
    }
   ],
   "source": [
    "print(\"This is the dot product:\",torch.dot(t_ar1,t_ar2))\n",
    "print(\"This is the elementwise multiplication:\",torch.multiply(t_ar1,t_ar2))\n",
    "print(\"This is the shape of t_ar1:\",t_ar1.shape)"
   ]
  },
  {
   "cell_type": "markdown",
   "id": "ad9a743f",
   "metadata": {},
   "source": [
    "## Setup GPU Support"
   ]
  },
  {
   "cell_type": "markdown",
   "id": "b2a747aa",
   "metadata": {},
   "source": [
    "##### If you want to train faster using CUDA:"
   ]
  },
  {
   "cell_type": "code",
   "execution_count": 16,
   "id": "93270070",
   "metadata": {},
   "outputs": [
    {
     "name": "stdout",
     "output_type": "stream",
     "text": [
      "True\n",
      "1\n",
      "NVIDIA GeForce GTX 1650\n"
     ]
    }
   ],
   "source": [
    "print(torch.cuda.is_available()) # True if GPU is available\n",
    "print(torch.cuda.device_count()) # Number of GPUs\n",
    "print(torch.cuda.get_device_name(0)) # Name of first GPU"
   ]
  },
  {
   "cell_type": "code",
   "execution_count": 18,
   "id": "9808ad70",
   "metadata": {},
   "outputs": [],
   "source": [
    "### Use this in training later:\n",
    "\n",
    "device=torch.device(\"cuda\" if torch.cuda.is_available() else \"cpu\")\n",
    "#model.to(device)"
   ]
  }
 ],
 "metadata": {
  "kernelspec": {
   "display_name": "Python 3",
   "language": "python",
   "name": "python3"
  },
  "language_info": {
   "codemirror_mode": {
    "name": "ipython",
    "version": 3
   },
   "file_extension": ".py",
   "mimetype": "text/x-python",
   "name": "python",
   "nbconvert_exporter": "python",
   "pygments_lexer": "ipython3",
   "version": "3.10.18"
  }
 },
 "nbformat": 4,
 "nbformat_minor": 5
}
