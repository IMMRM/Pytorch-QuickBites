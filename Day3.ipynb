{
 "cells": [
  {
   "cell_type": "markdown",
   "id": "7403bdfa",
   "metadata": {},
   "source": [
    "# Day 3: Simplifying Neural Networks with `nn.Module` and `optim`"
   ]
  },
  {
   "cell_type": "markdown",
   "id": "bd66f659",
   "metadata": {},
   "source": [
    "<h5>Goal of Day 3:</h5>\n",
    "\n",
    "Understand how PyTorch simplifies model building, training, and optimization using:\n",
    "\n",
    "* `nn.Module` (for defining model)\n",
    "\n",
    "* `nn.Linear`, `nn.ReLU` (layers/activations)\n",
    "\n",
    "* `optim.SGD` / `optim.Adam` (optimizers)\n",
    "\n",
    "* `nn.MSELoss` / `nn.BCELoss` (loss functions)\n",
    "\n",
    "<h4>Quick Recap of Day 2:</h4>\n",
    "In Day 2, we did this manually:\n",
    "<table>\n",
    "<th>\n",
    "Task</th><th>Implementation</th>\n",
    "<tr>\n",
    "<td>Forward Pass</td><td> \n",
    "\n",
    "`y_pred = X * w + b` </td>\n",
    "<tr>\n",
    "<td>Loss</td><td> \n",
    "\n",
    "`loss = ((y_pred - y)**2)`</td>\n",
    "</tr>\n",
    "<tr>\n",
    "<td>Backward</td><td> \n",
    "\n",
    "`loss.backward() `</td>\n",
    "</tr>\n",
    "<tr>\n",
    "<td>Weight Updates</td><td>\n",
    "\n",
    "`w -= lr * w.grad`\n",
    "</td>\n",
    "</tr>\n",
    "<tr>\n",
    "<td>Reset gradients</td><td>\n",
    "\n",
    "` w.grad.zero_() `</td>\n",
    "</tr>\n",
    "</table>\n"
   ]
  },
  {
   "cell_type": "markdown",
   "id": "21a7c829",
   "metadata": {},
   "source": [
    "* PyTorch can do ALL of this for you with just a few lines using `nn` and `optim`."
   ]
  },
  {
   "cell_type": "markdown",
   "id": "d2194e5d",
   "metadata": {},
   "source": [
    "### Step-by-Step: Linear Regression using `nn.Module`"
   ]
  },
  {
   "cell_type": "markdown",
   "id": "a8a3436c",
   "metadata": {},
   "source": [
    "##### Step 1: Import Libraries"
   ]
  },
  {
   "cell_type": "code",
   "execution_count": 2,
   "id": "d4323065",
   "metadata": {},
   "outputs": [],
   "source": [
    "import torch\n",
    "import torch.nn as nn\n",
    "import torch.optim as optim\n",
    "import matplotlib.pyplot as plt\n"
   ]
  },
  {
   "cell_type": "markdown",
   "id": "4a8e34fe",
   "metadata": {},
   "source": [
    "##### Step 2: Create Synthetic Data"
   ]
  },
  {
   "cell_type": "code",
   "execution_count": 3,
   "id": "d6b2beb7",
   "metadata": {},
   "outputs": [],
   "source": [
    "true_w = 2.0\n",
    "true_b = 3.0\n",
    "N = 100\n",
    "\n",
    "X = torch.randn(N, 1)\n",
    "y = true_w * X + true_b + 0.1 * torch.randn(N, 1)"
   ]
  },
  {
   "cell_type": "markdown",
   "id": "cf5a1634",
   "metadata": {},
   "source": [
    "##### Step 3: Define the Model using nn.Module"
   ]
  },
  {
   "cell_type": "code",
   "execution_count": 4,
   "id": "5889b3dc",
   "metadata": {},
   "outputs": [],
   "source": [
    "class LinearRegressionModel(nn.Module):\n",
    "    def __init__(self):\n",
    "        super().__init__()\n",
    "        self.linear=nn.Linear(1,1) #input size=1, output size=1\n",
    "    def forward(self,x):\n",
    "        return self.linear(x)"
   ]
  },
  {
   "cell_type": "markdown",
   "id": "17313028",
   "metadata": {},
   "source": [
    "<b>What this does:</b>\n",
    "\n",
    "* In `__init__`: You define your layers.\n",
    "\n",
    "* In `forward`: You define how data flows (like Day 2's `X*w + b`).\n",
    "\n",
    "* `nn.Linear` internally handles w and b with gradients tracked."
   ]
  },
  {
   "cell_type": "markdown",
   "id": "cf420901",
   "metadata": {},
   "source": [
    "##### Step 4: Instantiate Model, Loss, and Optimizer"
   ]
  },
  {
   "cell_type": "code",
   "execution_count": 5,
   "id": "57570de9",
   "metadata": {},
   "outputs": [],
   "source": [
    "model=LinearRegressionModel()\n",
    "loss_fn=nn.MSELoss() # Mean Square Error Loss\n",
    "optimizer=optim.SGD(model.parameters(),lr=0.1) #Gradient Descent"
   ]
  },
  {
   "cell_type": "markdown",
   "id": "d638d3c3",
   "metadata": {},
   "source": [
    "#### What's happening:\n",
    "\n",
    "* `model.parameters()` = gives all weights and biases in the model\n",
    "\n",
    "* `optimizer.step()` = does the weight update\n",
    "\n",
    "* `optimizer.zero_grad()` = resets the gradients for next epoch"
   ]
  },
  {
   "cell_type": "markdown",
   "id": "ccd52300",
   "metadata": {},
   "source": [
    "##### Step 5: Training Loop"
   ]
  },
  {
   "cell_type": "code",
   "execution_count": 6,
   "id": "e442289b",
   "metadata": {},
   "outputs": [
    {
     "name": "stdout",
     "output_type": "stream",
     "text": [
      "Epoch 0 : Loss=19.7527\n",
      "Epoch 10 : Loss=0.4409\n",
      "Epoch 20 : Loss=0.0199\n",
      "Epoch 30 : Loss=0.0101\n",
      "Epoch 40 : Loss=0.0099\n",
      "Epoch 50 : Loss=0.0099\n",
      "Epoch 60 : Loss=0.0099\n",
      "Epoch 70 : Loss=0.0099\n",
      "Epoch 80 : Loss=0.0099\n",
      "Epoch 90 : Loss=0.0099\n"
     ]
    }
   ],
   "source": [
    "epochs=100 \n",
    "losses=[]\n",
    "\n",
    "for epoch in range(epochs):\n",
    "    y_pred=model(X) #Forward Pass\n",
    "    loss=loss_fn(y_pred,y) #Compute Loss\n",
    "    \n",
    "    optimizer.zero_grad() #zero gradients\n",
    "    loss.backward() #Backward Pass\n",
    "    optimizer.step() #Update weights\n",
    "    losses.append(loss.item())\n",
    "    if(epoch%10==0):\n",
    "        print(f\"Epoch {epoch} : Loss={loss.item():.4f}\")\n",
    "    "
   ]
  },
  {
   "cell_type": "markdown",
   "id": "47cf4bb3",
   "metadata": {},
   "source": [
    "##### Step 6: Plotting the results"
   ]
  },
  {
   "cell_type": "code",
   "execution_count": 11,
   "id": "d9c6f97a",
   "metadata": {},
   "outputs": [
    {
     "data": {
      "image/png": "[encoded data removed]",
      "text/plain": [
       "<Figure size 640x480 with 1 Axes>"
      ]
     },
     "metadata": {},
     "output_type": "display_data"
    },
    {
     "data": {
      "image/png": "[encoded data removed]",
      "text/plain": [
       "<Figure size 640x480 with 1 Axes>"
      ]
     },
     "metadata": {},
     "output_type": "display_data"
    }
   ],
   "source": [
    "plt.plot(losses)\n",
    "plt.title(\"Loss Curve\")\n",
    "plt.xlabel(\"Epochs\")\n",
    "plt.ylabel(\"MSE Losses\")\n",
    "plt.show()\n",
    "\n",
    "#plot learned line vs real data\n",
    "plt.scatter(X.detach().numpy(),y.detach().numpy(),label=\"Ground Truth\")\n",
    "plt.plot(X.detach().numpy(),y_pred.detach().numpy(),color=\"Red\",label=\"Prediction\")\n",
    "plt.legend()\n",
    "plt.show()"
   ]
  },
  {
   "cell_type": "markdown",
   "id": "06ad4dcc",
   "metadata": {},
   "source": [
    "#### What Did PyTorch Simplify?"
   ]
  },
  {
   "cell_type": "markdown",
   "id": "ade2fd7f",
   "metadata": {},
   "source": [
    "| Component        | Day 2 (Manual)          | Day 3 (Simplified)              |\n",
    "| ---------------- | ----------------------- | ------------------------------- |\n",
    "| Model structure  | You wrote equations     | Use `nn.Linear`                 |\n",
    "| Loss function    | Manual formula          | Use `nn.MSELoss()`              |\n",
    "| Gradient calc    | `.backward()` manually  | Still same                      |\n",
    "| Weight updates   | Manual `w -= lr * grad` | Use `optimizer.step()`          |\n",
    "| Reset gradients  | `grad.zero_()`          | Use `optimizer.zero_grad()`     |\n",
    "| Model parameters | Manual tensors          | `model.parameters()` handles it |\n"
   ]
  },
  {
   "cell_type": "markdown",
   "id": "aacd5781",
   "metadata": {},
   "source": [
    "#### What is nn.Sequential?\n",
    "\n",
    "`nn.Sequential` is a convenient wrapper in PyTorch that allows you to define a stack of layers in order, without writing a custom `forward()` function."
   ]
  },
  {
   "cell_type": "markdown",
   "id": "ff085b3e",
   "metadata": {},
   "source": [
    "### Intuition:\n",
    "\n",
    "* Imagine you’re building a network like this:\n",
    "\n",
    "Input → Linear → ReLU → Linear → Output"
   ]
  },
  {
   "cell_type": "markdown",
   "id": "61edde75",
   "metadata": {},
   "source": [
    "Instead of writing this manually in `forward()`, you can just pass the layers to nn.Sequential in order."
   ]
  },
  {
   "cell_type": "markdown",
   "id": "9c414e2f",
   "metadata": {},
   "source": [
    "#### Without nn.Sequential (Manual Definition):"
   ]
  },
  {
   "cell_type": "code",
   "execution_count": 12,
   "id": "a272e165",
   "metadata": {},
   "outputs": [],
   "source": [
    "class Net(nn.Module):\n",
    "    def __init__(self):\n",
    "        super().__init__()\n",
    "        self.fc1 = nn.Linear(10, 20)\n",
    "        self.relu = nn.ReLU()\n",
    "        self.fc2 = nn.Linear(20, 1)\n",
    "\n",
    "    def forward(self, x):\n",
    "        x = self.fc1(x)\n",
    "        x = self.relu(x)\n",
    "        x = self.fc2(x)\n",
    "        return x"
   ]
  },
  {
   "cell_type": "markdown",
   "id": "4cd7b557",
   "metadata": {},
   "source": [
    "You had to:\n",
    "\n",
    "* Name each layer (`fc1`, `relu`, `fc2`)\n",
    "\n",
    "* Manually chain them in `forward()`"
   ]
  },
  {
   "cell_type": "markdown",
   "id": "505f41b6",
   "metadata": {},
   "source": [
    "#### With nn.Sequential (Shortcut Style):"
   ]
  },
  {
   "cell_type": "code",
   "execution_count": 13,
   "id": "cd072fd6",
   "metadata": {},
   "outputs": [],
   "source": [
    "class Net(nn.Module):\n",
    "    def __init__(self):\n",
    "        super().__init__()\n",
    "        self.model = nn.Sequential(\n",
    "            nn.Linear(10, 20),\n",
    "            nn.ReLU(),\n",
    "            nn.Linear(20, 1)\n",
    "        )\n",
    "\n",
    "    def forward(self, x):\n",
    "        return self.model(x)\n"
   ]
  },
  {
   "cell_type": "markdown",
   "id": "682482e1",
   "metadata": {},
   "source": [
    "* <b>Advantages</b>: No need to write the `forward()` logic layer-by-layer — it’s already composed sequentially."
   ]
  },
  {
   "cell_type": "markdown",
   "id": "b4c89601",
   "metadata": {},
   "source": [
    "#### Comparison Table:\n",
    "\n",
    "| Feature             | Manual (`nn.Module`)     | `nn.Sequential`                       |\n",
    "| ------------------- | ------------------------ | ------------------------------------- |\n",
    "| Control over layers | Full (can do branching)  | Limited (strictly sequential)         |\n",
    "| Code verbosity      | More code                | Less code                             |\n",
    "| Flexibility         | High (loops, conditions) | Low (just stack layers)               |\n",
    "| Best use case       | Complex models           | Simple feedforward / CNN blocks       |\n",
    "| Layer naming        | Named (`self.fc1`, etc.) | Indexed (like `model[0]`, `model[1]`) |\n"
   ]
  },
  {
   "cell_type": "markdown",
   "id": "957eccc4",
   "metadata": {},
   "source": [
    "#### When to use `nn.Sequential`?\n",
    "\n",
    "--> <b> Use when :</b>\n",
    "\n",
    "* You have simple stack of layers (eg. Linear->ReLU->Linear->ReLU->Output)\n",
    "* Also handy for CNN feature extraction:\n"
   ]
  },
  {
   "cell_type": "code",
   "execution_count": 15,
   "id": "c8e654de",
   "metadata": {},
   "outputs": [],
   "source": [
    "#self.cnn=\n",
    "cnn = nn.Sequential(\n",
    "    nn.Conv2d(1, 16, 3, padding=1),\n",
    "    nn.ReLU(),\n",
    "    nn.MaxPool2d(2)\n",
    ")\n"
   ]
  },
  {
   "cell_type": "markdown",
   "id": "2cb8ce18",
   "metadata": {},
   "source": [
    "* Avoid when:\n",
    "\n",
    "`You need conditional logic, skip connections, branching, etc.`"
   ]
  },
  {
   "cell_type": "markdown",
   "id": "f98a75e8",
   "metadata": {},
   "source": []
  }
 ],
 "metadata": {
  "kernelspec": {
   "display_name": "Python 3",
   "language": "python",
   "name": "python3"
  },
  "language_info": {
   "codemirror_mode": {
    "name": "ipython",
    "version": 3
   },
   "file_extension": ".py",
   "mimetype": "text/x-python",
   "name": "python",
   "nbconvert_exporter": "python",
   "pygments_lexer": "ipython3",
   "version": "3.10.18"
  }
 },
 "nbformat": 4,
 "nbformat_minor": 5
}
